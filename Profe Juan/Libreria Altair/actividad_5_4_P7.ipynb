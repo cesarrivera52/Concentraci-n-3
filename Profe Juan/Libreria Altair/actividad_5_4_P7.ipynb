{
  "cells": [
    {
      "cell_type": "markdown",
      "metadata": {
        "id": "veueD0-jfM3F"
      },
      "source": [
        "EQUIPO 2\n",
        "\n",
        "Actividad 5.5 Graficas de comparación con Altair"
      ]
    },
    {
      "cell_type": "code",
      "execution_count": 2,
      "metadata": {
        "id": "9cFidysyfM3G"
      },
      "outputs": [],
      "source": [
        "import pandas as pd\n",
        "from sklearn.preprocessing import StandardScaler\n",
        "import matplotlib.pyplot as plt\n",
        "from matplotlib.ticker import AutoMinorLocator, MultipleLocator\n",
        "from matplotlib import ticker\n",
        "import numpy as np\n",
        "import math\n",
        "\n",
        "import altair as alt"
      ]
    },
    {
      "cell_type": "code",
      "execution_count": 3,
      "metadata": {
        "id": "dcsxhHNZfM3H"
      },
      "outputs": [],
      "source": [
        "p7 = pd.read_csv(\"P07_v03_ALL_SESIONS.csv\")\n",
        "p11 = pd.read_csv(\"P11_v03_ALL_SESION.csv\")"
      ]
    },
    {
      "cell_type": "code",
      "execution_count": 4,
      "metadata": {
        "id": "VA4NFv3pfM3I",
        "outputId": "dc753f35-2403-43fb-dea9-ad0de2137629"
      },
      "outputs": [
        {
          "data": {
            "text/html": [
              "<div>\n",
              "<style scoped>\n",
              "    .dataframe tbody tr th:only-of-type {\n",
              "        vertical-align: middle;\n",
              "    }\n",
              "\n",
              "    .dataframe tbody tr th {\n",
              "        vertical-align: top;\n",
              "    }\n",
              "\n",
              "    .dataframe thead th {\n",
              "        text-align: right;\n",
              "    }\n",
              "</style>\n",
              "<table border=\"1\" class=\"dataframe\">\n",
              "  <thead>\n",
              "    <tr style=\"text-align: right;\">\n",
              "      <th></th>\n",
              "      <th>Veloc</th>\n",
              "      <th>Acele</th>\n",
              "      <th>Des_x</th>\n",
              "      <th>Des_y</th>\n",
              "      <th>Des_z</th>\n",
              "      <th>Presn</th>\n",
              "      <th>VelPr</th>\n",
              "      <th>AcePr</th>\n",
              "      <th>F5EEX</th>\n",
              "      <th>F6EES</th>\n",
              "      <th>...</th>\n",
              "      <th>F20MH</th>\n",
              "      <th>F1EBX</th>\n",
              "      <th>F2EBS</th>\n",
              "      <th>F4EBX</th>\n",
              "      <th>F3EBS</th>\n",
              "      <th>01_C</th>\n",
              "      <th>02_A</th>\n",
              "      <th>03_D</th>\n",
              "      <th>04_M</th>\n",
              "      <th>time</th>\n",
              "    </tr>\n",
              "  </thead>\n",
              "  <tbody>\n",
              "    <tr>\n",
              "      <th>0</th>\n",
              "      <td>0.191246</td>\n",
              "      <td>0.069119</td>\n",
              "      <td>0.117477</td>\n",
              "      <td>0.256040</td>\n",
              "      <td>0.009921</td>\n",
              "      <td>1.000000</td>\n",
              "      <td>0.000000</td>\n",
              "      <td>0.000000</td>\n",
              "      <td>0.354846</td>\n",
              "      <td>0.445257</td>\n",
              "      <td>...</td>\n",
              "      <td>0.324511</td>\n",
              "      <td>0.144152</td>\n",
              "      <td>0.710069</td>\n",
              "      <td>0.645510</td>\n",
              "      <td>0.412842</td>\n",
              "      <td>-1</td>\n",
              "      <td>-1</td>\n",
              "      <td>-1</td>\n",
              "      <td>-1</td>\n",
              "      <td>0</td>\n",
              "    </tr>\n",
              "    <tr>\n",
              "      <th>1</th>\n",
              "      <td>0.227600</td>\n",
              "      <td>0.022417</td>\n",
              "      <td>0.170484</td>\n",
              "      <td>0.269475</td>\n",
              "      <td>0.056222</td>\n",
              "      <td>1.000000</td>\n",
              "      <td>0.000000</td>\n",
              "      <td>0.000000</td>\n",
              "      <td>0.382919</td>\n",
              "      <td>0.440840</td>\n",
              "      <td>...</td>\n",
              "      <td>0.306889</td>\n",
              "      <td>0.157104</td>\n",
              "      <td>0.649362</td>\n",
              "      <td>0.648283</td>\n",
              "      <td>0.412262</td>\n",
              "      <td>-1</td>\n",
              "      <td>-1</td>\n",
              "      <td>-1</td>\n",
              "      <td>-1</td>\n",
              "      <td>3</td>\n",
              "    </tr>\n",
              "    <tr>\n",
              "      <th>2</th>\n",
              "      <td>0.197158</td>\n",
              "      <td>0.016593</td>\n",
              "      <td>0.090188</td>\n",
              "      <td>0.256400</td>\n",
              "      <td>0.071611</td>\n",
              "      <td>0.833333</td>\n",
              "      <td>0.250000</td>\n",
              "      <td>0.500000</td>\n",
              "      <td>0.285470</td>\n",
              "      <td>0.423134</td>\n",
              "      <td>...</td>\n",
              "      <td>0.296270</td>\n",
              "      <td>0.162034</td>\n",
              "      <td>0.639515</td>\n",
              "      <td>0.618015</td>\n",
              "      <td>0.398226</td>\n",
              "      <td>-1</td>\n",
              "      <td>-1</td>\n",
              "      <td>-1</td>\n",
              "      <td>-1</td>\n",
              "      <td>6</td>\n",
              "    </tr>\n",
              "    <tr>\n",
              "      <th>3</th>\n",
              "      <td>0.142945</td>\n",
              "      <td>0.052955</td>\n",
              "      <td>0.073806</td>\n",
              "      <td>0.157591</td>\n",
              "      <td>0.050316</td>\n",
              "      <td>0.833333</td>\n",
              "      <td>0.500000</td>\n",
              "      <td>0.000000</td>\n",
              "      <td>0.254811</td>\n",
              "      <td>0.534744</td>\n",
              "      <td>...</td>\n",
              "      <td>0.286023</td>\n",
              "      <td>0.187410</td>\n",
              "      <td>0.632932</td>\n",
              "      <td>0.612956</td>\n",
              "      <td>0.383100</td>\n",
              "      <td>-1</td>\n",
              "      <td>-1</td>\n",
              "      <td>-1</td>\n",
              "      <td>-1</td>\n",
              "      <td>9</td>\n",
              "    </tr>\n",
              "    <tr>\n",
              "      <th>4</th>\n",
              "      <td>0.139948</td>\n",
              "      <td>0.049105</td>\n",
              "      <td>0.122286</td>\n",
              "      <td>0.138448</td>\n",
              "      <td>0.042417</td>\n",
              "      <td>0.666667</td>\n",
              "      <td>0.500000</td>\n",
              "      <td>0.000000</td>\n",
              "      <td>0.190403</td>\n",
              "      <td>0.563610</td>\n",
              "      <td>...</td>\n",
              "      <td>0.305029</td>\n",
              "      <td>0.213902</td>\n",
              "      <td>0.642250</td>\n",
              "      <td>0.580537</td>\n",
              "      <td>0.356163</td>\n",
              "      <td>-1</td>\n",
              "      <td>-1</td>\n",
              "      <td>-1</td>\n",
              "      <td>-1</td>\n",
              "      <td>12</td>\n",
              "    </tr>\n",
              "    <tr>\n",
              "      <th>...</th>\n",
              "      <td>...</td>\n",
              "      <td>...</td>\n",
              "      <td>...</td>\n",
              "      <td>...</td>\n",
              "      <td>...</td>\n",
              "      <td>...</td>\n",
              "      <td>...</td>\n",
              "      <td>...</td>\n",
              "      <td>...</td>\n",
              "      <td>...</td>\n",
              "      <td>...</td>\n",
              "      <td>...</td>\n",
              "      <td>...</td>\n",
              "      <td>...</td>\n",
              "      <td>...</td>\n",
              "      <td>...</td>\n",
              "      <td>...</td>\n",
              "      <td>...</td>\n",
              "      <td>...</td>\n",
              "      <td>...</td>\n",
              "      <td>...</td>\n",
              "    </tr>\n",
              "    <tr>\n",
              "      <th>9188</th>\n",
              "      <td>0.407020</td>\n",
              "      <td>0.350278</td>\n",
              "      <td>0.579470</td>\n",
              "      <td>0.290449</td>\n",
              "      <td>0.730194</td>\n",
              "      <td>0.190476</td>\n",
              "      <td>0.000000</td>\n",
              "      <td>0.000000</td>\n",
              "      <td>0.269351</td>\n",
              "      <td>0.117915</td>\n",
              "      <td>...</td>\n",
              "      <td>0.341969</td>\n",
              "      <td>0.272908</td>\n",
              "      <td>0.776797</td>\n",
              "      <td>0.274091</td>\n",
              "      <td>0.245180</td>\n",
              "      <td>-1</td>\n",
              "      <td>-1</td>\n",
              "      <td>-1</td>\n",
              "      <td>-1</td>\n",
              "      <td>27564</td>\n",
              "    </tr>\n",
              "    <tr>\n",
              "      <th>9189</th>\n",
              "      <td>0.324212</td>\n",
              "      <td>0.552481</td>\n",
              "      <td>0.463448</td>\n",
              "      <td>0.210629</td>\n",
              "      <td>0.642435</td>\n",
              "      <td>0.198413</td>\n",
              "      <td>0.035714</td>\n",
              "      <td>0.058824</td>\n",
              "      <td>0.321959</td>\n",
              "      <td>0.160984</td>\n",
              "      <td>...</td>\n",
              "      <td>0.348980</td>\n",
              "      <td>0.250174</td>\n",
              "      <td>0.773886</td>\n",
              "      <td>0.326970</td>\n",
              "      <td>0.257277</td>\n",
              "      <td>-1</td>\n",
              "      <td>-1</td>\n",
              "      <td>-1</td>\n",
              "      <td>-1</td>\n",
              "      <td>27567</td>\n",
              "    </tr>\n",
              "    <tr>\n",
              "      <th>9190</th>\n",
              "      <td>0.128117</td>\n",
              "      <td>0.073647</td>\n",
              "      <td>0.175793</td>\n",
              "      <td>0.096799</td>\n",
              "      <td>0.251388</td>\n",
              "      <td>0.206349</td>\n",
              "      <td>0.035714</td>\n",
              "      <td>0.058824</td>\n",
              "      <td>0.314978</td>\n",
              "      <td>0.177591</td>\n",
              "      <td>...</td>\n",
              "      <td>0.354896</td>\n",
              "      <td>0.202753</td>\n",
              "      <td>0.818124</td>\n",
              "      <td>0.384140</td>\n",
              "      <td>0.317961</td>\n",
              "      <td>-1</td>\n",
              "      <td>-1</td>\n",
              "      <td>-1</td>\n",
              "      <td>-1</td>\n",
              "      <td>27570</td>\n",
              "    </tr>\n",
              "    <tr>\n",
              "      <th>9191</th>\n",
              "      <td>0.170067</td>\n",
              "      <td>0.028584</td>\n",
              "      <td>0.277457</td>\n",
              "      <td>0.118724</td>\n",
              "      <td>0.281708</td>\n",
              "      <td>0.214286</td>\n",
              "      <td>0.000000</td>\n",
              "      <td>0.000000</td>\n",
              "      <td>0.287029</td>\n",
              "      <td>0.166591</td>\n",
              "      <td>...</td>\n",
              "      <td>0.388358</td>\n",
              "      <td>0.203535</td>\n",
              "      <td>0.849418</td>\n",
              "      <td>0.437443</td>\n",
              "      <td>0.384135</td>\n",
              "      <td>-1</td>\n",
              "      <td>-1</td>\n",
              "      <td>-1</td>\n",
              "      <td>-1</td>\n",
              "      <td>27573</td>\n",
              "    </tr>\n",
              "    <tr>\n",
              "      <th>9192</th>\n",
              "      <td>0.177338</td>\n",
              "      <td>0.010829</td>\n",
              "      <td>0.349046</td>\n",
              "      <td>0.128175</td>\n",
              "      <td>0.237330</td>\n",
              "      <td>0.214286</td>\n",
              "      <td>0.000000</td>\n",
              "      <td>0.000000</td>\n",
              "      <td>0.349255</td>\n",
              "      <td>0.196657</td>\n",
              "      <td>...</td>\n",
              "      <td>0.405971</td>\n",
              "      <td>0.230312</td>\n",
              "      <td>0.826955</td>\n",
              "      <td>0.512807</td>\n",
              "      <td>0.501107</td>\n",
              "      <td>-1</td>\n",
              "      <td>-1</td>\n",
              "      <td>-1</td>\n",
              "      <td>-1</td>\n",
              "      <td>27576</td>\n",
              "    </tr>\n",
              "  </tbody>\n",
              "</table>\n",
              "<p>9193 rows × 33 columns</p>\n",
              "</div>"
            ],
            "text/plain": [
              "         Veloc     Acele     Des_x     Des_y     Des_z     Presn     VelPr  \\\n",
              "0     0.191246  0.069119  0.117477  0.256040  0.009921  1.000000  0.000000   \n",
              "1     0.227600  0.022417  0.170484  0.269475  0.056222  1.000000  0.000000   \n",
              "2     0.197158  0.016593  0.090188  0.256400  0.071611  0.833333  0.250000   \n",
              "3     0.142945  0.052955  0.073806  0.157591  0.050316  0.833333  0.500000   \n",
              "4     0.139948  0.049105  0.122286  0.138448  0.042417  0.666667  0.500000   \n",
              "...        ...       ...       ...       ...       ...       ...       ...   \n",
              "9188  0.407020  0.350278  0.579470  0.290449  0.730194  0.190476  0.000000   \n",
              "9189  0.324212  0.552481  0.463448  0.210629  0.642435  0.198413  0.035714   \n",
              "9190  0.128117  0.073647  0.175793  0.096799  0.251388  0.206349  0.035714   \n",
              "9191  0.170067  0.028584  0.277457  0.118724  0.281708  0.214286  0.000000   \n",
              "9192  0.177338  0.010829  0.349046  0.128175  0.237330  0.214286  0.000000   \n",
              "\n",
              "         AcePr     F5EEX     F6EES  ...     F20MH     F1EBX     F2EBS  \\\n",
              "0     0.000000  0.354846  0.445257  ...  0.324511  0.144152  0.710069   \n",
              "1     0.000000  0.382919  0.440840  ...  0.306889  0.157104  0.649362   \n",
              "2     0.500000  0.285470  0.423134  ...  0.296270  0.162034  0.639515   \n",
              "3     0.000000  0.254811  0.534744  ...  0.286023  0.187410  0.632932   \n",
              "4     0.000000  0.190403  0.563610  ...  0.305029  0.213902  0.642250   \n",
              "...        ...       ...       ...  ...       ...       ...       ...   \n",
              "9188  0.000000  0.269351  0.117915  ...  0.341969  0.272908  0.776797   \n",
              "9189  0.058824  0.321959  0.160984  ...  0.348980  0.250174  0.773886   \n",
              "9190  0.058824  0.314978  0.177591  ...  0.354896  0.202753  0.818124   \n",
              "9191  0.000000  0.287029  0.166591  ...  0.388358  0.203535  0.849418   \n",
              "9192  0.000000  0.349255  0.196657  ...  0.405971  0.230312  0.826955   \n",
              "\n",
              "         F4EBX     F3EBS  01_C  02_A  03_D  04_M   time  \n",
              "0     0.645510  0.412842    -1    -1    -1    -1      0  \n",
              "1     0.648283  0.412262    -1    -1    -1    -1      3  \n",
              "2     0.618015  0.398226    -1    -1    -1    -1      6  \n",
              "3     0.612956  0.383100    -1    -1    -1    -1      9  \n",
              "4     0.580537  0.356163    -1    -1    -1    -1     12  \n",
              "...        ...       ...   ...   ...   ...   ...    ...  \n",
              "9188  0.274091  0.245180    -1    -1    -1    -1  27564  \n",
              "9189  0.326970  0.257277    -1    -1    -1    -1  27567  \n",
              "9190  0.384140  0.317961    -1    -1    -1    -1  27570  \n",
              "9191  0.437443  0.384135    -1    -1    -1    -1  27573  \n",
              "9192  0.512807  0.501107    -1    -1    -1    -1  27576  \n",
              "\n",
              "[9193 rows x 33 columns]"
            ]
          },
          "execution_count": 4,
          "metadata": {},
          "output_type": "execute_result"
        }
      ],
      "source": [
        "p7[\"time\"] = p7.index*3\n",
        "p11[\"time\"] = p11.index*3\n",
        "p7"
      ]
    },
    {
      "cell_type": "code",
      "execution_count": 5,
      "metadata": {
        "id": "ZwmmxcerfM3I",
        "outputId": "718f5a50-ab4f-450a-b23a-504a6043f053"
      },
      "outputs": [
        {
          "data": {
            "text/plain": [
              "0       0.281879\n",
              "1       0.323793\n",
              "2       0.281075\n",
              "3       0.181146\n",
              "4       0.189528\n",
              "          ...   \n",
              "9188    0.976385\n",
              "9189    0.819677\n",
              "9190    0.321666\n",
              "9191    0.412840\n",
              "9192    0.441121\n",
              "Name: Distancia, Length: 9193, dtype: float64"
            ]
          },
          "execution_count": 5,
          "metadata": {},
          "output_type": "execute_result"
        }
      ],
      "source": [
        "def distance(x, y, z):\n",
        "    return math.sqrt(x**2 + y**2 + z**2)\n",
        "\n",
        "p7['Distancia'] = p7.apply(lambda row: distance(row['Des_x'], row['Des_y'], row['Des_z']), axis=1)\n",
        "p11['Distancia'] = p11.apply(lambda row: distance(row['Des_x'], row['Des_y'], row['Des_z']), axis=1)\n",
        "\n",
        "p7['Distancia']"
      ]
    },
    {
      "cell_type": "code",
      "execution_count": 6,
      "metadata": {
        "id": "AfInbJ8zfM3J",
        "outputId": "ebe2c74e-9520-450b-e9bc-3ee382a809d3"
      },
      "outputs": [
        {
          "data": {
            "text/html": [
              "<div>\n",
              "<style scoped>\n",
              "    .dataframe tbody tr th:only-of-type {\n",
              "        vertical-align: middle;\n",
              "    }\n",
              "\n",
              "    .dataframe tbody tr th {\n",
              "        vertical-align: top;\n",
              "    }\n",
              "\n",
              "    .dataframe thead th {\n",
              "        text-align: right;\n",
              "    }\n",
              "</style>\n",
              "<table border=\"1\" class=\"dataframe\">\n",
              "  <thead>\n",
              "    <tr style=\"text-align: right;\">\n",
              "      <th></th>\n",
              "      <th>Column</th>\n",
              "      <th>Zero_Crossings</th>\n",
              "    </tr>\n",
              "  </thead>\n",
              "  <tbody>\n",
              "    <tr>\n",
              "      <th>0</th>\n",
              "      <td>Veloc</td>\n",
              "      <td>1782</td>\n",
              "    </tr>\n",
              "    <tr>\n",
              "      <th>1</th>\n",
              "      <td>Acele</td>\n",
              "      <td>2739</td>\n",
              "    </tr>\n",
              "    <tr>\n",
              "      <th>2</th>\n",
              "      <td>Des_x</td>\n",
              "      <td>1855</td>\n",
              "    </tr>\n",
              "    <tr>\n",
              "      <th>3</th>\n",
              "      <td>Des_y</td>\n",
              "      <td>1848</td>\n",
              "    </tr>\n",
              "    <tr>\n",
              "      <th>4</th>\n",
              "      <td>Des_z</td>\n",
              "      <td>1701</td>\n",
              "    </tr>\n",
              "    <tr>\n",
              "      <th>5</th>\n",
              "      <td>Presn</td>\n",
              "      <td>723</td>\n",
              "    </tr>\n",
              "    <tr>\n",
              "      <th>6</th>\n",
              "      <td>VelPr</td>\n",
              "      <td>1738</td>\n",
              "    </tr>\n",
              "    <tr>\n",
              "      <th>7</th>\n",
              "      <td>AcePr</td>\n",
              "      <td>3018</td>\n",
              "    </tr>\n",
              "    <tr>\n",
              "      <th>8</th>\n",
              "      <td>F5EEX</td>\n",
              "      <td>1098</td>\n",
              "    </tr>\n",
              "    <tr>\n",
              "      <th>9</th>\n",
              "      <td>F6EES</td>\n",
              "      <td>1284</td>\n",
              "    </tr>\n",
              "    <tr>\n",
              "      <th>10</th>\n",
              "      <td>F8EIX</td>\n",
              "      <td>1070</td>\n",
              "    </tr>\n",
              "    <tr>\n",
              "      <th>11</th>\n",
              "      <td>F7EIS</td>\n",
              "      <td>1026</td>\n",
              "    </tr>\n",
              "    <tr>\n",
              "      <th>12</th>\n",
              "      <td>F9EEX</td>\n",
              "      <td>1122</td>\n",
              "    </tr>\n",
              "    <tr>\n",
              "      <th>13</th>\n",
              "      <td>F10ES</td>\n",
              "      <td>962</td>\n",
              "    </tr>\n",
              "    <tr>\n",
              "      <th>14</th>\n",
              "      <td>F11EX</td>\n",
              "      <td>998</td>\n",
              "    </tr>\n",
              "    <tr>\n",
              "      <th>15</th>\n",
              "      <td>F12ES</td>\n",
              "      <td>1210</td>\n",
              "    </tr>\n",
              "    <tr>\n",
              "      <th>16</th>\n",
              "      <td>F13EV</td>\n",
              "      <td>733</td>\n",
              "    </tr>\n",
              "    <tr>\n",
              "      <th>17</th>\n",
              "      <td>F14EV</td>\n",
              "      <td>759</td>\n",
              "    </tr>\n",
              "    <tr>\n",
              "      <th>18</th>\n",
              "      <td>F17MS</td>\n",
              "      <td>589</td>\n",
              "    </tr>\n",
              "    <tr>\n",
              "      <th>19</th>\n",
              "      <td>F18MX</td>\n",
              "      <td>772</td>\n",
              "    </tr>\n",
              "    <tr>\n",
              "      <th>20</th>\n",
              "      <td>F15MS</td>\n",
              "      <td>781</td>\n",
              "    </tr>\n",
              "    <tr>\n",
              "      <th>21</th>\n",
              "      <td>F16MX</td>\n",
              "      <td>634</td>\n",
              "    </tr>\n",
              "    <tr>\n",
              "      <th>22</th>\n",
              "      <td>F19MH</td>\n",
              "      <td>921</td>\n",
              "    </tr>\n",
              "    <tr>\n",
              "      <th>23</th>\n",
              "      <td>F20MH</td>\n",
              "      <td>509</td>\n",
              "    </tr>\n",
              "    <tr>\n",
              "      <th>24</th>\n",
              "      <td>F1EBX</td>\n",
              "      <td>612</td>\n",
              "    </tr>\n",
              "    <tr>\n",
              "      <th>25</th>\n",
              "      <td>F2EBS</td>\n",
              "      <td>738</td>\n",
              "    </tr>\n",
              "    <tr>\n",
              "      <th>26</th>\n",
              "      <td>F4EBX</td>\n",
              "      <td>734</td>\n",
              "    </tr>\n",
              "    <tr>\n",
              "      <th>27</th>\n",
              "      <td>F3EBS</td>\n",
              "      <td>742</td>\n",
              "    </tr>\n",
              "    <tr>\n",
              "      <th>28</th>\n",
              "      <td>01_C</td>\n",
              "      <td>20</td>\n",
              "    </tr>\n",
              "    <tr>\n",
              "      <th>29</th>\n",
              "      <td>02_A</td>\n",
              "      <td>68</td>\n",
              "    </tr>\n",
              "    <tr>\n",
              "      <th>30</th>\n",
              "      <td>03_D</td>\n",
              "      <td>42</td>\n",
              "    </tr>\n",
              "    <tr>\n",
              "      <th>31</th>\n",
              "      <td>04_M</td>\n",
              "      <td>56</td>\n",
              "    </tr>\n",
              "    <tr>\n",
              "      <th>32</th>\n",
              "      <td>time</td>\n",
              "      <td>0</td>\n",
              "    </tr>\n",
              "    <tr>\n",
              "      <th>33</th>\n",
              "      <td>Distancia</td>\n",
              "      <td>1940</td>\n",
              "    </tr>\n",
              "  </tbody>\n",
              "</table>\n",
              "</div>"
            ],
            "text/plain": [
              "       Column  Zero_Crossings\n",
              "0       Veloc            1782\n",
              "1       Acele            2739\n",
              "2       Des_x            1855\n",
              "3       Des_y            1848\n",
              "4       Des_z            1701\n",
              "5       Presn             723\n",
              "6       VelPr            1738\n",
              "7       AcePr            3018\n",
              "8       F5EEX            1098\n",
              "9       F6EES            1284\n",
              "10      F8EIX            1070\n",
              "11      F7EIS            1026\n",
              "12      F9EEX            1122\n",
              "13      F10ES             962\n",
              "14      F11EX             998\n",
              "15      F12ES            1210\n",
              "16      F13EV             733\n",
              "17      F14EV             759\n",
              "18      F17MS             589\n",
              "19      F18MX             772\n",
              "20      F15MS             781\n",
              "21      F16MX             634\n",
              "22      F19MH             921\n",
              "23      F20MH             509\n",
              "24      F1EBX             612\n",
              "25      F2EBS             738\n",
              "26      F4EBX             734\n",
              "27      F3EBS             742\n",
              "28       01_C              20\n",
              "29       02_A              68\n",
              "30       03_D              42\n",
              "31       04_M              56\n",
              "32       time               0\n",
              "33  Distancia            1940"
            ]
          },
          "execution_count": 6,
          "metadata": {},
          "output_type": "execute_result"
        }
      ],
      "source": [
        "# Filtramos solo las columnas numéricas para estandarizar\n",
        "numeric_cols = p7.select_dtypes(include=['number']).columns\n",
        "\n",
        "# Estandarización de las columnas numéricas\n",
        "scaler = StandardScaler()\n",
        "my_data_normalized = pd.DataFrame(scaler.fit_transform(p7[numeric_cols]), columns=numeric_cols)\n",
        "\n",
        "# Contar cruces por cero para cada columna\n",
        "cross_zero_counts = {}\n",
        "for col in my_data_normalized.columns:\n",
        "    # Contar cruces por cero (un cambio de signo entre valores consecutivos)\n",
        "    cross_zero_counts[col] = ((my_data_normalized[col].shift(1) * my_data_normalized[col]) < 0).sum()\n",
        "\n",
        "# Convertir el resultado en un DataFrame\n",
        "df_cross_zero_counts = pd.DataFrame(list(cross_zero_counts.items()), columns=['Column', 'Zero_Crossings'])\n",
        "\n",
        "# Mostrar el resultado\n",
        "df_cross_zero_counts"
      ]
    },
    {
      "cell_type": "code",
      "execution_count": 7,
      "metadata": {
        "id": "ToRcSXJhfM3J",
        "outputId": "2285c5b0-303a-49b8-af17-43043a344514"
      },
      "outputs": [
        {
          "data": {
            "image/png": "[encoded data removed]",
            "text/plain": [
              "<Figure size 2000x1500 with 1 Axes>"
            ]
          },
          "metadata": {},
          "output_type": "display_data"
        }
      ],
      "source": [
        "plt.figure(figsize=(20, 15))\n",
        "\n",
        "# Crear la gráfica de barras\n",
        "plt.style.use('seaborn-v0_8')\n",
        "# Gráfica de barras\n",
        "colors = plt.get_cmap(\"Set1\").colors  # Usamos la paleta Set2 para colores suaves y equilibrados\n",
        "\n",
        "bars = plt.bar(df_cross_zero_counts['Column'],\n",
        "               df_cross_zero_counts['Zero_Crossings'],\n",
        "               color=colors[:len(df_cross_zero_counts)])\n",
        "# Rotar las etiquetas del eje X\n",
        "plt.xticks(rotation=45)\n",
        "\n",
        "# Añadir etiquetas y título\n",
        "plt.xlabel(\"Columnas\", fontsize=12)\n",
        "plt.ylabel(\"Número de cruces por 0\", fontsize=12)\n",
        "plt.title(\"Gráfica de cruces por cero PACIENTE 7\", fontsize=14)\n",
        "\n",
        "# Mostrar el valor encima de cada barra\n",
        "for bar in bars:\n",
        "    plt.text(\n",
        "        bar.get_x() + bar.get_width() / 2,\n",
        "        bar.get_height(),\n",
        "        f'{bar.get_height():.1f}',\n",
        "        ha='center', va='bottom'\n",
        "    )\n",
        "\n",
        "plt.show()"
      ]
    },
    {
      "cell_type": "code",
      "execution_count": 8,
      "metadata": {
        "id": "p85PJ1vBfM3K",
        "outputId": "60d9d663-232a-4abb-e7d5-1a309b4bdcb9"
      },
      "outputs": [
        {
          "data": {
            "text/html": [
              "\n",
              "<style>\n",
              "  #altair-viz-d2f4c913a36041b6be98da5c6977d949.vega-embed {\n",
              "    width: 100%;\n",
              "    display: flex;\n",
              "  }\n",
              "\n",
              "  #altair-viz-d2f4c913a36041b6be98da5c6977d949.vega-embed details,\n",
              "  #altair-viz-d2f4c913a36041b6be98da5c6977d949.vega-embed details summary {\n",
              "    position: relative;\n",
              "  }\n",
              "</style>\n",
              "<div id=\"altair-viz-d2f4c913a36041b6be98da5c6977d949\"></div>\n",
              "<script type=\"text/javascript\">\n",
              "  var VEGA_DEBUG = (typeof VEGA_DEBUG == \"undefined\") ? {} : VEGA_DEBUG;\n",
              "  (function(spec, embedOpt){\n",
              "    let outputDiv = document.currentScript.previousElementSibling;\n",
              "    if (outputDiv.id !== \"altair-viz-d2f4c913a36041b6be98da5c6977d949\") {\n",
              "      outputDiv = document.getElementById(\"altair-viz-d2f4c913a36041b6be98da5c6977d949\");\n",
              "    }\n",
              "    const paths = {\n",
              "      \"vega\": \"https://cdn.jsdelivr.net/npm/vega@5?noext\",\n",
              "      \"vega-lib\": \"https://cdn.jsdelivr.net/npm/vega-lib?noext\",\n",
              "      \"vega-lite\": \"https://cdn.jsdelivr.net/npm/vega-lite@5.20.1?noext\",\n",
              "      \"vega-embed\": \"https://cdn.jsdelivr.net/npm/vega-embed@6?noext\",\n",
              "    };\n",
              "\n",
              "    function maybeLoadScript(lib, version) {\n",
              "      var key = `${lib.replace(\"-\", \"\")}_version`;\n",
              "      return (VEGA_DEBUG[key] == version) ?\n",
              "        Promise.resolve(paths[lib]) :\n",
              "        new Promise(function(resolve, reject) {\n",
              "          var s = document.createElement('script');\n",
              "          document.getElementsByTagName(\"head\")[0].appendChild(s);\n",
              "          s.async = true;\n",
              "          s.onload = () => {\n",
              "            VEGA_DEBUG[key] = version;\n",
              "            return resolve(paths[lib]);\n",
              "          };\n",
              "          s.onerror = () => reject(`Error loading script: ${paths[lib]}`);\n",
              "          s.src = paths[lib];\n",
              "        });\n",
              "    }\n",
              "\n",
              "    function showError(err) {\n",
              "      outputDiv.innerHTML = `<div class=\"error\" style=\"color:red;\">${err}</div>`;\n",
              "      throw err;\n",
              "    }\n",
              "\n",
              "    function displayChart(vegaEmbed) {\n",
              "      vegaEmbed(outputDiv, spec, embedOpt)\n",
              "        .catch(err => showError(`Javascript Error: ${err.message}<br>This usually means there's a typo in your chart specification. See the javascript console for the full traceback.`));\n",
              "    }\n",
              "\n",
              "    if(typeof define === \"function\" && define.amd) {\n",
              "      requirejs.config({paths});\n",
              "      require([\"vega-embed\"], displayChart, err => showError(`Error loading script: ${err.message}`));\n",
              "    } else {\n",
              "      maybeLoadScript(\"vega\", \"5\")\n",
              "        .then(() => maybeLoadScript(\"vega-lite\", \"5.20.1\"))\n",
              "        .then(() => maybeLoadScript(\"vega-embed\", \"6\"))\n",
              "        .catch(showError)\n",
              "        .then(() => displayChart(vegaEmbed));\n",
              "    }\n",
              "  })({\"config\": {\"view\": {\"continuousWidth\": 300, \"continuousHeight\": 300}, \"axis\": {\"labelAngle\": 45}}, \"data\": {\"name\": \"data-585df3dd437cecd70e9ab3cf0cde46d3\"}, \"mark\": {\"type\": \"text\", \"align\": \"center\", \"baseline\": \"bottom\", \"dy\": -5}, \"encoding\": {\"color\": {\"field\": \"Column\", \"scale\": {\"scheme\": \"set1\"}, \"type\": \"nominal\"}, \"text\": {\"field\": \"Zero_Crossings\", \"type\": \"quantitative\"}, \"x\": {\"field\": \"Column\", \"sort\": null, \"title\": \"Columnas\", \"type\": \"nominal\"}, \"y\": {\"field\": \"Zero_Crossings\", \"title\": \"N\\u00famero de cruces por 0\", \"type\": \"quantitative\"}}, \"height\": 400, \"title\": \"Gr\\u00e1fica de cruces por cero PACIENTE 7\", \"width\": 600, \"$schema\": \"https://vega.github.io/schema/vega-lite/v5.20.1.json\", \"datasets\": {\"data-585df3dd437cecd70e9ab3cf0cde46d3\": [{\"Column\": \"Veloc\", \"Zero_Crossings\": 1782}, {\"Column\": \"Acele\", \"Zero_Crossings\": 2739}, {\"Column\": \"Des_x\", \"Zero_Crossings\": 1855}, {\"Column\": \"Des_y\", \"Zero_Crossings\": 1848}, {\"Column\": \"Des_z\", \"Zero_Crossings\": 1701}, {\"Column\": \"Presn\", \"Zero_Crossings\": 723}, {\"Column\": \"VelPr\", \"Zero_Crossings\": 1738}, {\"Column\": \"AcePr\", \"Zero_Crossings\": 3018}, {\"Column\": \"F5EEX\", \"Zero_Crossings\": 1098}, {\"Column\": \"F6EES\", \"Zero_Crossings\": 1284}, {\"Column\": \"F8EIX\", \"Zero_Crossings\": 1070}, {\"Column\": \"F7EIS\", \"Zero_Crossings\": 1026}, {\"Column\": \"F9EEX\", \"Zero_Crossings\": 1122}, {\"Column\": \"F10ES\", \"Zero_Crossings\": 962}, {\"Column\": \"F11EX\", \"Zero_Crossings\": 998}, {\"Column\": \"F12ES\", \"Zero_Crossings\": 1210}, {\"Column\": \"F13EV\", \"Zero_Crossings\": 733}, {\"Column\": \"F14EV\", \"Zero_Crossings\": 759}, {\"Column\": \"F17MS\", \"Zero_Crossings\": 589}, {\"Column\": \"F18MX\", \"Zero_Crossings\": 772}, {\"Column\": \"F15MS\", \"Zero_Crossings\": 781}, {\"Column\": \"F16MX\", \"Zero_Crossings\": 634}, {\"Column\": \"F19MH\", \"Zero_Crossings\": 921}, {\"Column\": \"F20MH\", \"Zero_Crossings\": 509}, {\"Column\": \"F1EBX\", \"Zero_Crossings\": 612}, {\"Column\": \"F2EBS\", \"Zero_Crossings\": 738}, {\"Column\": \"F4EBX\", \"Zero_Crossings\": 734}, {\"Column\": \"F3EBS\", \"Zero_Crossings\": 742}, {\"Column\": \"01_C\", \"Zero_Crossings\": 20}, {\"Column\": \"02_A\", \"Zero_Crossings\": 68}, {\"Column\": \"03_D\", \"Zero_Crossings\": 42}, {\"Column\": \"04_M\", \"Zero_Crossings\": 56}, {\"Column\": \"time\", \"Zero_Crossings\": 0}, {\"Column\": \"Distancia\", \"Zero_Crossings\": 1940}]}}, {\"mode\": \"vega-lite\"});\n",
              "</script>"
            ],
            "text/plain": [
              "alt.Chart(...)"
            ]
          },
          "metadata": {},
          "output_type": "display_data"
        }
      ],
      "source": [
        "# Configurar la gráfica de barras en Altair\n",
        "chart = alt.Chart(df_cross_zero_counts).mark_bar().encode(\n",
        "    x=alt.X('Column', sort=None, title='Columnas'),\n",
        "    y=alt.Y('Zero_Crossings', title='Número de cruces por 0'),\n",
        "    color=alt.Color('Column', scale=alt.Scale(scheme='set1'))  # Colores de la paleta Set1\n",
        ").properties(\n",
        "    title='Gráfica de cruces por cero PACIENTE 7',\n",
        "    width=600,\n",
        "    height=400\n",
        ").configure_axis(\n",
        "    labelAngle=45  # Rotar etiquetas del eje X\n",
        ").mark_text(\n",
        "    align='center',\n",
        "    baseline='bottom',\n",
        "    dy=-5  # Ajuste de posición para mostrar encima de la barra\n",
        ").encode(\n",
        "    text=alt.Text('Zero_Crossings:Q')\n",
        ")\n",
        "\n",
        "chart.display()\n"
      ]
    },
    {
      "cell_type": "code",
      "execution_count": 28,
      "metadata": {
        "id": "F-hZv_czfM3L",
        "outputId": "f46e0db9-fdc5-47ff-86b6-250b5617d5ef"
      },
      "outputs": [
        {
          "data": {
            "text/html": [
              "\n",
              "<style>\n",
              "  #altair-viz-af481caeca2842ebac2b60d30366196e.vega-embed {\n",
              "    width: 100%;\n",
              "    display: flex;\n",
              "  }\n",
              "\n",
              "  #altair-viz-af481caeca2842ebac2b60d30366196e.vega-embed details,\n",
              "  #altair-viz-af481caeca2842ebac2b60d30366196e.vega-embed details summary {\n",
              "    position: relative;\n",
              "  }\n",
              "</style>\n",
              "<div id=\"altair-viz-af481caeca2842ebac2b60d30366196e\"></div>\n",
              "<script type=\"text/javascript\">\n",
              "  var VEGA_DEBUG = (typeof VEGA_DEBUG == \"undefined\") ? {} : VEGA_DEBUG;\n",
              "  (function(spec, embedOpt){\n",
              "    let outputDiv = document.currentScript.previousElementSibling;\n",
              "    if (outputDiv.id !== \"altair-viz-af481caeca2842ebac2b60d30366196e\") {\n",
              "      outputDiv = document.getElementById(\"altair-viz-af481caeca2842ebac2b60d30366196e\");\n",
              "    }\n",
              "    const paths = {\n",
              "      \"vega\": \"https://cdn.jsdelivr.net/npm/vega@5?noext\",\n",
              "      \"vega-lib\": \"https://cdn.jsdelivr.net/npm/vega-lib?noext\",\n",
              "      \"vega-lite\": \"https://cdn.jsdelivr.net/npm/vega-lite@5.20.1?noext\",\n",
              "      \"vega-embed\": \"https://cdn.jsdelivr.net/npm/vega-embed@6?noext\",\n",
              "    };\n",
              "\n",
              "    function maybeLoadScript(lib, version) {\n",
              "      var key = `${lib.replace(\"-\", \"\")}_version`;\n",
              "      return (VEGA_DEBUG[key] == version) ?\n",
              "        Promise.resolve(paths[lib]) :\n",
              "        new Promise(function(resolve, reject) {\n",
              "          var s = document.createElement('script');\n",
              "          document.getElementsByTagName(\"head\")[0].appendChild(s);\n",
              "          s.async = true;\n",
              "          s.onload = () => {\n",
              "            VEGA_DEBUG[key] = version;\n",
              "            return resolve(paths[lib]);\n",
              "          };\n",
              "          s.onerror = () => reject(`Error loading script: ${paths[lib]}`);\n",
              "          s.src = paths[lib];\n",
              "        });\n",
              "    }\n",
              "\n",
              "    function showError(err) {\n",
              "      outputDiv.innerHTML = `<div class=\"error\" style=\"color:red;\">${err}</div>`;\n",
              "      throw err;\n",
              "    }\n",
              "\n",
              "    function displayChart(vegaEmbed) {\n",
              "      vegaEmbed(outputDiv, spec, embedOpt)\n",
              "        .catch(err => showError(`Javascript Error: ${err.message}<br>This usually means there's a typo in your chart specification. See the javascript console for the full traceback.`));\n",
              "    }\n",
              "\n",
              "    if(typeof define === \"function\" && define.amd) {\n",
              "      requirejs.config({paths});\n",
              "      require([\"vega-embed\"], displayChart, err => showError(`Error loading script: ${err.message}`));\n",
              "    } else {\n",
              "      maybeLoadScript(\"vega\", \"5\")\n",
              "        .then(() => maybeLoadScript(\"vega-lite\", \"5.20.1\"))\n",
              "        .then(() => maybeLoadScript(\"vega-embed\", \"6\"))\n",
              "        .catch(showError)\n",
              "        .then(() => displayChart(vegaEmbed));\n",
              "    }\n",
              "  })({\"config\": {\"view\": {\"continuousWidth\": 300, \"continuousHeight\": 300}}, \"layer\": [{\"mark\": {\"type\": \"bar\"}, \"encoding\": {\"color\": {\"field\": \"Legend\", \"legend\": {\"orient\": \"right\", \"title\": \"Variables (Grupos)\"}, \"scale\": {\"domain\": [\"Veloc y Acele\", \"Des_x y Des_y\", \"Des_z y Presn\", \"VelPr y AcePr\", \"F5EEX y F6EES\", \"F8EIX y F7EIS\", \"F9EEX y F10ES\", \"F11EX y F12ES\", \"F13EV y F14EV\", \"F17MS y F18MX\", \"F15MS y F16MX\", \"F19MH y F20MH\", \"F1EBX y F2EBS\", \"F4EBX y F3EBS\", \"01_C y 02_A\", \"03_D y 04_M\", \"time y Distancia\"], \"range\": [\"#1f77b4\", \"#ff7f0e\", \"#2ca02c\", \"#d62728\", \"#9467bd\", \"#8c564b\", \"#e377c2\", \"#7f7f7f\", \"#bcbd22\", \"#17becf\", \"#ffbb78\", \"#ff9896\", \"#c5b0d5\", \"#c49c94\", \"#f7b6d2\", \"#dbdb8d\", \"#9edae5\"]}, \"type\": \"nominal\"}, \"x\": {\"field\": \"Column\", \"sort\": null, \"title\": \"Columnas\", \"type\": \"nominal\"}, \"y\": {\"field\": \"Zero_Crossings\", \"title\": \"N\\u00famero de cruces por 0\", \"type\": \"quantitative\"}}, \"title\": \"Gr\\u00e1fica de cruces por cero PACIENTE 7\"}, {\"mark\": {\"type\": \"text\", \"align\": \"center\", \"baseline\": \"bottom\", \"dy\": -5}, \"encoding\": {\"color\": {\"field\": \"Legend\", \"legend\": {\"orient\": \"right\", \"title\": \"Variables (Grupos)\"}, \"scale\": {\"domain\": [\"Veloc y Acele\", \"Des_x y Des_y\", \"Des_z y Presn\", \"VelPr y AcePr\", \"F5EEX y F6EES\", \"F8EIX y F7EIS\", \"F9EEX y F10ES\", \"F11EX y F12ES\", \"F13EV y F14EV\", \"F17MS y F18MX\", \"F15MS y F16MX\", \"F19MH y F20MH\", \"F1EBX y F2EBS\", \"F4EBX y F3EBS\", \"01_C y 02_A\", \"03_D y 04_M\", \"time y Distancia\"], \"range\": [\"#1f77b4\", \"#ff7f0e\", \"#2ca02c\", \"#d62728\", \"#9467bd\", \"#8c564b\", \"#e377c2\", \"#7f7f7f\", \"#bcbd22\", \"#17becf\", \"#ffbb78\", \"#ff9896\", \"#c5b0d5\", \"#c49c94\", \"#f7b6d2\", \"#dbdb8d\", \"#9edae5\"]}, \"type\": \"nominal\"}, \"text\": {\"field\": \"Zero_Crossings\", \"type\": \"quantitative\"}, \"x\": {\"field\": \"Column\", \"sort\": null, \"title\": \"Columnas\", \"type\": \"nominal\"}, \"y\": {\"field\": \"Zero_Crossings\", \"title\": \"N\\u00famero de cruces por 0\", \"type\": \"quantitative\"}}, \"title\": \"Gr\\u00e1fica de cruces por cero PACIENTE 7\"}], \"data\": {\"name\": \"data-0a46be505368c7f2a31541d2b5db8e35\"}, \"height\": 400, \"width\": 600, \"$schema\": \"https://vega.github.io/schema/vega-lite/v5.20.1.json\", \"datasets\": {\"data-0a46be505368c7f2a31541d2b5db8e35\": [{\"Column\": \"Veloc\", \"Zero_Crossings\": 1782, \"Legend\": \"Veloc y Acele\", \"Color\": 0}, {\"Column\": \"Acele\", \"Zero_Crossings\": 2739, \"Legend\": \"Veloc y Acele\", \"Color\": 0}, {\"Column\": \"Des_x\", \"Zero_Crossings\": 1855, \"Legend\": \"Des_x y Des_y\", \"Color\": 1}, {\"Column\": \"Des_y\", \"Zero_Crossings\": 1848, \"Legend\": \"Des_x y Des_y\", \"Color\": 1}, {\"Column\": \"Des_z\", \"Zero_Crossings\": 1701, \"Legend\": \"Des_z y Presn\", \"Color\": 2}, {\"Column\": \"Presn\", \"Zero_Crossings\": 723, \"Legend\": \"Des_z y Presn\", \"Color\": 2}, {\"Column\": \"VelPr\", \"Zero_Crossings\": 1738, \"Legend\": \"VelPr y AcePr\", \"Color\": 3}, {\"Column\": \"AcePr\", \"Zero_Crossings\": 3018, \"Legend\": \"VelPr y AcePr\", \"Color\": 3}, {\"Column\": \"F5EEX\", \"Zero_Crossings\": 1098, \"Legend\": \"F5EEX y F6EES\", \"Color\": 4}, {\"Column\": \"F6EES\", \"Zero_Crossings\": 1284, \"Legend\": \"F5EEX y F6EES\", \"Color\": 4}, {\"Column\": \"F8EIX\", \"Zero_Crossings\": 1070, \"Legend\": \"F8EIX y F7EIS\", \"Color\": 5}, {\"Column\": \"F7EIS\", \"Zero_Crossings\": 1026, \"Legend\": \"F8EIX y F7EIS\", \"Color\": 5}, {\"Column\": \"F9EEX\", \"Zero_Crossings\": 1122, \"Legend\": \"F9EEX y F10ES\", \"Color\": 6}, {\"Column\": \"F10ES\", \"Zero_Crossings\": 962, \"Legend\": \"F9EEX y F10ES\", \"Color\": 6}, {\"Column\": \"F11EX\", \"Zero_Crossings\": 998, \"Legend\": \"F11EX y F12ES\", \"Color\": 7}, {\"Column\": \"F12ES\", \"Zero_Crossings\": 1210, \"Legend\": \"F11EX y F12ES\", \"Color\": 7}, {\"Column\": \"F13EV\", \"Zero_Crossings\": 733, \"Legend\": \"F13EV y F14EV\", \"Color\": 8}, {\"Column\": \"F14EV\", \"Zero_Crossings\": 759, \"Legend\": \"F13EV y F14EV\", \"Color\": 8}, {\"Column\": \"F17MS\", \"Zero_Crossings\": 589, \"Legend\": \"F17MS y F18MX\", \"Color\": 9}, {\"Column\": \"F18MX\", \"Zero_Crossings\": 772, \"Legend\": \"F17MS y F18MX\", \"Color\": 9}, {\"Column\": \"F15MS\", \"Zero_Crossings\": 781, \"Legend\": \"F15MS y F16MX\", \"Color\": 10}, {\"Column\": \"F16MX\", \"Zero_Crossings\": 634, \"Legend\": \"F15MS y F16MX\", \"Color\": 10}, {\"Column\": \"F19MH\", \"Zero_Crossings\": 921, \"Legend\": \"F19MH y F20MH\", \"Color\": 11}, {\"Column\": \"F20MH\", \"Zero_Crossings\": 509, \"Legend\": \"F19MH y F20MH\", \"Color\": 11}, {\"Column\": \"F1EBX\", \"Zero_Crossings\": 612, \"Legend\": \"F1EBX y F2EBS\", \"Color\": 12}, {\"Column\": \"F2EBS\", \"Zero_Crossings\": 738, \"Legend\": \"F1EBX y F2EBS\", \"Color\": 12}, {\"Column\": \"F4EBX\", \"Zero_Crossings\": 734, \"Legend\": \"F4EBX y F3EBS\", \"Color\": 13}, {\"Column\": \"F3EBS\", \"Zero_Crossings\": 742, \"Legend\": \"F4EBX y F3EBS\", \"Color\": 13}, {\"Column\": \"01_C\", \"Zero_Crossings\": 20, \"Legend\": \"01_C y 02_A\", \"Color\": 14}, {\"Column\": \"02_A\", \"Zero_Crossings\": 68, \"Legend\": \"01_C y 02_A\", \"Color\": 14}, {\"Column\": \"03_D\", \"Zero_Crossings\": 42, \"Legend\": \"03_D y 04_M\", \"Color\": 15}, {\"Column\": \"04_M\", \"Zero_Crossings\": 56, \"Legend\": \"03_D y 04_M\", \"Color\": 15}, {\"Column\": \"time\", \"Zero_Crossings\": 0, \"Legend\": null, \"Color\": -1}, {\"Column\": \"Distancia\", \"Zero_Crossings\": 1940, \"Legend\": \"time y Distancia\", \"Color\": 16}]}}, {\"mode\": \"vega-lite\"});\n",
              "</script>"
            ],
            "text/plain": [
              "alt.LayerChart(...)"
            ]
          },
          "metadata": {},
          "output_type": "display_data"
        }
      ],
      "source": [
        "import pandas as pd\n",
        "import altair as alt\n",
        "\n",
        "# Supongamos que df_cross_zero_counts es tu DataFrame original\n",
        "# df_cross_zero_counts = pd.DataFrame({...})\n",
        "\n",
        "# Definir una lista de 17 colores\n",
        "colors = [\n",
        "    '#1f77b4', '#ff7f0e', '#2ca02c', '#d62728', '#9467bd',\n",
        "    '#8c564b', '#e377c2', '#7f7f7f', '#bcbd22', '#17becf',\n",
        "    '#ffbb78', '#ff9896', '#c5b0d5', '#c49c94', '#f7b6d2',\n",
        "    '#dbdb8d', '#9edae5'\n",
        "]\n",
        "\n",
        "# Agrupar columnas en pares y crear etiquetas para la leyenda\n",
        "labels = []\n",
        "for i in range(0, len(df_cross_zero_counts) - 1, 2):\n",
        "    pair_label = f\"{df_cross_zero_counts['Column'].iloc[i]} y {df_cross_zero_counts['Column'].iloc[i + 1]}\"\n",
        "    labels.append(pair_label)\n",
        "\n",
        "# Agregar la última columna como un grupo único\n",
        "if len(df_cross_zero_counts) % 2 == 1:\n",
        "    labels.append(df_cross_zero_counts['Column'].iloc[-1])\n",
        "\n",
        "# Asignar las etiquetas al DataFrame\n",
        "df_cross_zero_counts['Legend'] = None\n",
        "for i, label in enumerate(labels):\n",
        "    if i < len(labels) - 1:  # Asignar el par de nombres\n",
        "        df_cross_zero_counts.loc[2 * i:2 * i + 1, 'Legend'] = label\n",
        "    else:  # Asignar la última columna sola\n",
        "        df_cross_zero_counts.loc[len(df_cross_zero_counts) - 1, 'Legend'] = label\n",
        "\n",
        "# Crear una nueva columna para los colores\n",
        "df_cross_zero_counts['Color'] = df_cross_zero_counts['Legend'].factorize()[0]\n",
        "\n",
        "# Gráfico de barras\n",
        "bars = alt.Chart(df_cross_zero_counts).mark_bar().encode(\n",
        "    x=alt.X('Column', sort=None, title='Columnas'),\n",
        "    y=alt.Y('Zero_Crossings', title='Número de cruces por 0'),\n",
        "    color=alt.Color('Legend:N', scale=alt.Scale(domain=labels, range=colors[:len(labels)]),\n",
        "                    legend=alt.Legend(title=\"Variables (Grupos)\", orient='right'))  # Leyenda a la derecha\n",
        ").properties(\n",
        "    title='Gráfica de cruces por cero PACIENTE 7',\n",
        "    width=600,\n",
        "    height=400\n",
        ")\n",
        "\n",
        "# Agregar etiquetas de texto en una capa separada\n",
        "text = bars.mark_text(\n",
        "    align='center',\n",
        "    baseline='bottom',\n",
        "    dy=-5  # Ajuste para que el texto quede sobre la barra\n",
        ").encode(\n",
        "    text='Zero_Crossings:Q'  # Cuantitative (Q), Ordinal (O), Nominal (N), Temporal (T)\n",
        ")\n",
        "\n",
        "# Combinar barras y texto\n",
        "chart = bars + text\n",
        "\n",
        "# Mostrar el gráfico\n",
        "chart.display()\n"
      ]
    },
    {
      "cell_type": "code",
      "execution_count": 29,
      "metadata": {
        "id": "w1qS0otRfM3L",
        "outputId": "06d675cf-357c-4606-f70f-d8837384408a"
      },
      "outputs": [
        {
          "name": "stderr",
          "output_type": "stream",
          "text": [
            "/var/folders/zc/0810pbdx27g4bxf79h2cbnf40000gn/T/ipykernel_10392/4046660232.py:17: UserWarning:\n",
            "\n",
            "set_ticklabels() should only be used with a fixed number of ticks, i.e. after set_ticks() or using a FixedLocator.\n",
            "\n"
          ]
        },
        {
          "data": {
            "image/png": "[encoded data removed]",
            "text/plain": [
              "<Figure size 1000x600 with 2 Axes>"
            ]
          },
          "metadata": {},
          "output_type": "display_data"
        }
      ],
      "source": [
        "# Ordenar los datos en orden descendente por 'Zero_Crossings'\n",
        "df_cross_zero_counts_P7 = df_cross_zero_counts.sort_values(by='Zero_Crossings', ascending=False).reset_index(drop=True)\n",
        "\n",
        "# Calcular el porcentaje acumulativo\n",
        "df_cross_zero_counts_P7['Cumulative_Percentage'] = df_cross_zero_counts_P7['Zero_Crossings'].cumsum() / df_cross_zero_counts_P7['Zero_Crossings'].sum() * 100\n",
        "\n",
        "# Crear la gráfica de Pareto\n",
        "fig, ax1 = plt.subplots(figsize=(10, 6))\n",
        "\n",
        "# Graficar las barras de conteo de cruces por cero\n",
        "bars = ax1.bar(df_cross_zero_counts_P7['Column'], df_cross_zero_counts_P7['Zero_Crossings'], color='skyblue', label='Zero Crossings')\n",
        "ax1.set_xlabel('Column')\n",
        "ax1.set_ylabel('Zero Crossings', color='skyblue')\n",
        "ax1.tick_params(axis='y', labelcolor='skyblue')\n",
        "\n",
        "# Rotar las etiquetas del eje X\n",
        "ax1.set_xticklabels(df_cross_zero_counts_P7['Column'], rotation=45, ha='right')\n",
        "\n",
        "# Crear un segundo eje Y para la línea de porcentaje acumulado\n",
        "ax2 = ax1.twinx()\n",
        "ax2.plot(df_cross_zero_counts_P7['Column'], df_cross_zero_counts_P7['Cumulative_Percentage'], color='orange', marker='o', linestyle='-', linewidth=2, label='Cumulative Percentage')\n",
        "ax2.set_ylabel('Cumulative Percentage (%)', color='orange')\n",
        "ax2.tick_params(axis='y', labelcolor='orange')\n",
        "ax2.set_ylim([0, 110])  # Asegura que el límite superior permita que la línea llegue hasta 100%\n",
        "\n",
        "# Agregar línea de referencia en 80%\n",
        "ax2.axhline(80, color='grey', linestyle='--', linewidth=0.8)\n",
        "\n",
        "# Mostrar leyendas\n",
        "fig.tight_layout()\n",
        "plt.title('Pareto Chart of Zero Crossings P7')\n",
        "plt.show()\n"
      ]
    },
    {
      "cell_type": "code",
      "execution_count": 11,
      "metadata": {
        "id": "lVf25fc8fM3L",
        "outputId": "94579338-4b2c-4d55-bcca-0babe70fdacc"
      },
      "outputs": [
        {
          "data": {
            "text/html": [
              "<div>\n",
              "<style scoped>\n",
              "    .dataframe tbody tr th:only-of-type {\n",
              "        vertical-align: middle;\n",
              "    }\n",
              "\n",
              "    .dataframe tbody tr th {\n",
              "        vertical-align: top;\n",
              "    }\n",
              "\n",
              "    .dataframe thead th {\n",
              "        text-align: right;\n",
              "    }\n",
              "</style>\n",
              "<table border=\"1\" class=\"dataframe\">\n",
              "  <thead>\n",
              "    <tr style=\"text-align: right;\">\n",
              "      <th></th>\n",
              "      <th>Column</th>\n",
              "      <th>Zero_Crossings</th>\n",
              "      <th>Legend</th>\n",
              "      <th>Color</th>\n",
              "      <th>Cumulative_Percentage</th>\n",
              "    </tr>\n",
              "  </thead>\n",
              "  <tbody>\n",
              "    <tr>\n",
              "      <th>0</th>\n",
              "      <td>AcePr</td>\n",
              "      <td>3018</td>\n",
              "      <td>VelPr y AcePr</td>\n",
              "      <td>3</td>\n",
              "      <td>8.666437</td>\n",
              "    </tr>\n",
              "    <tr>\n",
              "      <th>1</th>\n",
              "      <td>Acele</td>\n",
              "      <td>2739</td>\n",
              "      <td>Veloc y Acele</td>\n",
              "      <td>0</td>\n",
              "      <td>16.531702</td>\n",
              "    </tr>\n",
              "    <tr>\n",
              "      <th>2</th>\n",
              "      <td>Distancia</td>\n",
              "      <td>1940</td>\n",
              "      <td>time y Distancia</td>\n",
              "      <td>16</td>\n",
              "      <td>22.102573</td>\n",
              "    </tr>\n",
              "    <tr>\n",
              "      <th>3</th>\n",
              "      <td>Des_x</td>\n",
              "      <td>1855</td>\n",
              "      <td>Des_x y Des_y</td>\n",
              "      <td>1</td>\n",
              "      <td>27.429359</td>\n",
              "    </tr>\n",
              "    <tr>\n",
              "      <th>4</th>\n",
              "      <td>Des_y</td>\n",
              "      <td>1848</td>\n",
              "      <td>Des_x y Des_y</td>\n",
              "      <td>1</td>\n",
              "      <td>32.736044</td>\n",
              "    </tr>\n",
              "    <tr>\n",
              "      <th>5</th>\n",
              "      <td>Veloc</td>\n",
              "      <td>1782</td>\n",
              "      <td>Veloc y Acele</td>\n",
              "      <td>0</td>\n",
              "      <td>37.853205</td>\n",
              "    </tr>\n",
              "    <tr>\n",
              "      <th>6</th>\n",
              "      <td>VelPr</td>\n",
              "      <td>1738</td>\n",
              "      <td>VelPr y AcePr</td>\n",
              "      <td>3</td>\n",
              "      <td>42.844016</td>\n",
              "    </tr>\n",
              "    <tr>\n",
              "      <th>7</th>\n",
              "      <td>Des_z</td>\n",
              "      <td>1701</td>\n",
              "      <td>Des_z y Presn</td>\n",
              "      <td>2</td>\n",
              "      <td>47.728578</td>\n",
              "    </tr>\n",
              "    <tr>\n",
              "      <th>8</th>\n",
              "      <td>F6EES</td>\n",
              "      <td>1284</td>\n",
              "      <td>F5EEX y F6EES</td>\n",
              "      <td>4</td>\n",
              "      <td>51.415690</td>\n",
              "    </tr>\n",
              "    <tr>\n",
              "      <th>9</th>\n",
              "      <td>F12ES</td>\n",
              "      <td>1210</td>\n",
              "      <td>F11EX y F12ES</td>\n",
              "      <td>7</td>\n",
              "      <td>54.890306</td>\n",
              "    </tr>\n",
              "    <tr>\n",
              "      <th>10</th>\n",
              "      <td>F9EEX</td>\n",
              "      <td>1122</td>\n",
              "      <td>F9EEX y F10ES</td>\n",
              "      <td>6</td>\n",
              "      <td>58.112221</td>\n",
              "    </tr>\n",
              "    <tr>\n",
              "      <th>11</th>\n",
              "      <td>F5EEX</td>\n",
              "      <td>1098</td>\n",
              "      <td>F5EEX y F6EES</td>\n",
              "      <td>4</td>\n",
              "      <td>61.265219</td>\n",
              "    </tr>\n",
              "    <tr>\n",
              "      <th>12</th>\n",
              "      <td>F8EIX</td>\n",
              "      <td>1070</td>\n",
              "      <td>F8EIX y F7EIS</td>\n",
              "      <td>5</td>\n",
              "      <td>64.337813</td>\n",
              "    </tr>\n",
              "    <tr>\n",
              "      <th>13</th>\n",
              "      <td>F7EIS</td>\n",
              "      <td>1026</td>\n",
              "      <td>F8EIX y F7EIS</td>\n",
              "      <td>5</td>\n",
              "      <td>67.284057</td>\n",
              "    </tr>\n",
              "    <tr>\n",
              "      <th>14</th>\n",
              "      <td>F11EX</td>\n",
              "      <td>998</td>\n",
              "      <td>F11EX y F12ES</td>\n",
              "      <td>7</td>\n",
              "      <td>70.149897</td>\n",
              "    </tr>\n",
              "    <tr>\n",
              "      <th>15</th>\n",
              "      <td>F10ES</td>\n",
              "      <td>962</td>\n",
              "      <td>F9EEX y F10ES</td>\n",
              "      <td>6</td>\n",
              "      <td>72.912359</td>\n",
              "    </tr>\n",
              "    <tr>\n",
              "      <th>16</th>\n",
              "      <td>F19MH</td>\n",
              "      <td>921</td>\n",
              "      <td>F19MH y F20MH</td>\n",
              "      <td>11</td>\n",
              "      <td>75.557087</td>\n",
              "    </tr>\n",
              "    <tr>\n",
              "      <th>17</th>\n",
              "      <td>F15MS</td>\n",
              "      <td>781</td>\n",
              "      <td>F15MS y F16MX</td>\n",
              "      <td>10</td>\n",
              "      <td>77.799793</td>\n",
              "    </tr>\n",
              "    <tr>\n",
              "      <th>18</th>\n",
              "      <td>F18MX</td>\n",
              "      <td>772</td>\n",
              "      <td>F17MS y F18MX</td>\n",
              "      <td>9</td>\n",
              "      <td>80.016655</td>\n",
              "    </tr>\n",
              "    <tr>\n",
              "      <th>19</th>\n",
              "      <td>F14EV</td>\n",
              "      <td>759</td>\n",
              "      <td>F13EV y F14EV</td>\n",
              "      <td>8</td>\n",
              "      <td>82.196187</td>\n",
              "    </tr>\n",
              "    <tr>\n",
              "      <th>20</th>\n",
              "      <td>F3EBS</td>\n",
              "      <td>742</td>\n",
              "      <td>F4EBX y F3EBS</td>\n",
              "      <td>13</td>\n",
              "      <td>84.326901</td>\n",
              "    </tr>\n",
              "    <tr>\n",
              "      <th>21</th>\n",
              "      <td>F2EBS</td>\n",
              "      <td>738</td>\n",
              "      <td>F1EBX y F2EBS</td>\n",
              "      <td>12</td>\n",
              "      <td>86.446129</td>\n",
              "    </tr>\n",
              "    <tr>\n",
              "      <th>22</th>\n",
              "      <td>F4EBX</td>\n",
              "      <td>734</td>\n",
              "      <td>F4EBX y F3EBS</td>\n",
              "      <td>13</td>\n",
              "      <td>88.553871</td>\n",
              "    </tr>\n",
              "    <tr>\n",
              "      <th>23</th>\n",
              "      <td>F13EV</td>\n",
              "      <td>733</td>\n",
              "      <td>F13EV y F14EV</td>\n",
              "      <td>8</td>\n",
              "      <td>90.658741</td>\n",
              "    </tr>\n",
              "    <tr>\n",
              "      <th>24</th>\n",
              "      <td>Presn</td>\n",
              "      <td>723</td>\n",
              "      <td>Des_z y Presn</td>\n",
              "      <td>2</td>\n",
              "      <td>92.734895</td>\n",
              "    </tr>\n",
              "    <tr>\n",
              "      <th>25</th>\n",
              "      <td>F16MX</td>\n",
              "      <td>634</td>\n",
              "      <td>F15MS y F16MX</td>\n",
              "      <td>10</td>\n",
              "      <td>94.555479</td>\n",
              "    </tr>\n",
              "    <tr>\n",
              "      <th>26</th>\n",
              "      <td>F1EBX</td>\n",
              "      <td>612</td>\n",
              "      <td>F1EBX y F2EBS</td>\n",
              "      <td>12</td>\n",
              "      <td>96.312888</td>\n",
              "    </tr>\n",
              "    <tr>\n",
              "      <th>27</th>\n",
              "      <td>F17MS</td>\n",
              "      <td>589</td>\n",
              "      <td>F17MS y F18MX</td>\n",
              "      <td>9</td>\n",
              "      <td>98.004250</td>\n",
              "    </tr>\n",
              "    <tr>\n",
              "      <th>28</th>\n",
              "      <td>F20MH</td>\n",
              "      <td>509</td>\n",
              "      <td>F19MH y F20MH</td>\n",
              "      <td>11</td>\n",
              "      <td>99.465886</td>\n",
              "    </tr>\n",
              "    <tr>\n",
              "      <th>29</th>\n",
              "      <td>02_A</td>\n",
              "      <td>68</td>\n",
              "      <td>01_C y 02_A</td>\n",
              "      <td>14</td>\n",
              "      <td>99.661153</td>\n",
              "    </tr>\n",
              "    <tr>\n",
              "      <th>30</th>\n",
              "      <td>04_M</td>\n",
              "      <td>56</td>\n",
              "      <td>03_D y 04_M</td>\n",
              "      <td>15</td>\n",
              "      <td>99.821962</td>\n",
              "    </tr>\n",
              "    <tr>\n",
              "      <th>31</th>\n",
              "      <td>03_D</td>\n",
              "      <td>42</td>\n",
              "      <td>03_D y 04_M</td>\n",
              "      <td>15</td>\n",
              "      <td>99.942568</td>\n",
              "    </tr>\n",
              "    <tr>\n",
              "      <th>32</th>\n",
              "      <td>01_C</td>\n",
              "      <td>20</td>\n",
              "      <td>01_C y 02_A</td>\n",
              "      <td>14</td>\n",
              "      <td>100.000000</td>\n",
              "    </tr>\n",
              "    <tr>\n",
              "      <th>33</th>\n",
              "      <td>time</td>\n",
              "      <td>0</td>\n",
              "      <td>None</td>\n",
              "      <td>-1</td>\n",
              "      <td>100.000000</td>\n",
              "    </tr>\n",
              "  </tbody>\n",
              "</table>\n",
              "</div>"
            ],
            "text/plain": [
              "       Column  Zero_Crossings            Legend  Color  Cumulative_Percentage\n",
              "0       AcePr            3018     VelPr y AcePr      3               8.666437\n",
              "1       Acele            2739     Veloc y Acele      0              16.531702\n",
              "2   Distancia            1940  time y Distancia     16              22.102573\n",
              "3       Des_x            1855     Des_x y Des_y      1              27.429359\n",
              "4       Des_y            1848     Des_x y Des_y      1              32.736044\n",
              "5       Veloc            1782     Veloc y Acele      0              37.853205\n",
              "6       VelPr            1738     VelPr y AcePr      3              42.844016\n",
              "7       Des_z            1701     Des_z y Presn      2              47.728578\n",
              "8       F6EES            1284     F5EEX y F6EES      4              51.415690\n",
              "9       F12ES            1210     F11EX y F12ES      7              54.890306\n",
              "10      F9EEX            1122     F9EEX y F10ES      6              58.112221\n",
              "11      F5EEX            1098     F5EEX y F6EES      4              61.265219\n",
              "12      F8EIX            1070     F8EIX y F7EIS      5              64.337813\n",
              "13      F7EIS            1026     F8EIX y F7EIS      5              67.284057\n",
              "14      F11EX             998     F11EX y F12ES      7              70.149897\n",
              "15      F10ES             962     F9EEX y F10ES      6              72.912359\n",
              "16      F19MH             921     F19MH y F20MH     11              75.557087\n",
              "17      F15MS             781     F15MS y F16MX     10              77.799793\n",
              "18      F18MX             772     F17MS y F18MX      9              80.016655\n",
              "19      F14EV             759     F13EV y F14EV      8              82.196187\n",
              "20      F3EBS             742     F4EBX y F3EBS     13              84.326901\n",
              "21      F2EBS             738     F1EBX y F2EBS     12              86.446129\n",
              "22      F4EBX             734     F4EBX y F3EBS     13              88.553871\n",
              "23      F13EV             733     F13EV y F14EV      8              90.658741\n",
              "24      Presn             723     Des_z y Presn      2              92.734895\n",
              "25      F16MX             634     F15MS y F16MX     10              94.555479\n",
              "26      F1EBX             612     F1EBX y F2EBS     12              96.312888\n",
              "27      F17MS             589     F17MS y F18MX      9              98.004250\n",
              "28      F20MH             509     F19MH y F20MH     11              99.465886\n",
              "29       02_A              68       01_C y 02_A     14              99.661153\n",
              "30       04_M              56       03_D y 04_M     15              99.821962\n",
              "31       03_D              42       03_D y 04_M     15              99.942568\n",
              "32       01_C              20       01_C y 02_A     14             100.000000\n",
              "33       time               0              None     -1             100.000000"
            ]
          },
          "execution_count": 11,
          "metadata": {},
          "output_type": "execute_result"
        }
      ],
      "source": [
        "\n",
        "# Ordenar los datos en orden descendente y calcular el porcentaje acumulativo\n",
        "df_cross_zero_counts_P7 = df_cross_zero_counts.sort_values(by='Zero_Crossings', ascending=False).reset_index(drop=True)\n",
        "df_cross_zero_counts_P7['Cumulative_Percentage'] = df_cross_zero_counts_P7['Zero_Crossings'].cumsum() / df_cross_zero_counts_P7['Zero_Crossings'].sum() * 100\n",
        "\n",
        "df_cross_zero_counts_P7"
      ]
    },
    {
      "cell_type": "code",
      "execution_count": 12,
      "metadata": {
        "id": "5rsZZcRpfM3M",
        "outputId": "32fcaf48-ee3b-48f0-876c-31cab0fc347d"
      },
      "outputs": [
        {
          "data": {
            "text/html": [
              "\n",
              "<style>\n",
              "  #altair-viz-411f21aeb7784c99ad23ef08c6d7cd3a.vega-embed {\n",
              "    width: 100%;\n",
              "    display: flex;\n",
              "  }\n",
              "\n",
              "  #altair-viz-411f21aeb7784c99ad23ef08c6d7cd3a.vega-embed details,\n",
              "  #altair-viz-411f21aeb7784c99ad23ef08c6d7cd3a.vega-embed details summary {\n",
              "    position: relative;\n",
              "  }\n",
              "</style>\n",
              "<div id=\"altair-viz-411f21aeb7784c99ad23ef08c6d7cd3a\"></div>\n",
              "<script type=\"text/javascript\">\n",
              "  var VEGA_DEBUG = (typeof VEGA_DEBUG == \"undefined\") ? {} : VEGA_DEBUG;\n",
              "  (function(spec, embedOpt){\n",
              "    let outputDiv = document.currentScript.previousElementSibling;\n",
              "    if (outputDiv.id !== \"altair-viz-411f21aeb7784c99ad23ef08c6d7cd3a\") {\n",
              "      outputDiv = document.getElementById(\"altair-viz-411f21aeb7784c99ad23ef08c6d7cd3a\");\n",
              "    }\n",
              "    const paths = {\n",
              "      \"vega\": \"https://cdn.jsdelivr.net/npm/vega@5?noext\",\n",
              "      \"vega-lib\": \"https://cdn.jsdelivr.net/npm/vega-lib?noext\",\n",
              "      \"vega-lite\": \"https://cdn.jsdelivr.net/npm/vega-lite@5.20.1?noext\",\n",
              "      \"vega-embed\": \"https://cdn.jsdelivr.net/npm/vega-embed@6?noext\",\n",
              "    };\n",
              "\n",
              "    function maybeLoadScript(lib, version) {\n",
              "      var key = `${lib.replace(\"-\", \"\")}_version`;\n",
              "      return (VEGA_DEBUG[key] == version) ?\n",
              "        Promise.resolve(paths[lib]) :\n",
              "        new Promise(function(resolve, reject) {\n",
              "          var s = document.createElement('script');\n",
              "          document.getElementsByTagName(\"head\")[0].appendChild(s);\n",
              "          s.async = true;\n",
              "          s.onload = () => {\n",
              "            VEGA_DEBUG[key] = version;\n",
              "            return resolve(paths[lib]);\n",
              "          };\n",
              "          s.onerror = () => reject(`Error loading script: ${paths[lib]}`);\n",
              "          s.src = paths[lib];\n",
              "        });\n",
              "    }\n",
              "\n",
              "    function showError(err) {\n",
              "      outputDiv.innerHTML = `<div class=\"error\" style=\"color:red;\">${err}</div>`;\n",
              "      throw err;\n",
              "    }\n",
              "\n",
              "    function displayChart(vegaEmbed) {\n",
              "      vegaEmbed(outputDiv, spec, embedOpt)\n",
              "        .catch(err => showError(`Javascript Error: ${err.message}<br>This usually means there's a typo in your chart specification. See the javascript console for the full traceback.`));\n",
              "    }\n",
              "\n",
              "    if(typeof define === \"function\" && define.amd) {\n",
              "      requirejs.config({paths});\n",
              "      require([\"vega-embed\"], displayChart, err => showError(`Error loading script: ${err.message}`));\n",
              "    } else {\n",
              "      maybeLoadScript(\"vega\", \"5\")\n",
              "        .then(() => maybeLoadScript(\"vega-lite\", \"5.20.1\"))\n",
              "        .then(() => maybeLoadScript(\"vega-embed\", \"6\"))\n",
              "        .catch(showError)\n",
              "        .then(() => displayChart(vegaEmbed));\n",
              "    }\n",
              "  })({\"config\": {\"view\": {\"continuousWidth\": 300, \"continuousHeight\": 300}}, \"layer\": [{\"mark\": {\"type\": \"bar\", \"color\": \"skyblue\"}, \"encoding\": {\"x\": {\"field\": \"Column\", \"sort\": null, \"title\": \"Columnas\", \"type\": \"nominal\"}, \"y\": {\"field\": \"Zero_Crossings\", \"title\": \"Zero Crossings\", \"type\": \"quantitative\"}}, \"title\": \"Cruces por cero en orden del \\u00edndice\"}, {\"mark\": {\"type\": \"line\", \"color\": \"orange\"}, \"encoding\": {\"x\": {\"field\": \"Column\", \"sort\": null, \"title\": \"Columnas\", \"type\": \"nominal\"}, \"y\": {\"field\": \"Cumulative_Percentage\", \"title\": \"Cumulative Percentage (%)\", \"type\": \"quantitative\"}}}, {\"mark\": {\"type\": \"point\", \"color\": \"orange\"}, \"encoding\": {\"x\": {\"field\": \"Column\", \"sort\": null, \"title\": \"Columnas\", \"type\": \"nominal\"}, \"y\": {\"field\": \"Cumulative_Percentage\", \"type\": \"quantitative\"}}}, {\"data\": {\"name\": \"data-2e2060358ecffd163ba741c863633c40\"}, \"mark\": {\"type\": \"rule\", \"color\": \"grey\", \"strokeDash\": [5, 5]}, \"encoding\": {\"y\": {\"field\": \"Cumulative_Percentage\", \"type\": \"quantitative\"}}}], \"data\": {\"name\": \"data-807330d022c252c35030179de76e0737\"}, \"height\": 400, \"title\": \"Pareto Chart of Zero Crossings P7\", \"width\": 600, \"$schema\": \"https://vega.github.io/schema/vega-lite/v5.20.1.json\", \"datasets\": {\"data-807330d022c252c35030179de76e0737\": [{\"Column\": \"AcePr\", \"Zero_Crossings\": 3018, \"Legend\": \"VelPr y AcePr\", \"Color\": 3, \"Cumulative_Percentage\": 8.66643694004135}, {\"Column\": \"Acele\", \"Zero_Crossings\": 2739, \"Legend\": \"Veloc y Acele\", \"Color\": 0, \"Cumulative_Percentage\": 16.531702274293593}, {\"Column\": \"Distancia\", \"Zero_Crossings\": 1940, \"Legend\": \"time y Distancia\", \"Color\": 16, \"Cumulative_Percentage\": 22.102572938203537}, {\"Column\": \"Des_x\", \"Zero_Crossings\": 1855, \"Legend\": \"Des_x y Des_y\", \"Color\": 1, \"Cumulative_Percentage\": 27.42935906271537}, {\"Column\": \"Des_y\", \"Zero_Crossings\": 1848, \"Legend\": \"Des_x y Des_y\", \"Color\": 1, \"Cumulative_Percentage\": 32.736044107512065}, {\"Column\": \"Veloc\", \"Zero_Crossings\": 1782, \"Legend\": \"Veloc y Acele\", \"Color\": 0, \"Cumulative_Percentage\": 37.85320468642316}, {\"Column\": \"VelPr\", \"Zero_Crossings\": 1738, \"Legend\": \"VelPr y AcePr\", \"Color\": 3, \"Cumulative_Percentage\": 42.84401562141052}, {\"Column\": \"Des_z\", \"Zero_Crossings\": 1701, \"Legend\": \"Des_z y Presn\", \"Color\": 2, \"Cumulative_Percentage\": 47.728577992189294}, {\"Column\": \"F6EES\", \"Zero_Crossings\": 1284, \"Legend\": \"F5EEX y F6EES\", \"Color\": 4, \"Cumulative_Percentage\": 51.41569032850908}, {\"Column\": \"F12ES\", \"Zero_Crossings\": 1210, \"Legend\": \"F11EX y F12ES\", \"Color\": 7, \"Cumulative_Percentage\": 54.89030553641167}, {\"Column\": \"F9EEX\", \"Zero_Crossings\": 1122, \"Legend\": \"F9EEX y F10ES\", \"Color\": 6, \"Cumulative_Percentage\": 58.112221456466806}, {\"Column\": \"F5EEX\", \"Zero_Crossings\": 1098, \"Legend\": \"F5EEX y F6EES\", \"Color\": 4, \"Cumulative_Percentage\": 61.26521938892717}, {\"Column\": \"F8EIX\", \"Zero_Crossings\": 1070, \"Legend\": \"F8EIX y F7EIS\", \"Color\": 5, \"Cumulative_Percentage\": 64.33781300252699}, {\"Column\": \"F7EIS\", \"Zero_Crossings\": 1026, \"Legend\": \"F8EIX y F7EIS\", \"Color\": 5, \"Cumulative_Percentage\": 67.28405697220308}, {\"Column\": \"F11EX\", \"Zero_Crossings\": 998, \"Legend\": \"F11EX y F12ES\", \"Color\": 7, \"Cumulative_Percentage\": 70.1498966230186}, {\"Column\": \"F10ES\", \"Zero_Crossings\": 962, \"Legend\": \"F9EEX y F10ES\", \"Color\": 6, \"Cumulative_Percentage\": 72.91235929244199}, {\"Column\": \"F19MH\", \"Zero_Crossings\": 921, \"Legend\": \"F19MH y F20MH\", \"Color\": 11, \"Cumulative_Percentage\": 75.55708706639099}, {\"Column\": \"F15MS\", \"Zero_Crossings\": 781, \"Legend\": \"F15MS y F16MX\", \"Color\": 10, \"Cumulative_Percentage\": 77.79979324603723}, {\"Column\": \"F18MX\", \"Zero_Crossings\": 772, \"Legend\": \"F17MS y F18MX\", \"Color\": 9, \"Cumulative_Percentage\": 80.0166551803354}, {\"Column\": \"F14EV\", \"Zero_Crossings\": 759, \"Legend\": \"F13EV y F14EV\", \"Color\": 8, \"Cumulative_Percentage\": 82.19618653801976}, {\"Column\": \"F3EBS\", \"Zero_Crossings\": 742, \"Legend\": \"F4EBX y F3EBS\", \"Color\": 13, \"Cumulative_Percentage\": 84.32690098782449}, {\"Column\": \"F2EBS\", \"Zero_Crossings\": 738, \"Legend\": \"F1EBX y F2EBS\", \"Color\": 12, \"Cumulative_Percentage\": 86.44612910636343}, {\"Column\": \"F4EBX\", \"Zero_Crossings\": 734, \"Legend\": \"F4EBX y F3EBS\", \"Color\": 13, \"Cumulative_Percentage\": 88.55387089363657}, {\"Column\": \"F13EV\", \"Zero_Crossings\": 733, \"Legend\": \"F13EV y F14EV\", \"Color\": 8, \"Cumulative_Percentage\": 90.65874109809326}, {\"Column\": \"Presn\", \"Zero_Crossings\": 723, \"Legend\": \"Des_z y Presn\", \"Color\": 2, \"Cumulative_Percentage\": 92.73489547438548}, {\"Column\": \"F16MX\", \"Zero_Crossings\": 634, \"Legend\": \"F15MS y F16MX\", \"Color\": 10, \"Cumulative_Percentage\": 94.55547898001379}, {\"Column\": \"F1EBX\", \"Zero_Crossings\": 612, \"Legend\": \"F1EBX y F2EBS\", \"Color\": 12, \"Cumulative_Percentage\": 96.31288766368023}, {\"Column\": \"F17MS\", \"Zero_Crossings\": 589, \"Legend\": \"F17MS y F18MX\", \"Color\": 9, \"Cumulative_Percentage\": 98.00424994256835}, {\"Column\": \"F20MH\", \"Zero_Crossings\": 509, \"Legend\": \"F19MH y F20MH\", \"Color\": 11, \"Cumulative_Percentage\": 99.4658855961406}, {\"Column\": \"02_A\", \"Zero_Crossings\": 68, \"Legend\": \"01_C y 02_A\", \"Color\": 14, \"Cumulative_Percentage\": 99.66115322765909}, {\"Column\": \"04_M\", \"Zero_Crossings\": 56, \"Legend\": \"03_D y 04_M\", \"Color\": 15, \"Cumulative_Percentage\": 99.82196186538019}, {\"Column\": \"03_D\", \"Zero_Crossings\": 42, \"Legend\": \"03_D y 04_M\", \"Color\": 15, \"Cumulative_Percentage\": 99.94256834367104}, {\"Column\": \"01_C\", \"Zero_Crossings\": 20, \"Legend\": \"01_C y 02_A\", \"Color\": 14, \"Cumulative_Percentage\": 100.0}, {\"Column\": \"time\", \"Zero_Crossings\": 0, \"Legend\": null, \"Color\": -1, \"Cumulative_Percentage\": 100.0}], \"data-2e2060358ecffd163ba741c863633c40\": [{\"Cumulative_Percentage\": 80}]}}, {\"mode\": \"vega-lite\"});\n",
              "</script>"
            ],
            "text/plain": [
              "alt.LayerChart(...)"
            ]
          },
          "metadata": {},
          "output_type": "display_data"
        }
      ],
      "source": [
        "# Crear el gráfico de barras\n",
        "bars = alt.Chart(df_cross_zero_counts_P7).mark_bar(color='skyblue').encode(\n",
        "    x=alt.X('Column', title='Columnas', sort=None),  # El eje X respeta el orden del DataFrame\n",
        "    y=alt.Y('Zero_Crossings', title='Zero Crossings')\n",
        ").properties(\n",
        "    title=\"Cruces por cero en orden del índice\"\n",
        ")\n",
        "# Crear el gráfico de línea para el porcentaje acumulativo\n",
        "line = alt.Chart(df_cross_zero_counts_P7).mark_line(color='orange').encode(\n",
        "    x=alt.X('Column', title='Columnas', sort=None),\n",
        "    y=alt.Y('Cumulative_Percentage', title='Cumulative Percentage (%)')\n",
        ")\n",
        "\n",
        "# Puntos en la línea de porcentaje acumulativo\n",
        "points = alt.Chart(df_cross_zero_counts_P7).mark_point(color='orange').encode(\n",
        "    x=alt.X('Column', title='Columnas', sort=None),\n",
        "    y='Cumulative_Percentage'\n",
        ")\n",
        "\n",
        "# Línea de referencia en el 80%\n",
        "rule = alt.Chart(pd.DataFrame({'Cumulative_Percentage': [80]})).mark_rule(color='grey', strokeDash=[5,5]).encode(\n",
        "    y='Cumulative_Percentage'\n",
        ")\n",
        "\n",
        "# Combinar los gráficos\n",
        "pareto_chart = (bars + line + points + rule).properties(\n",
        "    title='Pareto Chart of Zero Crossings P7',\n",
        "    width=600,\n",
        "    height=400\n",
        ")\n",
        "\n",
        "pareto_chart.display()\n",
        "\n",
        "\n"
      ]
    },
    {
      "cell_type": "code",
      "execution_count": 13,
      "metadata": {
        "id": "L8pUQ0KifM3M",
        "outputId": "2bf4a065-3dfb-403b-c56f-d515ff023771"
      },
      "outputs": [
        {
          "data": {
            "image/png": "[encoded data removed]",
            "text/plain": [
              "<Figure size 600x600 with 1 Axes>"
            ]
          },
          "metadata": {},
          "output_type": "display_data"
        }
      ],
      "source": [
        "# Número de variables/categorías\n",
        "num_vars = len(df_cross_zero_counts_P7)\n",
        "\n",
        "# Ángulos de cada categoría en el radar chart\n",
        "angles = np.linspace(0, 2 * np.pi, num_vars, endpoint=False).tolist()\n",
        "\n",
        "# Repetimos el primer valor al final para cerrar el gráfico\n",
        "values_p7 = df_cross_zero_counts_P7['Zero_Crossings'].tolist()\n",
        "values_p7 += values_p7[:1]\n",
        "angles += angles[:1]\n",
        "\n",
        "# Inicializar el gráfico en coordenadas polares\n",
        "fig, ax = plt.subplots(figsize=(6, 6), subplot_kw=dict(polar=True))\n",
        "\n",
        "# Dibujar la línea del gráfico\n",
        "ax.plot(angles, values_p7, color='skyblue', linewidth=2, linestyle='solid')\n",
        "\n",
        "# Rellenar el área\n",
        "ax.fill(angles, values_p7, color='skyblue', alpha=0.4)\n",
        "\n",
        "# Añadir etiquetas para cada categoría\n",
        "ax.set_xticks(angles[:-1])\n",
        "ax.set_xticklabels(df_cross_zero_counts_P7['Column'])\n",
        "\n",
        "# Ajustar los límites del eje radial y el título\n",
        "ax.set_ylim(0, max(values_p7))\n",
        "plt.title('Radar Chart de Zero Crossings P7', size=15, color='navy', pad=20)\n",
        "\n",
        "plt.show()\n"
      ]
    },
    {
      "cell_type": "code",
      "execution_count": 14,
      "metadata": {
        "id": "3JL-q4XrfM3M",
        "outputId": "392e370c-d385-47cc-f62c-1ac8d462552e"
      },
      "outputs": [
        {
          "data": {
            "application/vnd.plotly.v1+json": {
              "config": {
                "plotlyServerURL": "https://plot.ly"
              },
              "data": [
                {
                  "fill": "toself",
                  "name": "Zero Crossings",
                  "r": [
                    3018,
                    2739,
                    1940,
                    1855,
                    1848,
                    1782,
                    1738,
                    1701,
                    1284,
                    1210,
                    1122,
                    1098,
                    1070,
                    1026,
                    998,
                    962,
                    921,
                    781,
                    772,
                    759,
                    742,
                    738,
                    734,
                    733,
                    723,
                    634,
                    612,
                    589,
                    509,
                    68,
                    56,
                    42,
                    20,
                    0,
                    3018
                  ],
                  "theta": [
                    "AcePr",
                    "Acele",
                    "Distancia",
                    "Des_x",
                    "Des_y",
                    "Veloc",
                    "VelPr",
                    "Des_z",
                    "F6EES",
                    "F12ES",
                    "F9EEX",
                    "F5EEX",
                    "F8EIX",
                    "F7EIS",
                    "F11EX",
                    "F10ES",
                    "F19MH",
                    "F15MS",
                    "F18MX",
                    "F14EV",
                    "F3EBS",
                    "F2EBS",
                    "F4EBX",
                    "F13EV",
                    "Presn",
                    "F16MX",
                    "F1EBX",
                    "F17MS",
                    "F20MH",
                    "02_A",
                    "04_M",
                    "03_D",
                    "01_C",
                    "time",
                    "AcePr"
                  ],
                  "type": "scatterpolar"
                }
              ],
              "layout": {
                "polar": {
                  "radialaxis": {
                    "range": [
                      0,
                      3319.8
                    ],
                    "visible": true
                  }
                },
                "showlegend": false,
                "template": {
                  "data": {
                    "bar": [
                      {
                        "error_x": {
                          "color": "#2a3f5f"
                        },
                        "error_y": {
                          "color": "#2a3f5f"
                        },
                        "marker": {
                          "line": {
                            "color": "#E5ECF6",
                            "width": 0.5
                          },
                          "pattern": {
                            "fillmode": "overlay",
                            "size": 10,
                            "solidity": 0.2
                          }
                        },
                        "type": "bar"
                      }
                    ],
                    "barpolar": [
                      {
                        "marker": {
                          "line": {
                            "color": "#E5ECF6",
                            "width": 0.5
                          },
                          "pattern": {
                            "fillmode": "overlay",
                            "size": 10,
                            "solidity": 0.2
                          }
                        },
                        "type": "barpolar"
                      }
                    ],
                    "carpet": [
                      {
                        "aaxis": {
                          "endlinecolor": "#2a3f5f",
                          "gridcolor": "white",
                          "linecolor": "white",
                          "minorgridcolor": "white",
                          "startlinecolor": "#2a3f5f"
                        },
                        "baxis": {
                          "endlinecolor": "#2a3f5f",
                          "gridcolor": "white",
                          "linecolor": "white",
                          "minorgridcolor": "white",
                          "startlinecolor": "#2a3f5f"
                        },
                        "type": "carpet"
                      }
                    ],
                    "choropleth": [
                      {
                        "colorbar": {
                          "outlinewidth": 0,
                          "ticks": ""
                        },
                        "type": "choropleth"
                      }
                    ],
                    "contour": [
                      {
                        "colorbar": {
                          "outlinewidth": 0,
                          "ticks": ""
                        },
                        "colorscale": [
                          [
                            0,
                            "#0d0887"
                          ],
                          [
                            0.1111111111111111,
                            "#46039f"
                          ],
                          [
                            0.2222222222222222,
                            "#7201a8"
                          ],
                          [
                            0.3333333333333333,
                            "#9c179e"
                          ],
                          [
                            0.4444444444444444,
                            "#bd3786"
                          ],
                          [
                            0.5555555555555556,
                            "#d8576b"
                          ],
                          [
                            0.6666666666666666,
                            "#ed7953"
                          ],
                          [
                            0.7777777777777778,
                            "#fb9f3a"
                          ],
                          [
                            0.8888888888888888,
                            "#fdca26"
                          ],
                          [
                            1,
                            "#f0f921"
                          ]
                        ],
                        "type": "contour"
                      }
                    ],
                    "contourcarpet": [
                      {
                        "colorbar": {
                          "outlinewidth": 0,
                          "ticks": ""
                        },
                        "type": "contourcarpet"
                      }
                    ],
                    "heatmap": [
                      {
                        "colorbar": {
                          "outlinewidth": 0,
                          "ticks": ""
                        },
                        "colorscale": [
                          [
                            0,
                            "#0d0887"
                          ],
                          [
                            0.1111111111111111,
                            "#46039f"
                          ],
                          [
                            0.2222222222222222,
                            "#7201a8"
                          ],
                          [
                            0.3333333333333333,
                            "#9c179e"
                          ],
                          [
                            0.4444444444444444,
                            "#bd3786"
                          ],
                          [
                            0.5555555555555556,
                            "#d8576b"
                          ],
                          [
                            0.6666666666666666,
                            "#ed7953"
                          ],
                          [
                            0.7777777777777778,
                            "#fb9f3a"
                          ],
                          [
                            0.8888888888888888,
                            "#fdca26"
                          ],
                          [
                            1,
                            "#f0f921"
                          ]
                        ],
                        "type": "heatmap"
                      }
                    ],
                    "heatmapgl": [
                      {
                        "colorbar": {
                          "outlinewidth": 0,
                          "ticks": ""
                        },
                        "colorscale": [
                          [
                            0,
                            "#0d0887"
                          ],
                          [
                            0.1111111111111111,
                            "#46039f"
                          ],
                          [
                            0.2222222222222222,
                            "#7201a8"
                          ],
                          [
                            0.3333333333333333,
                            "#9c179e"
                          ],
                          [
                            0.4444444444444444,
                            "#bd3786"
                          ],
                          [
                            0.5555555555555556,
                            "#d8576b"
                          ],
                          [
                            0.6666666666666666,
                            "#ed7953"
                          ],
                          [
                            0.7777777777777778,
                            "#fb9f3a"
                          ],
                          [
                            0.8888888888888888,
                            "#fdca26"
                          ],
                          [
                            1,
                            "#f0f921"
                          ]
                        ],
                        "type": "heatmapgl"
                      }
                    ],
                    "histogram": [
                      {
                        "marker": {
                          "pattern": {
                            "fillmode": "overlay",
                            "size": 10,
                            "solidity": 0.2
                          }
                        },
                        "type": "histogram"
                      }
                    ],
                    "histogram2d": [
                      {
                        "colorbar": {
                          "outlinewidth": 0,
                          "ticks": ""
                        },
                        "colorscale": [
                          [
                            0,
                            "#0d0887"
                          ],
                          [
                            0.1111111111111111,
                            "#46039f"
                          ],
                          [
                            0.2222222222222222,
                            "#7201a8"
                          ],
                          [
                            0.3333333333333333,
                            "#9c179e"
                          ],
                          [
                            0.4444444444444444,
                            "#bd3786"
                          ],
                          [
                            0.5555555555555556,
                            "#d8576b"
                          ],
                          [
                            0.6666666666666666,
                            "#ed7953"
                          ],
                          [
                            0.7777777777777778,
                            "#fb9f3a"
                          ],
                          [
                            0.8888888888888888,
                            "#fdca26"
                          ],
                          [
                            1,
                            "#f0f921"
                          ]
                        ],
                        "type": "histogram2d"
                      }
                    ],
                    "histogram2dcontour": [
                      {
                        "colorbar": {
                          "outlinewidth": 0,
                          "ticks": ""
                        },
                        "colorscale": [
                          [
                            0,
                            "#0d0887"
                          ],
                          [
                            0.1111111111111111,
                            "#46039f"
                          ],
                          [
                            0.2222222222222222,
                            "#7201a8"
                          ],
                          [
                            0.3333333333333333,
                            "#9c179e"
                          ],
                          [
                            0.4444444444444444,
                            "#bd3786"
                          ],
                          [
                            0.5555555555555556,
                            "#d8576b"
                          ],
                          [
                            0.6666666666666666,
                            "#ed7953"
                          ],
                          [
                            0.7777777777777778,
                            "#fb9f3a"
                          ],
                          [
                            0.8888888888888888,
                            "#fdca26"
                          ],
                          [
                            1,
                            "#f0f921"
                          ]
                        ],
                        "type": "histogram2dcontour"
                      }
                    ],
                    "mesh3d": [
                      {
                        "colorbar": {
                          "outlinewidth": 0,
                          "ticks": ""
                        },
                        "type": "mesh3d"
                      }
                    ],
                    "parcoords": [
                      {
                        "line": {
                          "colorbar": {
                            "outlinewidth": 0,
                            "ticks": ""
                          }
                        },
                        "type": "parcoords"
                      }
                    ],
                    "pie": [
                      {
                        "automargin": true,
                        "type": "pie"
                      }
                    ],
                    "scatter": [
                      {
                        "fillpattern": {
                          "fillmode": "overlay",
                          "size": 10,
                          "solidity": 0.2
                        },
                        "type": "scatter"
                      }
                    ],
                    "scatter3d": [
                      {
                        "line": {
                          "colorbar": {
                            "outlinewidth": 0,
                            "ticks": ""
                          }
                        },
                        "marker": {
                          "colorbar": {
                            "outlinewidth": 0,
                            "ticks": ""
                          }
                        },
                        "type": "scatter3d"
                      }
                    ],
                    "scattercarpet": [
                      {
                        "marker": {
                          "colorbar": {
                            "outlinewidth": 0,
                            "ticks": ""
                          }
                        },
                        "type": "scattercarpet"
                      }
                    ],
                    "scattergeo": [
                      {
                        "marker": {
                          "colorbar": {
                            "outlinewidth": 0,
                            "ticks": ""
                          }
                        },
                        "type": "scattergeo"
                      }
                    ],
                    "scattergl": [
                      {
                        "marker": {
                          "colorbar": {
                            "outlinewidth": 0,
                            "ticks": ""
                          }
                        },
                        "type": "scattergl"
                      }
                    ],
                    "scattermapbox": [
                      {
                        "marker": {
                          "colorbar": {
                            "outlinewidth": 0,
                            "ticks": ""
                          }
                        },
                        "type": "scattermapbox"
                      }
                    ],
                    "scatterpolar": [
                      {
                        "marker": {
                          "colorbar": {
                            "outlinewidth": 0,
                            "ticks": ""
                          }
                        },
                        "type": "scatterpolar"
                      }
                    ],
                    "scatterpolargl": [
                      {
                        "marker": {
                          "colorbar": {
                            "outlinewidth": 0,
                            "ticks": ""
                          }
                        },
                        "type": "scatterpolargl"
                      }
                    ],
                    "scatterternary": [
                      {
                        "marker": {
                          "colorbar": {
                            "outlinewidth": 0,
                            "ticks": ""
                          }
                        },
                        "type": "scatterternary"
                      }
                    ],
                    "surface": [
                      {
                        "colorbar": {
                          "outlinewidth": 0,
                          "ticks": ""
                        },
                        "colorscale": [
                          [
                            0,
                            "#0d0887"
                          ],
                          [
                            0.1111111111111111,
                            "#46039f"
                          ],
                          [
                            0.2222222222222222,
                            "#7201a8"
                          ],
                          [
                            0.3333333333333333,
                            "#9c179e"
                          ],
                          [
                            0.4444444444444444,
                            "#bd3786"
                          ],
                          [
                            0.5555555555555556,
                            "#d8576b"
                          ],
                          [
                            0.6666666666666666,
                            "#ed7953"
                          ],
                          [
                            0.7777777777777778,
                            "#fb9f3a"
                          ],
                          [
                            0.8888888888888888,
                            "#fdca26"
                          ],
                          [
                            1,
                            "#f0f921"
                          ]
                        ],
                        "type": "surface"
                      }
                    ],
                    "table": [
                      {
                        "cells": {
                          "fill": {
                            "color": "#EBF0F8"
                          },
                          "line": {
                            "color": "white"
                          }
                        },
                        "header": {
                          "fill": {
                            "color": "#C8D4E3"
                          },
                          "line": {
                            "color": "white"
                          }
                        },
                        "type": "table"
                      }
                    ]
                  },
                  "layout": {
                    "annotationdefaults": {
                      "arrowcolor": "#2a3f5f",
                      "arrowhead": 0,
                      "arrowwidth": 1
                    },
                    "autotypenumbers": "strict",
                    "coloraxis": {
                      "colorbar": {
                        "outlinewidth": 0,
                        "ticks": ""
                      }
                    },
                    "colorscale": {
                      "diverging": [
                        [
                          0,
                          "#8e0152"
                        ],
                        [
                          0.1,
                          "#c51b7d"
                        ],
                        [
                          0.2,
                          "#de77ae"
                        ],
                        [
                          0.3,
                          "#f1b6da"
                        ],
                        [
                          0.4,
                          "#fde0ef"
                        ],
                        [
                          0.5,
                          "#f7f7f7"
                        ],
                        [
                          0.6,
                          "#e6f5d0"
                        ],
                        [
                          0.7,
                          "#b8e186"
                        ],
                        [
                          0.8,
                          "#7fbc41"
                        ],
                        [
                          0.9,
                          "#4d9221"
                        ],
                        [
                          1,
                          "#276419"
                        ]
                      ],
                      "sequential": [
                        [
                          0,
                          "#0d0887"
                        ],
                        [
                          0.1111111111111111,
                          "#46039f"
                        ],
                        [
                          0.2222222222222222,
                          "#7201a8"
                        ],
                        [
                          0.3333333333333333,
                          "#9c179e"
                        ],
                        [
                          0.4444444444444444,
                          "#bd3786"
                        ],
                        [
                          0.5555555555555556,
                          "#d8576b"
                        ],
                        [
                          0.6666666666666666,
                          "#ed7953"
                        ],
                        [
                          0.7777777777777778,
                          "#fb9f3a"
                        ],
                        [
                          0.8888888888888888,
                          "#fdca26"
                        ],
                        [
                          1,
                          "#f0f921"
                        ]
                      ],
                      "sequentialminus": [
                        [
                          0,
                          "#0d0887"
                        ],
                        [
                          0.1111111111111111,
                          "#46039f"
                        ],
                        [
                          0.2222222222222222,
                          "#7201a8"
                        ],
                        [
                          0.3333333333333333,
                          "#9c179e"
                        ],
                        [
                          0.4444444444444444,
                          "#bd3786"
                        ],
                        [
                          0.5555555555555556,
                          "#d8576b"
                        ],
                        [
                          0.6666666666666666,
                          "#ed7953"
                        ],
                        [
                          0.7777777777777778,
                          "#fb9f3a"
                        ],
                        [
                          0.8888888888888888,
                          "#fdca26"
                        ],
                        [
                          1,
                          "#f0f921"
                        ]
                      ]
                    },
                    "colorway": [
                      "#636efa",
                      "#EF553B",
                      "#00cc96",
                      "#ab63fa",
                      "#FFA15A",
                      "#19d3f3",
                      "#FF6692",
                      "#B6E880",
                      "#FF97FF",
                      "#FECB52"
                    ],
                    "font": {
                      "color": "#2a3f5f"
                    },
                    "geo": {
                      "bgcolor": "white",
                      "lakecolor": "white",
                      "landcolor": "#E5ECF6",
                      "showlakes": true,
                      "showland": true,
                      "subunitcolor": "white"
                    },
                    "hoverlabel": {
                      "align": "left"
                    },
                    "hovermode": "closest",
                    "mapbox": {
                      "style": "light"
                    },
                    "paper_bgcolor": "white",
                    "plot_bgcolor": "#E5ECF6",
                    "polar": {
                      "angularaxis": {
                        "gridcolor": "white",
                        "linecolor": "white",
                        "ticks": ""
                      },
                      "bgcolor": "#E5ECF6",
                      "radialaxis": {
                        "gridcolor": "white",
                        "linecolor": "white",
                        "ticks": ""
                      }
                    },
                    "scene": {
                      "xaxis": {
                        "backgroundcolor": "#E5ECF6",
                        "gridcolor": "white",
                        "gridwidth": 2,
                        "linecolor": "white",
                        "showbackground": true,
                        "ticks": "",
                        "zerolinecolor": "white"
                      },
                      "yaxis": {
                        "backgroundcolor": "#E5ECF6",
                        "gridcolor": "white",
                        "gridwidth": 2,
                        "linecolor": "white",
                        "showbackground": true,
                        "ticks": "",
                        "zerolinecolor": "white"
                      },
                      "zaxis": {
                        "backgroundcolor": "#E5ECF6",
                        "gridcolor": "white",
                        "gridwidth": 2,
                        "linecolor": "white",
                        "showbackground": true,
                        "ticks": "",
                        "zerolinecolor": "white"
                      }
                    },
                    "shapedefaults": {
                      "line": {
                        "color": "#2a3f5f"
                      }
                    },
                    "ternary": {
                      "aaxis": {
                        "gridcolor": "white",
                        "linecolor": "white",
                        "ticks": ""
                      },
                      "baxis": {
                        "gridcolor": "white",
                        "linecolor": "white",
                        "ticks": ""
                      },
                      "bgcolor": "#E5ECF6",
                      "caxis": {
                        "gridcolor": "white",
                        "linecolor": "white",
                        "ticks": ""
                      }
                    },
                    "title": {
                      "x": 0.05
                    },
                    "xaxis": {
                      "automargin": true,
                      "gridcolor": "white",
                      "linecolor": "white",
                      "ticks": "",
                      "title": {
                        "standoff": 15
                      },
                      "zerolinecolor": "white",
                      "zerolinewidth": 2
                    },
                    "yaxis": {
                      "automargin": true,
                      "gridcolor": "white",
                      "linecolor": "white",
                      "ticks": "",
                      "title": {
                        "standoff": 15
                      },
                      "zerolinecolor": "white",
                      "zerolinewidth": 2
                    }
                  }
                },
                "title": {
                  "text": "Gráfico de Radar - Zero Crossings por Column P7"
                }
              }
            }
          },
          "metadata": {},
          "output_type": "display_data"
        }
      ],
      "source": [
        "import plotly.graph_objects as go\n",
        "\n",
        "# Asegúrate de cerrar el ciclo tanto en las etiquetas como en los valores para que el gráfico de radar sea completo.\n",
        "categories = df_cross_zero_counts_P7['Column'].tolist()\n",
        "values_p7 = df_cross_zero_counts_P7['Zero_Crossings'].tolist()\n",
        "\n",
        "# Añadir el primer valor al final de la lista para cerrar el gráfico\n",
        "categories += [categories[0]]\n",
        "values_p7 += [values_p7[0]]\n",
        "\n",
        "fig = go.Figure(data=go.Scatterpolar(\n",
        "    r=values_p7,\n",
        "    theta=categories,\n",
        "    fill='toself',\n",
        "    name='Zero Crossings'\n",
        "))\n",
        "\n",
        "fig.update_layout(\n",
        "    polar=dict(\n",
        "        radialaxis=dict(\n",
        "            visible=True,\n",
        "            range=[0, max(values_p7) * 1.1]  # Ajusta el rango radial un poco por encima del valor máximo\n",
        "        )\n",
        "    ),\n",
        "    showlegend=False,\n",
        "    title='Gráfico de Radar - Zero Crossings por Column P7'\n",
        ")\n",
        "\n",
        "fig.show()\n"
      ]
    },
    {
      "cell_type": "code",
      "execution_count": 15,
      "metadata": {
        "id": "ZDPZz9c0fM3N",
        "outputId": "38804757-56ef-41a7-d4f3-e929f417f51d"
      },
      "outputs": [
        {
          "data": {
            "text/html": [
              "<div>\n",
              "<style scoped>\n",
              "    .dataframe tbody tr th:only-of-type {\n",
              "        vertical-align: middle;\n",
              "    }\n",
              "\n",
              "    .dataframe tbody tr th {\n",
              "        vertical-align: top;\n",
              "    }\n",
              "\n",
              "    .dataframe thead th {\n",
              "        text-align: right;\n",
              "    }\n",
              "</style>\n",
              "<table border=\"1\" class=\"dataframe\">\n",
              "  <thead>\n",
              "    <tr style=\"text-align: right;\">\n",
              "      <th></th>\n",
              "      <th>Column</th>\n",
              "      <th>Zero_Crossings</th>\n",
              "    </tr>\n",
              "  </thead>\n",
              "  <tbody>\n",
              "    <tr>\n",
              "      <th>0</th>\n",
              "      <td>Veloc</td>\n",
              "      <td>2825</td>\n",
              "    </tr>\n",
              "    <tr>\n",
              "      <th>1</th>\n",
              "      <td>Acele</td>\n",
              "      <td>4028</td>\n",
              "    </tr>\n",
              "    <tr>\n",
              "      <th>2</th>\n",
              "      <td>Des_x</td>\n",
              "      <td>3451</td>\n",
              "    </tr>\n",
              "    <tr>\n",
              "      <th>3</th>\n",
              "      <td>Des_y</td>\n",
              "      <td>2845</td>\n",
              "    </tr>\n",
              "    <tr>\n",
              "      <th>4</th>\n",
              "      <td>Des_z</td>\n",
              "      <td>2043</td>\n",
              "    </tr>\n",
              "    <tr>\n",
              "      <th>5</th>\n",
              "      <td>Presn</td>\n",
              "      <td>3134</td>\n",
              "    </tr>\n",
              "    <tr>\n",
              "      <th>6</th>\n",
              "      <td>VelPr</td>\n",
              "      <td>2634</td>\n",
              "    </tr>\n",
              "    <tr>\n",
              "      <th>7</th>\n",
              "      <td>AcePr</td>\n",
              "      <td>4630</td>\n",
              "    </tr>\n",
              "    <tr>\n",
              "      <th>8</th>\n",
              "      <td>F5EEX</td>\n",
              "      <td>1700</td>\n",
              "    </tr>\n",
              "    <tr>\n",
              "      <th>9</th>\n",
              "      <td>F6EES</td>\n",
              "      <td>1694</td>\n",
              "    </tr>\n",
              "    <tr>\n",
              "      <th>10</th>\n",
              "      <td>F8EIX</td>\n",
              "      <td>1760</td>\n",
              "    </tr>\n",
              "    <tr>\n",
              "      <th>11</th>\n",
              "      <td>F7EIS</td>\n",
              "      <td>1810</td>\n",
              "    </tr>\n",
              "    <tr>\n",
              "      <th>12</th>\n",
              "      <td>F9EEX</td>\n",
              "      <td>1678</td>\n",
              "    </tr>\n",
              "    <tr>\n",
              "      <th>13</th>\n",
              "      <td>F10ES</td>\n",
              "      <td>1684</td>\n",
              "    </tr>\n",
              "    <tr>\n",
              "      <th>14</th>\n",
              "      <td>F11EX</td>\n",
              "      <td>1874</td>\n",
              "    </tr>\n",
              "    <tr>\n",
              "      <th>15</th>\n",
              "      <td>F12ES</td>\n",
              "      <td>1690</td>\n",
              "    </tr>\n",
              "    <tr>\n",
              "      <th>16</th>\n",
              "      <td>F13EV</td>\n",
              "      <td>1285</td>\n",
              "    </tr>\n",
              "    <tr>\n",
              "      <th>17</th>\n",
              "      <td>F14EV</td>\n",
              "      <td>1176</td>\n",
              "    </tr>\n",
              "    <tr>\n",
              "      <th>18</th>\n",
              "      <td>F17MS</td>\n",
              "      <td>1319</td>\n",
              "    </tr>\n",
              "    <tr>\n",
              "      <th>19</th>\n",
              "      <td>F18MX</td>\n",
              "      <td>1076</td>\n",
              "    </tr>\n",
              "    <tr>\n",
              "      <th>20</th>\n",
              "      <td>F15MS</td>\n",
              "      <td>1164</td>\n",
              "    </tr>\n",
              "    <tr>\n",
              "      <th>21</th>\n",
              "      <td>F16MX</td>\n",
              "      <td>1212</td>\n",
              "    </tr>\n",
              "    <tr>\n",
              "      <th>22</th>\n",
              "      <td>F19MH</td>\n",
              "      <td>1434</td>\n",
              "    </tr>\n",
              "    <tr>\n",
              "      <th>23</th>\n",
              "      <td>F20MH</td>\n",
              "      <td>915</td>\n",
              "    </tr>\n",
              "    <tr>\n",
              "      <th>24</th>\n",
              "      <td>F1EBX</td>\n",
              "      <td>1311</td>\n",
              "    </tr>\n",
              "    <tr>\n",
              "      <th>25</th>\n",
              "      <td>F2EBS</td>\n",
              "      <td>1348</td>\n",
              "    </tr>\n",
              "    <tr>\n",
              "      <th>26</th>\n",
              "      <td>F4EBX</td>\n",
              "      <td>1327</td>\n",
              "    </tr>\n",
              "    <tr>\n",
              "      <th>27</th>\n",
              "      <td>F3EBS</td>\n",
              "      <td>1564</td>\n",
              "    </tr>\n",
              "    <tr>\n",
              "      <th>28</th>\n",
              "      <td>01_C</td>\n",
              "      <td>31</td>\n",
              "    </tr>\n",
              "    <tr>\n",
              "      <th>29</th>\n",
              "      <td>02_A</td>\n",
              "      <td>174</td>\n",
              "    </tr>\n",
              "    <tr>\n",
              "      <th>30</th>\n",
              "      <td>03_D</td>\n",
              "      <td>38</td>\n",
              "    </tr>\n",
              "    <tr>\n",
              "      <th>31</th>\n",
              "      <td>04_M</td>\n",
              "      <td>197</td>\n",
              "    </tr>\n",
              "    <tr>\n",
              "      <th>32</th>\n",
              "      <td>time</td>\n",
              "      <td>0</td>\n",
              "    </tr>\n",
              "    <tr>\n",
              "      <th>33</th>\n",
              "      <td>Distancia</td>\n",
              "      <td>3001</td>\n",
              "    </tr>\n",
              "  </tbody>\n",
              "</table>\n",
              "</div>"
            ],
            "text/plain": [
              "       Column  Zero_Crossings\n",
              "0       Veloc            2825\n",
              "1       Acele            4028\n",
              "2       Des_x            3451\n",
              "3       Des_y            2845\n",
              "4       Des_z            2043\n",
              "5       Presn            3134\n",
              "6       VelPr            2634\n",
              "7       AcePr            4630\n",
              "8       F5EEX            1700\n",
              "9       F6EES            1694\n",
              "10      F8EIX            1760\n",
              "11      F7EIS            1810\n",
              "12      F9EEX            1678\n",
              "13      F10ES            1684\n",
              "14      F11EX            1874\n",
              "15      F12ES            1690\n",
              "16      F13EV            1285\n",
              "17      F14EV            1176\n",
              "18      F17MS            1319\n",
              "19      F18MX            1076\n",
              "20      F15MS            1164\n",
              "21      F16MX            1212\n",
              "22      F19MH            1434\n",
              "23      F20MH             915\n",
              "24      F1EBX            1311\n",
              "25      F2EBS            1348\n",
              "26      F4EBX            1327\n",
              "27      F3EBS            1564\n",
              "28       01_C              31\n",
              "29       02_A             174\n",
              "30       03_D              38\n",
              "31       04_M             197\n",
              "32       time               0\n",
              "33  Distancia            3001"
            ]
          },
          "execution_count": 15,
          "metadata": {},
          "output_type": "execute_result"
        }
      ],
      "source": [
        "# Filtramos solo las columnas numéricas para estandarizar\n",
        "numeric_cols_P11 = p11.select_dtypes(include=['number']).columns\n",
        "\n",
        "# Estandarización de las columnas numéricas\n",
        "scaler = StandardScaler()\n",
        "my_data_normalized_P11 = pd.DataFrame(scaler.fit_transform(p11[numeric_cols_P11]), columns=numeric_cols_P11)\n",
        "\n",
        "# Contar cruces por cero para cada columna\n",
        "cross_zero_counts = {}\n",
        "for col in my_data_normalized_P11.columns:\n",
        "    # Contar cruces por cero (un cambio de signo entre valores consecutivos)\n",
        "    cross_zero_counts[col] = ((my_data_normalized_P11[col].shift(1) * my_data_normalized_P11[col]) < 0).sum()\n",
        "\n",
        "# Convertir el resultado en un DataFrame\n",
        "df_cross_zero_counts_P11 = pd.DataFrame(list(cross_zero_counts.items()), columns=['Column', 'Zero_Crossings'])\n",
        "\n",
        "# Mostrar el resultado\n",
        "df_cross_zero_counts_P11"
      ]
    },
    {
      "cell_type": "code",
      "execution_count": 16,
      "metadata": {
        "id": "w5z0arfJfM3N",
        "outputId": "c45a3c7e-2b10-4236-b73d-686f7091577f"
      },
      "outputs": [
        {
          "data": {
            "image/png": "[encoded data removed]",
            "text/plain": [
              "<Figure size 2000x1500 with 1 Axes>"
            ]
          },
          "metadata": {},
          "output_type": "display_data"
        }
      ],
      "source": [
        "plt.figure(figsize=(20, 15))\n",
        "\n",
        "# Crear la gráfica de barras\n",
        "plt.style.use('seaborn-v0_8')\n",
        "# Gráfica de barras\n",
        "colors = plt.get_cmap(\"Set1\").colors  # Usamos la paleta Set2 para colores suaves y equilibrados\n",
        "\n",
        "bars_P11 = plt.bar(df_cross_zero_counts_P11['Column'],\n",
        "               df_cross_zero_counts_P11['Zero_Crossings'],\n",
        "               color=colors[:len(df_cross_zero_counts_P11)])\n",
        "# Rotar las etiquetas del eje X\n",
        "plt.xticks(rotation=45)\n",
        "\n",
        "# Añadir etiquetas y título\n",
        "plt.xlabel(\"Columnas\", fontsize=12)\n",
        "plt.ylabel(\"Número de cruces por 0\", fontsize=12)\n",
        "plt.title(\"Gráfica de cruces por cero PACIENTE 11\", fontsize=14)\n",
        "\n",
        "# Mostrar el valor encima de cada barra\n",
        "for bar in bars_P11:\n",
        "    plt.text(\n",
        "        bar.get_x() + bar.get_width() / 2,\n",
        "        bar.get_height(),\n",
        "        f'{bar.get_height():.1f}',\n",
        "        ha='center', va='bottom'\n",
        "    )\n",
        "\n",
        "plt.show()"
      ]
    },
    {
      "cell_type": "code",
      "execution_count": 17,
      "metadata": {
        "id": "M89Lkmu4fM3N",
        "outputId": "edc81c78-e4eb-4521-e15c-6cf49179fa61"
      },
      "outputs": [
        {
          "data": {
            "text/html": [
              "\n",
              "<style>\n",
              "  #altair-viz-aaa814b8883f43aaa93696525685d744.vega-embed {\n",
              "    width: 100%;\n",
              "    display: flex;\n",
              "  }\n",
              "\n",
              "  #altair-viz-aaa814b8883f43aaa93696525685d744.vega-embed details,\n",
              "  #altair-viz-aaa814b8883f43aaa93696525685d744.vega-embed details summary {\n",
              "    position: relative;\n",
              "  }\n",
              "</style>\n",
              "<div id=\"altair-viz-aaa814b8883f43aaa93696525685d744\"></div>\n",
              "<script type=\"text/javascript\">\n",
              "  var VEGA_DEBUG = (typeof VEGA_DEBUG == \"undefined\") ? {} : VEGA_DEBUG;\n",
              "  (function(spec, embedOpt){\n",
              "    let outputDiv = document.currentScript.previousElementSibling;\n",
              "    if (outputDiv.id !== \"altair-viz-aaa814b8883f43aaa93696525685d744\") {\n",
              "      outputDiv = document.getElementById(\"altair-viz-aaa814b8883f43aaa93696525685d744\");\n",
              "    }\n",
              "    const paths = {\n",
              "      \"vega\": \"https://cdn.jsdelivr.net/npm/vega@5?noext\",\n",
              "      \"vega-lib\": \"https://cdn.jsdelivr.net/npm/vega-lib?noext\",\n",
              "      \"vega-lite\": \"https://cdn.jsdelivr.net/npm/vega-lite@5.20.1?noext\",\n",
              "      \"vega-embed\": \"https://cdn.jsdelivr.net/npm/vega-embed@6?noext\",\n",
              "    };\n",
              "\n",
              "    function maybeLoadScript(lib, version) {\n",
              "      var key = `${lib.replace(\"-\", \"\")}_version`;\n",
              "      return (VEGA_DEBUG[key] == version) ?\n",
              "        Promise.resolve(paths[lib]) :\n",
              "        new Promise(function(resolve, reject) {\n",
              "          var s = document.createElement('script');\n",
              "          document.getElementsByTagName(\"head\")[0].appendChild(s);\n",
              "          s.async = true;\n",
              "          s.onload = () => {\n",
              "            VEGA_DEBUG[key] = version;\n",
              "            return resolve(paths[lib]);\n",
              "          };\n",
              "          s.onerror = () => reject(`Error loading script: ${paths[lib]}`);\n",
              "          s.src = paths[lib];\n",
              "        });\n",
              "    }\n",
              "\n",
              "    function showError(err) {\n",
              "      outputDiv.innerHTML = `<div class=\"error\" style=\"color:red;\">${err}</div>`;\n",
              "      throw err;\n",
              "    }\n",
              "\n",
              "    function displayChart(vegaEmbed) {\n",
              "      vegaEmbed(outputDiv, spec, embedOpt)\n",
              "        .catch(err => showError(`Javascript Error: ${err.message}<br>This usually means there's a typo in your chart specification. See the javascript console for the full traceback.`));\n",
              "    }\n",
              "\n",
              "    if(typeof define === \"function\" && define.amd) {\n",
              "      requirejs.config({paths});\n",
              "      require([\"vega-embed\"], displayChart, err => showError(`Error loading script: ${err.message}`));\n",
              "    } else {\n",
              "      maybeLoadScript(\"vega\", \"5\")\n",
              "        .then(() => maybeLoadScript(\"vega-lite\", \"5.20.1\"))\n",
              "        .then(() => maybeLoadScript(\"vega-embed\", \"6\"))\n",
              "        .catch(showError)\n",
              "        .then(() => displayChart(vegaEmbed));\n",
              "    }\n",
              "  })({\"config\": {\"view\": {\"continuousWidth\": 300, \"continuousHeight\": 300}, \"axis\": {\"labelAngle\": 45}}, \"data\": {\"name\": \"data-ad398f241364655c8ba0ef1a40ba0a72\"}, \"mark\": {\"type\": \"text\", \"align\": \"center\", \"baseline\": \"bottom\", \"dy\": -5}, \"encoding\": {\"color\": {\"field\": \"Column\", \"scale\": {\"scheme\": \"set1\"}, \"type\": \"nominal\"}, \"text\": {\"field\": \"Zero_Crossings\", \"type\": \"quantitative\"}, \"x\": {\"field\": \"Column\", \"sort\": null, \"title\": \"Columnas\", \"type\": \"nominal\"}, \"y\": {\"field\": \"Zero_Crossings\", \"title\": \"N\\u00famero de cruces por 0\", \"type\": \"quantitative\"}}, \"height\": 400, \"title\": \"Gr\\u00e1fica de cruces por cero PACIENTE 11\", \"width\": 600, \"$schema\": \"https://vega.github.io/schema/vega-lite/v5.20.1.json\", \"datasets\": {\"data-ad398f241364655c8ba0ef1a40ba0a72\": [{\"Column\": \"Veloc\", \"Zero_Crossings\": 2825}, {\"Column\": \"Acele\", \"Zero_Crossings\": 4028}, {\"Column\": \"Des_x\", \"Zero_Crossings\": 3451}, {\"Column\": \"Des_y\", \"Zero_Crossings\": 2845}, {\"Column\": \"Des_z\", \"Zero_Crossings\": 2043}, {\"Column\": \"Presn\", \"Zero_Crossings\": 3134}, {\"Column\": \"VelPr\", \"Zero_Crossings\": 2634}, {\"Column\": \"AcePr\", \"Zero_Crossings\": 4630}, {\"Column\": \"F5EEX\", \"Zero_Crossings\": 1700}, {\"Column\": \"F6EES\", \"Zero_Crossings\": 1694}, {\"Column\": \"F8EIX\", \"Zero_Crossings\": 1760}, {\"Column\": \"F7EIS\", \"Zero_Crossings\": 1810}, {\"Column\": \"F9EEX\", \"Zero_Crossings\": 1678}, {\"Column\": \"F10ES\", \"Zero_Crossings\": 1684}, {\"Column\": \"F11EX\", \"Zero_Crossings\": 1874}, {\"Column\": \"F12ES\", \"Zero_Crossings\": 1690}, {\"Column\": \"F13EV\", \"Zero_Crossings\": 1285}, {\"Column\": \"F14EV\", \"Zero_Crossings\": 1176}, {\"Column\": \"F17MS\", \"Zero_Crossings\": 1319}, {\"Column\": \"F18MX\", \"Zero_Crossings\": 1076}, {\"Column\": \"F15MS\", \"Zero_Crossings\": 1164}, {\"Column\": \"F16MX\", \"Zero_Crossings\": 1212}, {\"Column\": \"F19MH\", \"Zero_Crossings\": 1434}, {\"Column\": \"F20MH\", \"Zero_Crossings\": 915}, {\"Column\": \"F1EBX\", \"Zero_Crossings\": 1311}, {\"Column\": \"F2EBS\", \"Zero_Crossings\": 1348}, {\"Column\": \"F4EBX\", \"Zero_Crossings\": 1327}, {\"Column\": \"F3EBS\", \"Zero_Crossings\": 1564}, {\"Column\": \"01_C\", \"Zero_Crossings\": 31}, {\"Column\": \"02_A\", \"Zero_Crossings\": 174}, {\"Column\": \"03_D\", \"Zero_Crossings\": 38}, {\"Column\": \"04_M\", \"Zero_Crossings\": 197}, {\"Column\": \"time\", \"Zero_Crossings\": 0}, {\"Column\": \"Distancia\", \"Zero_Crossings\": 3001}]}}, {\"mode\": \"vega-lite\"});\n",
              "</script>"
            ],
            "text/plain": [
              "alt.Chart(...)"
            ]
          },
          "metadata": {},
          "output_type": "display_data"
        }
      ],
      "source": [
        "# Configurar la gráfica de barras en Altair\n",
        "chart_P11 = alt.Chart(df_cross_zero_counts_P11).mark_bar().encode(\n",
        "    x=alt.X('Column', sort=None, title='Columnas'),\n",
        "    y=alt.Y('Zero_Crossings', title='Número de cruces por 0'),\n",
        "    color=alt.Color('Column', scale=alt.Scale(scheme='set1'))  # Colores de la paleta Set1\n",
        ").properties(\n",
        "    title='Gráfica de cruces por cero PACIENTE 11',\n",
        "    width=600,\n",
        "    height=400\n",
        ").configure_axis(\n",
        "    labelAngle=45  # Rotar etiquetas del eje X\n",
        ").mark_text(\n",
        "    align='center',\n",
        "    baseline='bottom',\n",
        "    dy=-5  # Ajuste de posición para mostrar encima de la barra\n",
        ").encode(\n",
        "    text=alt.Text('Zero_Crossings:Q')\n",
        ")\n",
        "\n",
        "chart_P11.display()\n"
      ]
    },
    {
      "cell_type": "code",
      "execution_count": 18,
      "metadata": {
        "id": "wnocygoFfM3O",
        "outputId": "0c8f5391-bdfd-4d1b-d1b8-0484a08d5f82"
      },
      "outputs": [
        {
          "data": {
            "text/html": [
              "\n",
              "<style>\n",
              "  #altair-viz-3b419de058dc4b4b886a58d59e05ddf9.vega-embed {\n",
              "    width: 100%;\n",
              "    display: flex;\n",
              "  }\n",
              "\n",
              "  #altair-viz-3b419de058dc4b4b886a58d59e05ddf9.vega-embed details,\n",
              "  #altair-viz-3b419de058dc4b4b886a58d59e05ddf9.vega-embed details summary {\n",
              "    position: relative;\n",
              "  }\n",
              "</style>\n",
              "<div id=\"altair-viz-3b419de058dc4b4b886a58d59e05ddf9\"></div>\n",
              "<script type=\"text/javascript\">\n",
              "  var VEGA_DEBUG = (typeof VEGA_DEBUG == \"undefined\") ? {} : VEGA_DEBUG;\n",
              "  (function(spec, embedOpt){\n",
              "    let outputDiv = document.currentScript.previousElementSibling;\n",
              "    if (outputDiv.id !== \"altair-viz-3b419de058dc4b4b886a58d59e05ddf9\") {\n",
              "      outputDiv = document.getElementById(\"altair-viz-3b419de058dc4b4b886a58d59e05ddf9\");\n",
              "    }\n",
              "    const paths = {\n",
              "      \"vega\": \"https://cdn.jsdelivr.net/npm/vega@5?noext\",\n",
              "      \"vega-lib\": \"https://cdn.jsdelivr.net/npm/vega-lib?noext\",\n",
              "      \"vega-lite\": \"https://cdn.jsdelivr.net/npm/vega-lite@5.20.1?noext\",\n",
              "      \"vega-embed\": \"https://cdn.jsdelivr.net/npm/vega-embed@6?noext\",\n",
              "    };\n",
              "\n",
              "    function maybeLoadScript(lib, version) {\n",
              "      var key = `${lib.replace(\"-\", \"\")}_version`;\n",
              "      return (VEGA_DEBUG[key] == version) ?\n",
              "        Promise.resolve(paths[lib]) :\n",
              "        new Promise(function(resolve, reject) {\n",
              "          var s = document.createElement('script');\n",
              "          document.getElementsByTagName(\"head\")[0].appendChild(s);\n",
              "          s.async = true;\n",
              "          s.onload = () => {\n",
              "            VEGA_DEBUG[key] = version;\n",
              "            return resolve(paths[lib]);\n",
              "          };\n",
              "          s.onerror = () => reject(`Error loading script: ${paths[lib]}`);\n",
              "          s.src = paths[lib];\n",
              "        });\n",
              "    }\n",
              "\n",
              "    function showError(err) {\n",
              "      outputDiv.innerHTML = `<div class=\"error\" style=\"color:red;\">${err}</div>`;\n",
              "      throw err;\n",
              "    }\n",
              "\n",
              "    function displayChart(vegaEmbed) {\n",
              "      vegaEmbed(outputDiv, spec, embedOpt)\n",
              "        .catch(err => showError(`Javascript Error: ${err.message}<br>This usually means there's a typo in your chart specification. See the javascript console for the full traceback.`));\n",
              "    }\n",
              "\n",
              "    if(typeof define === \"function\" && define.amd) {\n",
              "      requirejs.config({paths});\n",
              "      require([\"vega-embed\"], displayChart, err => showError(`Error loading script: ${err.message}`));\n",
              "    } else {\n",
              "      maybeLoadScript(\"vega\", \"5\")\n",
              "        .then(() => maybeLoadScript(\"vega-lite\", \"5.20.1\"))\n",
              "        .then(() => maybeLoadScript(\"vega-embed\", \"6\"))\n",
              "        .catch(showError)\n",
              "        .then(() => displayChart(vegaEmbed));\n",
              "    }\n",
              "  })({\"config\": {\"view\": {\"continuousWidth\": 300, \"continuousHeight\": 300}}, \"layer\": [{\"mark\": {\"type\": \"bar\"}, \"encoding\": {\"color\": {\"field\": \"Legend\", \"legend\": {\"orient\": \"right\", \"title\": \"Variables (Grupos)\"}, \"scale\": {\"domain\": [\"Veloc y Acele\", \"Des_x y Des_y\", \"Des_z y Presn\", \"VelPr y AcePr\", \"F5EEX y F6EES\", \"F8EIX y F7EIS\", \"F9EEX y F10ES\", \"F11EX y F12ES\", \"F13EV y F14EV\", \"F17MS y F18MX\", \"F15MS y F16MX\", \"F19MH y F20MH\", \"F1EBX y F2EBS\", \"F4EBX y F3EBS\", \"01_C y 02_A\", \"03_D y 04_M\", \"time y Distancia\"], \"range\": [\"#1f77b4\", \"#ff7f0e\", \"#2ca02c\", \"#d62728\", \"#9467bd\", \"#8c564b\", \"#e377c2\", \"#7f7f7f\", \"#bcbd22\", \"#17becf\", \"#ffbb78\", \"#ff9896\", \"#c5b0d5\", \"#c49c94\", \"#f7b6d2\", \"#dbdb8d\", \"#9edae5\"]}, \"type\": \"nominal\"}, \"x\": {\"field\": \"Column\", \"sort\": null, \"title\": \"Columnas\", \"type\": \"nominal\"}, \"y\": {\"field\": \"Zero_Crossings\", \"title\": \"N\\u00famero de cruces por 0\", \"type\": \"quantitative\"}}, \"title\": \"Gr\\u00e1fica de cruces por cero PACIENTE 11\"}, {\"mark\": {\"type\": \"text\", \"align\": \"center\", \"baseline\": \"bottom\", \"dy\": -5}, \"encoding\": {\"color\": {\"field\": \"Legend\", \"legend\": {\"orient\": \"right\", \"title\": \"Variables (Grupos)\"}, \"scale\": {\"domain\": [\"Veloc y Acele\", \"Des_x y Des_y\", \"Des_z y Presn\", \"VelPr y AcePr\", \"F5EEX y F6EES\", \"F8EIX y F7EIS\", \"F9EEX y F10ES\", \"F11EX y F12ES\", \"F13EV y F14EV\", \"F17MS y F18MX\", \"F15MS y F16MX\", \"F19MH y F20MH\", \"F1EBX y F2EBS\", \"F4EBX y F3EBS\", \"01_C y 02_A\", \"03_D y 04_M\", \"time y Distancia\"], \"range\": [\"#1f77b4\", \"#ff7f0e\", \"#2ca02c\", \"#d62728\", \"#9467bd\", \"#8c564b\", \"#e377c2\", \"#7f7f7f\", \"#bcbd22\", \"#17becf\", \"#ffbb78\", \"#ff9896\", \"#c5b0d5\", \"#c49c94\", \"#f7b6d2\", \"#dbdb8d\", \"#9edae5\"]}, \"type\": \"nominal\"}, \"text\": {\"field\": \"Zero_Crossings\", \"type\": \"quantitative\"}, \"x\": {\"field\": \"Column\", \"sort\": null, \"title\": \"Columnas\", \"type\": \"nominal\"}, \"y\": {\"field\": \"Zero_Crossings\", \"title\": \"N\\u00famero de cruces por 0\", \"type\": \"quantitative\"}}, \"title\": \"Gr\\u00e1fica de cruces por cero PACIENTE 11\"}], \"data\": {\"name\": \"data-957d1a3c7c92f07e57cf0235d82c8430\"}, \"height\": 400, \"width\": 600, \"$schema\": \"https://vega.github.io/schema/vega-lite/v5.20.1.json\", \"datasets\": {\"data-957d1a3c7c92f07e57cf0235d82c8430\": [{\"Column\": \"Veloc\", \"Zero_Crossings\": 2825, \"Legend\": \"Veloc y Acele\", \"Color\": 0}, {\"Column\": \"Acele\", \"Zero_Crossings\": 4028, \"Legend\": \"Veloc y Acele\", \"Color\": 0}, {\"Column\": \"Des_x\", \"Zero_Crossings\": 3451, \"Legend\": \"Des_x y Des_y\", \"Color\": 1}, {\"Column\": \"Des_y\", \"Zero_Crossings\": 2845, \"Legend\": \"Des_x y Des_y\", \"Color\": 1}, {\"Column\": \"Des_z\", \"Zero_Crossings\": 2043, \"Legend\": \"Des_z y Presn\", \"Color\": 2}, {\"Column\": \"Presn\", \"Zero_Crossings\": 3134, \"Legend\": \"Des_z y Presn\", \"Color\": 2}, {\"Column\": \"VelPr\", \"Zero_Crossings\": 2634, \"Legend\": \"VelPr y AcePr\", \"Color\": 3}, {\"Column\": \"AcePr\", \"Zero_Crossings\": 4630, \"Legend\": \"VelPr y AcePr\", \"Color\": 3}, {\"Column\": \"F5EEX\", \"Zero_Crossings\": 1700, \"Legend\": \"F5EEX y F6EES\", \"Color\": 4}, {\"Column\": \"F6EES\", \"Zero_Crossings\": 1694, \"Legend\": \"F5EEX y F6EES\", \"Color\": 4}, {\"Column\": \"F8EIX\", \"Zero_Crossings\": 1760, \"Legend\": \"F8EIX y F7EIS\", \"Color\": 5}, {\"Column\": \"F7EIS\", \"Zero_Crossings\": 1810, \"Legend\": \"F8EIX y F7EIS\", \"Color\": 5}, {\"Column\": \"F9EEX\", \"Zero_Crossings\": 1678, \"Legend\": \"F9EEX y F10ES\", \"Color\": 6}, {\"Column\": \"F10ES\", \"Zero_Crossings\": 1684, \"Legend\": \"F9EEX y F10ES\", \"Color\": 6}, {\"Column\": \"F11EX\", \"Zero_Crossings\": 1874, \"Legend\": \"F11EX y F12ES\", \"Color\": 7}, {\"Column\": \"F12ES\", \"Zero_Crossings\": 1690, \"Legend\": \"F11EX y F12ES\", \"Color\": 7}, {\"Column\": \"F13EV\", \"Zero_Crossings\": 1285, \"Legend\": \"F13EV y F14EV\", \"Color\": 8}, {\"Column\": \"F14EV\", \"Zero_Crossings\": 1176, \"Legend\": \"F13EV y F14EV\", \"Color\": 8}, {\"Column\": \"F17MS\", \"Zero_Crossings\": 1319, \"Legend\": \"F17MS y F18MX\", \"Color\": 9}, {\"Column\": \"F18MX\", \"Zero_Crossings\": 1076, \"Legend\": \"F17MS y F18MX\", \"Color\": 9}, {\"Column\": \"F15MS\", \"Zero_Crossings\": 1164, \"Legend\": \"F15MS y F16MX\", \"Color\": 10}, {\"Column\": \"F16MX\", \"Zero_Crossings\": 1212, \"Legend\": \"F15MS y F16MX\", \"Color\": 10}, {\"Column\": \"F19MH\", \"Zero_Crossings\": 1434, \"Legend\": \"F19MH y F20MH\", \"Color\": 11}, {\"Column\": \"F20MH\", \"Zero_Crossings\": 915, \"Legend\": \"F19MH y F20MH\", \"Color\": 11}, {\"Column\": \"F1EBX\", \"Zero_Crossings\": 1311, \"Legend\": \"F1EBX y F2EBS\", \"Color\": 12}, {\"Column\": \"F2EBS\", \"Zero_Crossings\": 1348, \"Legend\": \"F1EBX y F2EBS\", \"Color\": 12}, {\"Column\": \"F4EBX\", \"Zero_Crossings\": 1327, \"Legend\": \"F4EBX y F3EBS\", \"Color\": 13}, {\"Column\": \"F3EBS\", \"Zero_Crossings\": 1564, \"Legend\": \"F4EBX y F3EBS\", \"Color\": 13}, {\"Column\": \"01_C\", \"Zero_Crossings\": 31, \"Legend\": \"01_C y 02_A\", \"Color\": 14}, {\"Column\": \"02_A\", \"Zero_Crossings\": 174, \"Legend\": \"01_C y 02_A\", \"Color\": 14}, {\"Column\": \"03_D\", \"Zero_Crossings\": 38, \"Legend\": \"03_D y 04_M\", \"Color\": 15}, {\"Column\": \"04_M\", \"Zero_Crossings\": 197, \"Legend\": \"03_D y 04_M\", \"Color\": 15}, {\"Column\": \"time\", \"Zero_Crossings\": 0, \"Legend\": null, \"Color\": -1}, {\"Column\": \"Distancia\", \"Zero_Crossings\": 3001, \"Legend\": \"time y Distancia\", \"Color\": 16}]}}, {\"mode\": \"vega-lite\"});\n",
              "</script>"
            ],
            "text/plain": [
              "alt.LayerChart(...)"
            ]
          },
          "metadata": {},
          "output_type": "display_data"
        }
      ],
      "source": [
        "import pandas as pd\n",
        "import altair as alt\n",
        "\n",
        "# Supongamos que df_cross_zero_counts es tu DataFrame original\n",
        "# df_cross_zero_counts = pd.DataFrame({...})\n",
        "\n",
        "# Definir una lista de 17 colores\n",
        "colors = [\n",
        "    '#1f77b4', '#ff7f0e', '#2ca02c', '#d62728', '#9467bd',\n",
        "    '#8c564b', '#e377c2', '#7f7f7f', '#bcbd22', '#17becf',\n",
        "    '#ffbb78', '#ff9896', '#c5b0d5', '#c49c94', '#f7b6d2',\n",
        "    '#dbdb8d', '#9edae5'\n",
        "]\n",
        "\n",
        "# Agrupar columnas en pares y crear etiquetas para la leyenda\n",
        "labels = []\n",
        "for i in range(0, len(df_cross_zero_counts_P11) - 1, 2):\n",
        "    pair_label = f\"{df_cross_zero_counts_P11['Column'].iloc[i]} y {df_cross_zero_counts_P11['Column'].iloc[i + 1]}\"\n",
        "    labels.append(pair_label)\n",
        "\n",
        "# Agregar la última columna como un grupo único\n",
        "if len(df_cross_zero_counts_P11) % 2 == 1:\n",
        "    labels.append(df_cross_zero_counts_P11['Column'].iloc[-1])\n",
        "\n",
        "# Asignar las etiquetas al DataFrame\n",
        "df_cross_zero_counts_P11['Legend'] = None\n",
        "for i, label in enumerate(labels):\n",
        "    if i < len(labels) - 1:  # Asignar el par de nombres\n",
        "        df_cross_zero_counts_P11.loc[2 * i:2 * i + 1, 'Legend'] = label\n",
        "    else:  # Asignar la última columna sola\n",
        "        df_cross_zero_counts_P11.loc[len(df_cross_zero_counts_P11) - 1, 'Legend'] = label\n",
        "\n",
        "# Crear una nueva columna para los colores\n",
        "df_cross_zero_counts_P11['Color'] = df_cross_zero_counts_P11['Legend'].factorize()[0]\n",
        "\n",
        "# Gráfico de barras\n",
        "bars_P11 = alt.Chart(df_cross_zero_counts_P11).mark_bar().encode(\n",
        "    x=alt.X('Column', sort=None, title='Columnas'),\n",
        "    y=alt.Y('Zero_Crossings', title='Número de cruces por 0'),\n",
        "    color=alt.Color('Legend:N', scale=alt.Scale(domain=labels, range=colors[:len(labels)]),\n",
        "                    legend=alt.Legend(title=\"Variables (Grupos)\", orient='right'))  # Leyenda a la derecha\n",
        ").properties(\n",
        "    title='Gráfica de cruces por cero PACIENTE 11',\n",
        "    width=600,\n",
        "    height=400\n",
        ")\n",
        "\n",
        "# Agregar etiquetas de texto en una capa separada\n",
        "text = bars_P11.mark_text(\n",
        "    align='center',\n",
        "    baseline='bottom',\n",
        "    dy=-5  # Ajuste para que el texto quede sobre la barra\n",
        ").encode(\n",
        "    text='Zero_Crossings:Q'  # Cuantitative (Q), Ordinal (O), Nominal (N), Temporal (T)\n",
        ")\n",
        "\n",
        "# Combinar barras y texto\n",
        "chart_P11 = bars_P11 + text\n",
        "\n",
        "# Mostrar el gráfico\n",
        "chart_P11.display()"
      ]
    },
    {
      "cell_type": "code",
      "execution_count": 19,
      "metadata": {
        "id": "2kaSXZp7fM3O",
        "outputId": "c9e82abc-1775-4598-c567-264ad65d8162"
      },
      "outputs": [
        {
          "name": "stderr",
          "output_type": "stream",
          "text": [
            "/var/folders/zc/0810pbdx27g4bxf79h2cbnf40000gn/T/ipykernel_10392/1591041453.py:17: UserWarning:\n",
            "\n",
            "set_ticklabels() should only be used with a fixed number of ticks, i.e. after set_ticks() or using a FixedLocator.\n",
            "\n"
          ]
        },
        {
          "data": {
            "image/png": "[encoded data removed]",
            "text/plain": [
              "<Figure size 1000x600 with 2 Axes>"
            ]
          },
          "metadata": {},
          "output_type": "display_data"
        }
      ],
      "source": [
        "# Ordenar los datos en orden descendente por 'Zero_Crossings'\n",
        "df_cross_zero_counts_P11 = df_cross_zero_counts_P11.sort_values(by='Zero_Crossings', ascending=False).reset_index(drop=True)\n",
        "\n",
        "# Calcular el porcentaje acumulativo\n",
        "df_cross_zero_counts_P11['Cumulative_Percentage'] = df_cross_zero_counts_P11['Zero_Crossings'].cumsum() / df_cross_zero_counts_P11['Zero_Crossings'].sum() * 100\n",
        "\n",
        "# Crear la gráfica de Pareto\n",
        "fig, ax1 = plt.subplots(figsize=(10, 6))\n",
        "\n",
        "# Graficar las barras de conteo de cruces por cero\n",
        "bars_P11 = ax1.bar(df_cross_zero_counts_P11['Column'], df_cross_zero_counts_P11['Zero_Crossings'], color='skyblue', label='Zero Crossings')\n",
        "ax1.set_xlabel('Column')\n",
        "ax1.set_ylabel('Zero Crossings', color='skyblue')\n",
        "ax1.tick_params(axis='y', labelcolor='skyblue')\n",
        "\n",
        "# Rotar las etiquetas del eje X\n",
        "ax1.set_xticklabels(df_cross_zero_counts_P11['Column'], rotation=45, ha='right')\n",
        "\n",
        "# Crear un segundo eje Y para la línea de porcentaje acumulado\n",
        "ax2 = ax1.twinx()\n",
        "ax2.plot(df_cross_zero_counts_P11['Column'], df_cross_zero_counts_P11['Cumulative_Percentage'], color='orange', marker='o', linestyle='-', linewidth=2, label='Cumulative Percentage')\n",
        "ax2.set_ylabel('Cumulative Percentage (%)', color='orange')\n",
        "ax2.tick_params(axis='y', labelcolor='orange')\n",
        "ax2.set_ylim([0, 110])  # Asegura que el límite superior permita que la línea llegue hasta 100%\n",
        "\n",
        "# Agregar línea de referencia en 80%\n",
        "ax2.axhline(80, color='grey', linestyle='--', linewidth=0.8)\n",
        "\n",
        "# Mostrar leyendas\n",
        "fig.tight_layout()\n",
        "plt.title('Pareto Chart of Zero Crossings PACIENTE 11')\n",
        "plt.show()"
      ]
    },
    {
      "cell_type": "code",
      "execution_count": 20,
      "metadata": {
        "id": "AHM680bgfM3P",
        "outputId": "5ee4decf-9011-4e53-a41e-0ada8ad78f1d"
      },
      "outputs": [
        {
          "data": {
            "text/html": [
              "<div>\n",
              "<style scoped>\n",
              "    .dataframe tbody tr th:only-of-type {\n",
              "        vertical-align: middle;\n",
              "    }\n",
              "\n",
              "    .dataframe tbody tr th {\n",
              "        vertical-align: top;\n",
              "    }\n",
              "\n",
              "    .dataframe thead th {\n",
              "        text-align: right;\n",
              "    }\n",
              "</style>\n",
              "<table border=\"1\" class=\"dataframe\">\n",
              "  <thead>\n",
              "    <tr style=\"text-align: right;\">\n",
              "      <th></th>\n",
              "      <th>Column</th>\n",
              "      <th>Zero_Crossings</th>\n",
              "      <th>Legend</th>\n",
              "      <th>Color</th>\n",
              "      <th>Cumulative_Percentage</th>\n",
              "    </tr>\n",
              "  </thead>\n",
              "  <tbody>\n",
              "    <tr>\n",
              "      <th>0</th>\n",
              "      <td>AcePr</td>\n",
              "      <td>4630</td>\n",
              "      <td>VelPr y AcePr</td>\n",
              "      <td>3</td>\n",
              "      <td>7.975608</td>\n",
              "    </tr>\n",
              "    <tr>\n",
              "      <th>1</th>\n",
              "      <td>Acele</td>\n",
              "      <td>4028</td>\n",
              "      <td>Veloc y Acele</td>\n",
              "      <td>0</td>\n",
              "      <td>14.914215</td>\n",
              "    </tr>\n",
              "    <tr>\n",
              "      <th>2</th>\n",
              "      <td>Des_x</td>\n",
              "      <td>3451</td>\n",
              "      <td>Des_x y Des_y</td>\n",
              "      <td>1</td>\n",
              "      <td>20.858885</td>\n",
              "    </tr>\n",
              "    <tr>\n",
              "      <th>3</th>\n",
              "      <td>Presn</td>\n",
              "      <td>3134</td>\n",
              "      <td>Des_z y Presn</td>\n",
              "      <td>2</td>\n",
              "      <td>26.257493</td>\n",
              "    </tr>\n",
              "    <tr>\n",
              "      <th>4</th>\n",
              "      <td>Distancia</td>\n",
              "      <td>3001</td>\n",
              "      <td>time y Distancia</td>\n",
              "      <td>16</td>\n",
              "      <td>31.426996</td>\n",
              "    </tr>\n",
              "    <tr>\n",
              "      <th>5</th>\n",
              "      <td>Des_y</td>\n",
              "      <td>2845</td>\n",
              "      <td>Des_x y Des_y</td>\n",
              "      <td>1</td>\n",
              "      <td>36.327775</td>\n",
              "    </tr>\n",
              "    <tr>\n",
              "      <th>6</th>\n",
              "      <td>Veloc</td>\n",
              "      <td>2825</td>\n",
              "      <td>Veloc y Acele</td>\n",
              "      <td>0</td>\n",
              "      <td>41.194102</td>\n",
              "    </tr>\n",
              "    <tr>\n",
              "      <th>7</th>\n",
              "      <td>VelPr</td>\n",
              "      <td>2634</td>\n",
              "      <td>VelPr y AcePr</td>\n",
              "      <td>3</td>\n",
              "      <td>45.731413</td>\n",
              "    </tr>\n",
              "    <tr>\n",
              "      <th>8</th>\n",
              "      <td>Des_z</td>\n",
              "      <td>2043</td>\n",
              "      <td>Des_z y Presn</td>\n",
              "      <td>2</td>\n",
              "      <td>49.250672</td>\n",
              "    </tr>\n",
              "    <tr>\n",
              "      <th>9</th>\n",
              "      <td>F11EX</td>\n",
              "      <td>1874</td>\n",
              "      <td>F11EX y F12ES</td>\n",
              "      <td>7</td>\n",
              "      <td>52.478812</td>\n",
              "    </tr>\n",
              "    <tr>\n",
              "      <th>10</th>\n",
              "      <td>F7EIS</td>\n",
              "      <td>1810</td>\n",
              "      <td>F8EIX y F7EIS</td>\n",
              "      <td>5</td>\n",
              "      <td>55.596706</td>\n",
              "    </tr>\n",
              "    <tr>\n",
              "      <th>11</th>\n",
              "      <td>F8EIX</td>\n",
              "      <td>1760</td>\n",
              "      <td>F8EIX y F7EIS</td>\n",
              "      <td>5</td>\n",
              "      <td>58.628471</td>\n",
              "    </tr>\n",
              "    <tr>\n",
              "      <th>12</th>\n",
              "      <td>F5EEX</td>\n",
              "      <td>1700</td>\n",
              "      <td>F5EEX y F6EES</td>\n",
              "      <td>4</td>\n",
              "      <td>61.556880</td>\n",
              "    </tr>\n",
              "    <tr>\n",
              "      <th>13</th>\n",
              "      <td>F6EES</td>\n",
              "      <td>1694</td>\n",
              "      <td>F5EEX y F6EES</td>\n",
              "      <td>4</td>\n",
              "      <td>64.474953</td>\n",
              "    </tr>\n",
              "    <tr>\n",
              "      <th>14</th>\n",
              "      <td>F12ES</td>\n",
              "      <td>1690</td>\n",
              "      <td>F11EX y F12ES</td>\n",
              "      <td>7</td>\n",
              "      <td>67.386137</td>\n",
              "    </tr>\n",
              "    <tr>\n",
              "      <th>15</th>\n",
              "      <td>F10ES</td>\n",
              "      <td>1684</td>\n",
              "      <td>F9EEX y F10ES</td>\n",
              "      <td>6</td>\n",
              "      <td>70.286984</td>\n",
              "    </tr>\n",
              "    <tr>\n",
              "      <th>16</th>\n",
              "      <td>F9EEX</td>\n",
              "      <td>1678</td>\n",
              "      <td>F9EEX y F10ES</td>\n",
              "      <td>6</td>\n",
              "      <td>73.177496</td>\n",
              "    </tr>\n",
              "    <tr>\n",
              "      <th>17</th>\n",
              "      <td>F3EBS</td>\n",
              "      <td>1564</td>\n",
              "      <td>F4EBX y F3EBS</td>\n",
              "      <td>13</td>\n",
              "      <td>75.871632</td>\n",
              "    </tr>\n",
              "    <tr>\n",
              "      <th>18</th>\n",
              "      <td>F19MH</td>\n",
              "      <td>1434</td>\n",
              "      <td>F19MH y F20MH</td>\n",
              "      <td>11</td>\n",
              "      <td>78.341831</td>\n",
              "    </tr>\n",
              "    <tr>\n",
              "      <th>19</th>\n",
              "      <td>F2EBS</td>\n",
              "      <td>1348</td>\n",
              "      <td>F1EBX y F2EBS</td>\n",
              "      <td>12</td>\n",
              "      <td>80.663888</td>\n",
              "    </tr>\n",
              "    <tr>\n",
              "      <th>20</th>\n",
              "      <td>F4EBX</td>\n",
              "      <td>1327</td>\n",
              "      <td>F4EBX y F3EBS</td>\n",
              "      <td>13</td>\n",
              "      <td>82.949769</td>\n",
              "    </tr>\n",
              "    <tr>\n",
              "      <th>21</th>\n",
              "      <td>F17MS</td>\n",
              "      <td>1319</td>\n",
              "      <td>F17MS y F18MX</td>\n",
              "      <td>9</td>\n",
              "      <td>85.221870</td>\n",
              "    </tr>\n",
              "    <tr>\n",
              "      <th>22</th>\n",
              "      <td>F1EBX</td>\n",
              "      <td>1311</td>\n",
              "      <td>F1EBX y F2EBS</td>\n",
              "      <td>12</td>\n",
              "      <td>87.480190</td>\n",
              "    </tr>\n",
              "    <tr>\n",
              "      <th>23</th>\n",
              "      <td>F13EV</td>\n",
              "      <td>1285</td>\n",
              "      <td>F13EV y F14EV</td>\n",
              "      <td>8</td>\n",
              "      <td>89.693723</td>\n",
              "    </tr>\n",
              "    <tr>\n",
              "      <th>24</th>\n",
              "      <td>F16MX</td>\n",
              "      <td>1212</td>\n",
              "      <td>F15MS y F16MX</td>\n",
              "      <td>10</td>\n",
              "      <td>91.781506</td>\n",
              "    </tr>\n",
              "    <tr>\n",
              "      <th>25</th>\n",
              "      <td>F14EV</td>\n",
              "      <td>1176</td>\n",
              "      <td>F13EV y F14EV</td>\n",
              "      <td>8</td>\n",
              "      <td>93.807276</td>\n",
              "    </tr>\n",
              "    <tr>\n",
              "      <th>26</th>\n",
              "      <td>F15MS</td>\n",
              "      <td>1164</td>\n",
              "      <td>F15MS y F16MX</td>\n",
              "      <td>10</td>\n",
              "      <td>95.812375</td>\n",
              "    </tr>\n",
              "    <tr>\n",
              "      <th>27</th>\n",
              "      <td>F18MX</td>\n",
              "      <td>1076</td>\n",
              "      <td>F17MS y F18MX</td>\n",
              "      <td>9</td>\n",
              "      <td>97.665886</td>\n",
              "    </tr>\n",
              "    <tr>\n",
              "      <th>28</th>\n",
              "      <td>F20MH</td>\n",
              "      <td>915</td>\n",
              "      <td>F19MH y F20MH</td>\n",
              "      <td>11</td>\n",
              "      <td>99.242059</td>\n",
              "    </tr>\n",
              "    <tr>\n",
              "      <th>29</th>\n",
              "      <td>04_M</td>\n",
              "      <td>197</td>\n",
              "      <td>03_D y 04_M</td>\n",
              "      <td>15</td>\n",
              "      <td>99.581410</td>\n",
              "    </tr>\n",
              "    <tr>\n",
              "      <th>30</th>\n",
              "      <td>02_A</td>\n",
              "      <td>174</td>\n",
              "      <td>01_C y 02_A</td>\n",
              "      <td>14</td>\n",
              "      <td>99.881141</td>\n",
              "    </tr>\n",
              "    <tr>\n",
              "      <th>31</th>\n",
              "      <td>03_D</td>\n",
              "      <td>38</td>\n",
              "      <td>03_D y 04_M</td>\n",
              "      <td>15</td>\n",
              "      <td>99.946600</td>\n",
              "    </tr>\n",
              "    <tr>\n",
              "      <th>32</th>\n",
              "      <td>01_C</td>\n",
              "      <td>31</td>\n",
              "      <td>01_C y 02_A</td>\n",
              "      <td>14</td>\n",
              "      <td>100.000000</td>\n",
              "    </tr>\n",
              "    <tr>\n",
              "      <th>33</th>\n",
              "      <td>time</td>\n",
              "      <td>0</td>\n",
              "      <td>None</td>\n",
              "      <td>-1</td>\n",
              "      <td>100.000000</td>\n",
              "    </tr>\n",
              "  </tbody>\n",
              "</table>\n",
              "</div>"
            ],
            "text/plain": [
              "       Column  Zero_Crossings            Legend  Color  Cumulative_Percentage\n",
              "0       AcePr            4630     VelPr y AcePr      3               7.975608\n",
              "1       Acele            4028     Veloc y Acele      0              14.914215\n",
              "2       Des_x            3451     Des_x y Des_y      1              20.858885\n",
              "3       Presn            3134     Des_z y Presn      2              26.257493\n",
              "4   Distancia            3001  time y Distancia     16              31.426996\n",
              "5       Des_y            2845     Des_x y Des_y      1              36.327775\n",
              "6       Veloc            2825     Veloc y Acele      0              41.194102\n",
              "7       VelPr            2634     VelPr y AcePr      3              45.731413\n",
              "8       Des_z            2043     Des_z y Presn      2              49.250672\n",
              "9       F11EX            1874     F11EX y F12ES      7              52.478812\n",
              "10      F7EIS            1810     F8EIX y F7EIS      5              55.596706\n",
              "11      F8EIX            1760     F8EIX y F7EIS      5              58.628471\n",
              "12      F5EEX            1700     F5EEX y F6EES      4              61.556880\n",
              "13      F6EES            1694     F5EEX y F6EES      4              64.474953\n",
              "14      F12ES            1690     F11EX y F12ES      7              67.386137\n",
              "15      F10ES            1684     F9EEX y F10ES      6              70.286984\n",
              "16      F9EEX            1678     F9EEX y F10ES      6              73.177496\n",
              "17      F3EBS            1564     F4EBX y F3EBS     13              75.871632\n",
              "18      F19MH            1434     F19MH y F20MH     11              78.341831\n",
              "19      F2EBS            1348     F1EBX y F2EBS     12              80.663888\n",
              "20      F4EBX            1327     F4EBX y F3EBS     13              82.949769\n",
              "21      F17MS            1319     F17MS y F18MX      9              85.221870\n",
              "22      F1EBX            1311     F1EBX y F2EBS     12              87.480190\n",
              "23      F13EV            1285     F13EV y F14EV      8              89.693723\n",
              "24      F16MX            1212     F15MS y F16MX     10              91.781506\n",
              "25      F14EV            1176     F13EV y F14EV      8              93.807276\n",
              "26      F15MS            1164     F15MS y F16MX     10              95.812375\n",
              "27      F18MX            1076     F17MS y F18MX      9              97.665886\n",
              "28      F20MH             915     F19MH y F20MH     11              99.242059\n",
              "29       04_M             197       03_D y 04_M     15              99.581410\n",
              "30       02_A             174       01_C y 02_A     14              99.881141\n",
              "31       03_D              38       03_D y 04_M     15              99.946600\n",
              "32       01_C              31       01_C y 02_A     14             100.000000\n",
              "33       time               0              None     -1             100.000000"
            ]
          },
          "execution_count": 20,
          "metadata": {},
          "output_type": "execute_result"
        }
      ],
      "source": [
        "\n",
        "# Ordenar los datos en orden descendente y calcular el porcentaje acumulativo\n",
        "df_cross_zero_counts_P11 = df_cross_zero_counts_P11.sort_values(by='Zero_Crossings', ascending=False).reset_index(drop=True)\n",
        "df_cross_zero_counts_P11['Cumulative_Percentage'] = df_cross_zero_counts_P11['Zero_Crossings'].cumsum() / df_cross_zero_counts_P11['Zero_Crossings'].sum() * 100\n",
        "\n",
        "df_cross_zero_counts_P11"
      ]
    },
    {
      "cell_type": "code",
      "execution_count": 21,
      "metadata": {
        "id": "5fjWOp2mfM3P",
        "outputId": "fc8f3567-a60e-42dc-ca22-1983ab661efc"
      },
      "outputs": [
        {
          "data": {
            "text/html": [
              "\n",
              "<style>\n",
              "  #altair-viz-130527a8dd0644d88bb3286039ff3cc7.vega-embed {\n",
              "    width: 100%;\n",
              "    display: flex;\n",
              "  }\n",
              "\n",
              "  #altair-viz-130527a8dd0644d88bb3286039ff3cc7.vega-embed details,\n",
              "  #altair-viz-130527a8dd0644d88bb3286039ff3cc7.vega-embed details summary {\n",
              "    position: relative;\n",
              "  }\n",
              "</style>\n",
              "<div id=\"altair-viz-130527a8dd0644d88bb3286039ff3cc7\"></div>\n",
              "<script type=\"text/javascript\">\n",
              "  var VEGA_DEBUG = (typeof VEGA_DEBUG == \"undefined\") ? {} : VEGA_DEBUG;\n",
              "  (function(spec, embedOpt){\n",
              "    let outputDiv = document.currentScript.previousElementSibling;\n",
              "    if (outputDiv.id !== \"altair-viz-130527a8dd0644d88bb3286039ff3cc7\") {\n",
              "      outputDiv = document.getElementById(\"altair-viz-130527a8dd0644d88bb3286039ff3cc7\");\n",
              "    }\n",
              "    const paths = {\n",
              "      \"vega\": \"https://cdn.jsdelivr.net/npm/vega@5?noext\",\n",
              "      \"vega-lib\": \"https://cdn.jsdelivr.net/npm/vega-lib?noext\",\n",
              "      \"vega-lite\": \"https://cdn.jsdelivr.net/npm/vega-lite@5.20.1?noext\",\n",
              "      \"vega-embed\": \"https://cdn.jsdelivr.net/npm/vega-embed@6?noext\",\n",
              "    };\n",
              "\n",
              "    function maybeLoadScript(lib, version) {\n",
              "      var key = `${lib.replace(\"-\", \"\")}_version`;\n",
              "      return (VEGA_DEBUG[key] == version) ?\n",
              "        Promise.resolve(paths[lib]) :\n",
              "        new Promise(function(resolve, reject) {\n",
              "          var s = document.createElement('script');\n",
              "          document.getElementsByTagName(\"head\")[0].appendChild(s);\n",
              "          s.async = true;\n",
              "          s.onload = () => {\n",
              "            VEGA_DEBUG[key] = version;\n",
              "            return resolve(paths[lib]);\n",
              "          };\n",
              "          s.onerror = () => reject(`Error loading script: ${paths[lib]}`);\n",
              "          s.src = paths[lib];\n",
              "        });\n",
              "    }\n",
              "\n",
              "    function showError(err) {\n",
              "      outputDiv.innerHTML = `<div class=\"error\" style=\"color:red;\">${err}</div>`;\n",
              "      throw err;\n",
              "    }\n",
              "\n",
              "    function displayChart(vegaEmbed) {\n",
              "      vegaEmbed(outputDiv, spec, embedOpt)\n",
              "        .catch(err => showError(`Javascript Error: ${err.message}<br>This usually means there's a typo in your chart specification. See the javascript console for the full traceback.`));\n",
              "    }\n",
              "\n",
              "    if(typeof define === \"function\" && define.amd) {\n",
              "      requirejs.config({paths});\n",
              "      require([\"vega-embed\"], displayChart, err => showError(`Error loading script: ${err.message}`));\n",
              "    } else {\n",
              "      maybeLoadScript(\"vega\", \"5\")\n",
              "        .then(() => maybeLoadScript(\"vega-lite\", \"5.20.1\"))\n",
              "        .then(() => maybeLoadScript(\"vega-embed\", \"6\"))\n",
              "        .catch(showError)\n",
              "        .then(() => displayChart(vegaEmbed));\n",
              "    }\n",
              "  })({\"config\": {\"view\": {\"continuousWidth\": 300, \"continuousHeight\": 300}}, \"layer\": [{\"mark\": {\"type\": \"bar\", \"color\": \"skyblue\"}, \"encoding\": {\"x\": {\"field\": \"Column\", \"sort\": null, \"title\": \"Columnas\", \"type\": \"nominal\"}, \"y\": {\"field\": \"Zero_Crossings\", \"title\": \"Zero Crossings\", \"type\": \"quantitative\"}}, \"title\": \"Cruces por cero en orden del \\u00edndice\"}, {\"mark\": {\"type\": \"line\", \"color\": \"orange\"}, \"encoding\": {\"x\": {\"field\": \"Column\", \"sort\": null, \"title\": \"Columnas\", \"type\": \"nominal\"}, \"y\": {\"field\": \"Cumulative_Percentage\", \"title\": \"Cumulative Percentage (%)\", \"type\": \"quantitative\"}}}, {\"mark\": {\"type\": \"point\", \"color\": \"orange\"}, \"encoding\": {\"x\": {\"field\": \"Column\", \"sort\": null, \"title\": \"Columnas\", \"type\": \"nominal\"}, \"y\": {\"field\": \"Cumulative_Percentage\", \"type\": \"quantitative\"}}}, {\"data\": {\"name\": \"data-2e2060358ecffd163ba741c863633c40\"}, \"mark\": {\"type\": \"rule\", \"color\": \"grey\", \"strokeDash\": [5, 5]}, \"encoding\": {\"y\": {\"field\": \"Cumulative_Percentage\", \"type\": \"quantitative\"}}}], \"data\": {\"name\": \"data-b9520ebf1889e0f9c39f985bc5b19472\"}, \"height\": 400, \"title\": \"Pareto Chart of Zero Crossings PACIENTE 11\", \"width\": 600, \"$schema\": \"https://vega.github.io/schema/vega-lite/v5.20.1.json\", \"datasets\": {\"data-b9520ebf1889e0f9c39f985bc5b19472\": [{\"Column\": \"AcePr\", \"Zero_Crossings\": 4630, \"Legend\": \"VelPr y AcePr\", \"Color\": 3, \"Cumulative_Percentage\": 7.9756080755185}, {\"Column\": \"Acele\", \"Zero_Crossings\": 4028, \"Legend\": \"Veloc y Acele\", \"Color\": 0, \"Cumulative_Percentage\": 14.914214841865913}, {\"Column\": \"Des_x\", \"Zero_Crossings\": 3451, \"Legend\": \"Des_x y Des_y\", \"Color\": 1, \"Cumulative_Percentage\": 20.858885137462966}, {\"Column\": \"Presn\", \"Zero_Crossings\": 3134, \"Legend\": \"Des_z y Presn\", \"Color\": 2, \"Cumulative_Percentage\": 26.257493281885207}, {\"Column\": \"Distancia\", \"Zero_Crossings\": 3001, \"Legend\": \"time y Distancia\", \"Color\": 16, \"Cumulative_Percentage\": 31.426996485909186}, {\"Column\": \"Des_y\", \"Zero_Crossings\": 2845, \"Legend\": \"Des_x y Des_y\", \"Color\": 1, \"Cumulative_Percentage\": 36.32777509818783}, {\"Column\": \"Veloc\", \"Zero_Crossings\": 2825, \"Legend\": \"Veloc y Acele\", \"Color\": 0, \"Cumulative_Percentage\": 41.194101839729896}, {\"Column\": \"VelPr\", \"Zero_Crossings\": 2634, \"Legend\": \"VelPr y AcePr\", \"Color\": 3, \"Cumulative_Percentage\": 45.73141321573762}, {\"Column\": \"Des_z\", \"Zero_Crossings\": 2043, \"Legend\": \"Des_z y Presn\", \"Color\": 2, \"Cumulative_Percentage\": 49.250671811479364}, {\"Column\": \"F11EX\", \"Zero_Crossings\": 1874, \"Legend\": \"F11EX y F12ES\", \"Color\": 7, \"Cumulative_Percentage\": 52.478812099497006}, {\"Column\": \"F7EIS\", \"Zero_Crossings\": 1810, \"Legend\": \"F8EIX y F7EIS\", \"Color\": 5, \"Cumulative_Percentage\": 55.59670640115758}, {\"Column\": \"F8EIX\", \"Zero_Crossings\": 1760, \"Legend\": \"F8EIX y F7EIS\", \"Color\": 5, \"Cumulative_Percentage\": 58.628471025976715}, {\"Column\": \"F5EEX\", \"Zero_Crossings\": 1700, \"Legend\": \"F5EEX y F6EES\", \"Color\": 4, \"Cumulative_Percentage\": 61.556880038586094}, {\"Column\": \"F6EES\", \"Zero_Crossings\": 1694, \"Legend\": \"F5EEX y F6EES\", \"Color\": 4, \"Cumulative_Percentage\": 64.47495348997451}, {\"Column\": \"F12ES\", \"Zero_Crossings\": 1690, \"Legend\": \"F11EX y F12ES\", \"Color\": 7, \"Cumulative_Percentage\": 67.3861365672156}, {\"Column\": \"F10ES\", \"Zero_Crossings\": 1684, \"Legend\": \"F9EEX y F10ES\", \"Color\": 6, \"Cumulative_Percentage\": 70.28698408323571}, {\"Column\": \"F9EEX\", \"Zero_Crossings\": 1678, \"Legend\": \"F9EEX y F10ES\", \"Color\": 6, \"Cumulative_Percentage\": 73.17749603803486}, {\"Column\": \"F3EBS\", \"Zero_Crossings\": 1564, \"Legend\": \"F4EBX y F3EBS\", \"Color\": 13, \"Cumulative_Percentage\": 75.8716323296355}, {\"Column\": \"F19MH\", \"Zero_Crossings\": 1434, \"Legend\": \"F19MH y F20MH\", \"Color\": 11, \"Cumulative_Percentage\": 78.34183146144835}, {\"Column\": \"F2EBS\", \"Zero_Crossings\": 1348, \"Legend\": \"F1EBX y F2EBS\", \"Color\": 12, \"Cumulative_Percentage\": 80.66388754909391}, {\"Column\": \"F4EBX\", \"Zero_Crossings\": 1327, \"Legend\": \"F4EBX y F3EBS\", \"Color\": 13, \"Cumulative_Percentage\": 82.94976917246608}, {\"Column\": \"F17MS\", \"Zero_Crossings\": 1319, \"Legend\": \"F17MS y F18MX\", \"Color\": 9, \"Cumulative_Percentage\": 85.22187004754358}, {\"Column\": \"F1EBX\", \"Zero_Crossings\": 1311, \"Legend\": \"F1EBX y F2EBS\", \"Color\": 12, \"Cumulative_Percentage\": 87.48019017432647}, {\"Column\": \"F13EV\", \"Zero_Crossings\": 1285, \"Legend\": \"F13EV y F14EV\", \"Color\": 8, \"Cumulative_Percentage\": 89.6937228691518}, {\"Column\": \"F16MX\", \"Zero_Crossings\": 1212, \"Legend\": \"F15MS y F16MX\", \"Color\": 10, \"Cumulative_Percentage\": 91.7815062357886}, {\"Column\": \"F14EV\", \"Zero_Crossings\": 1176, \"Legend\": \"F13EV y F14EV\", \"Color\": 8, \"Cumulative_Percentage\": 93.80727623509956}, {\"Column\": \"F15MS\", \"Zero_Crossings\": 1164, \"Legend\": \"F15MS y F16MX\", \"Color\": 10, \"Cumulative_Percentage\": 95.81237511196858}, {\"Column\": \"F18MX\", \"Zero_Crossings\": 1076, \"Legend\": \"F17MS y F18MX\", \"Color\": 9, \"Cumulative_Percentage\": 97.66588575759664}, {\"Column\": \"F20MH\", \"Zero_Crossings\": 915, \"Legend\": \"F19MH y F20MH\", \"Color\": 11, \"Cumulative_Percentage\": 99.24205884379522}, {\"Column\": \"04_M\", \"Zero_Crossings\": 197, \"Legend\": \"03_D y 04_M\", \"Color\": 15, \"Cumulative_Percentage\": 99.58140977055055}, {\"Column\": \"02_A\", \"Zero_Crossings\": 174, \"Legend\": \"01_C y 02_A\", \"Color\": 14, \"Cumulative_Percentage\": 99.8811410459588}, {\"Column\": \"03_D\", \"Zero_Crossings\": 38, \"Legend\": \"03_D y 04_M\", \"Color\": 15, \"Cumulative_Percentage\": 99.9465996003583}, {\"Column\": \"01_C\", \"Zero_Crossings\": 31, \"Legend\": \"01_C y 02_A\", \"Color\": 14, \"Cumulative_Percentage\": 100.0}, {\"Column\": \"time\", \"Zero_Crossings\": 0, \"Legend\": null, \"Color\": -1, \"Cumulative_Percentage\": 100.0}], \"data-2e2060358ecffd163ba741c863633c40\": [{\"Cumulative_Percentage\": 80}]}}, {\"mode\": \"vega-lite\"});\n",
              "</script>"
            ],
            "text/plain": [
              "alt.LayerChart(...)"
            ]
          },
          "metadata": {},
          "output_type": "display_data"
        }
      ],
      "source": [
        "# Crear el gráfico de barras\n",
        "bars_P11 = alt.Chart(df_cross_zero_counts_P11).mark_bar(color='skyblue').encode(\n",
        "    x=alt.X('Column', title='Columnas', sort=None),  # El eje X respeta el orden del DataFrame\n",
        "    y=alt.Y('Zero_Crossings', title='Zero Crossings')\n",
        ").properties(\n",
        "    title=\"Cruces por cero en orden del índice\"\n",
        ")\n",
        "# Crear el gráfico de línea para el porcentaje acumulativo\n",
        "line = alt.Chart(df_cross_zero_counts_P11).mark_line(color='orange').encode(\n",
        "    x=alt.X('Column', title='Columnas', sort=None),\n",
        "    y=alt.Y('Cumulative_Percentage', title='Cumulative Percentage (%)')\n",
        ")\n",
        "\n",
        "# Puntos en la línea de porcentaje acumulativo\n",
        "points = alt.Chart(df_cross_zero_counts_P11).mark_point(color='orange').encode(\n",
        "    x=alt.X('Column', title='Columnas', sort=None),\n",
        "    y='Cumulative_Percentage'\n",
        ")\n",
        "\n",
        "# Línea de referencia en el 80%\n",
        "rule = alt.Chart(pd.DataFrame({'Cumulative_Percentage': [80]})).mark_rule(color='grey', strokeDash=[5,5]).encode(\n",
        "    y='Cumulative_Percentage'\n",
        ")\n",
        "\n",
        "# Combinar los gráficos\n",
        "pareto_chart = (bars_P11 + line + points + rule).properties(\n",
        "    title='Pareto Chart of Zero Crossings PACIENTE 11',\n",
        "    width=600,\n",
        "    height=400\n",
        ")\n",
        "\n",
        "pareto_chart.display()"
      ]
    },
    {
      "cell_type": "code",
      "execution_count": 22,
      "metadata": {
        "id": "xmhLRDRJfM3P",
        "outputId": "c1ac742f-cc9d-495d-ee42-af2036db5ec6"
      },
      "outputs": [
        {
          "data": {
            "image/png": "[encoded data removed]",
            "text/plain": [
              "<Figure size 600x600 with 1 Axes>"
            ]
          },
          "metadata": {},
          "output_type": "display_data"
        }
      ],
      "source": [
        "# Número de variables/categorías\n",
        "num_vars = len(df_cross_zero_counts_P11)\n",
        "\n",
        "# Ángulos de cada categoría en el radar chart\n",
        "angles = np.linspace(0, 2 * np.pi, num_vars, endpoint=False).tolist()\n",
        "\n",
        "# Repetimos el primer valor al final para cerrar el gráfico\n",
        "values_p11 = df_cross_zero_counts_P11['Zero_Crossings'].tolist()\n",
        "values_p11 += values_p11[:1]\n",
        "angles += angles[:1]\n",
        "\n",
        "# Inicializar el gráfico en coordenadas polares\n",
        "fig, ax = plt.subplots(figsize=(6, 6), subplot_kw=dict(polar=True))\n",
        "\n",
        "# Dibujar la línea del gráfico\n",
        "ax.plot(angles, values_p11, color='skyblue', linewidth=2, linestyle='solid')\n",
        "\n",
        "# Rellenar el área\n",
        "ax.fill(angles, values_p11, color='skyblue', alpha=0.4)\n",
        "\n",
        "# Añadir etiquetas para cada categoría\n",
        "ax.set_xticks(angles[:-1])\n",
        "ax.set_xticklabels(df_cross_zero_counts_P11['Column'])\n",
        "\n",
        "# Ajustar los límites del eje radial y el título\n",
        "ax.set_ylim(0, max(values_p11))\n",
        "plt.title('Radar Chart de Zero Crossings PACIENTE 11', size=15, color='navy', pad=20)\n",
        "\n",
        "plt.show()"
      ]
    },
    {
      "cell_type": "code",
      "execution_count": 23,
      "metadata": {
        "id": "VGB2sHP1fM3Q",
        "outputId": "f957ffe9-41ac-4787-eb22-7ddc5086ec04"
      },
      "outputs": [
        {
          "data": {
            "application/vnd.plotly.v1+json": {
              "config": {
                "plotlyServerURL": "https://plot.ly"
              },
              "data": [
                {
                  "fill": "toself",
                  "name": "Zero Crossings",
                  "r": [
                    4630,
                    4028,
                    3451,
                    3134,
                    3001,
                    2845,
                    2825,
                    2634,
                    2043,
                    1874,
                    1810,
                    1760,
                    1700,
                    1694,
                    1690,
                    1684,
                    1678,
                    1564,
                    1434,
                    1348,
                    1327,
                    1319,
                    1311,
                    1285,
                    1212,
                    1176,
                    1164,
                    1076,
                    915,
                    197,
                    174,
                    38,
                    31,
                    0,
                    4630
                  ],
                  "theta": [
                    "AcePr",
                    "Acele",
                    "Des_x",
                    "Presn",
                    "Distancia",
                    "Des_y",
                    "Veloc",
                    "VelPr",
                    "Des_z",
                    "F11EX",
                    "F7EIS",
                    "F8EIX",
                    "F5EEX",
                    "F6EES",
                    "F12ES",
                    "F10ES",
                    "F9EEX",
                    "F3EBS",
                    "F19MH",
                    "F2EBS",
                    "F4EBX",
                    "F17MS",
                    "F1EBX",
                    "F13EV",
                    "F16MX",
                    "F14EV",
                    "F15MS",
                    "F18MX",
                    "F20MH",
                    "04_M",
                    "02_A",
                    "03_D",
                    "01_C",
                    "time",
                    "AcePr"
                  ],
                  "type": "scatterpolar"
                }
              ],
              "layout": {
                "polar": {
                  "radialaxis": {
                    "range": [
                      0,
                      5093
                    ],
                    "visible": true
                  }
                },
                "showlegend": false,
                "template": {
                  "data": {
                    "bar": [
                      {
                        "error_x": {
                          "color": "#2a3f5f"
                        },
                        "error_y": {
                          "color": "#2a3f5f"
                        },
                        "marker": {
                          "line": {
                            "color": "#E5ECF6",
                            "width": 0.5
                          },
                          "pattern": {
                            "fillmode": "overlay",
                            "size": 10,
                            "solidity": 0.2
                          }
                        },
                        "type": "bar"
                      }
                    ],
                    "barpolar": [
                      {
                        "marker": {
                          "line": {
                            "color": "#E5ECF6",
                            "width": 0.5
                          },
                          "pattern": {
                            "fillmode": "overlay",
                            "size": 10,
                            "solidity": 0.2
                          }
                        },
                        "type": "barpolar"
                      }
                    ],
                    "carpet": [
                      {
                        "aaxis": {
                          "endlinecolor": "#2a3f5f",
                          "gridcolor": "white",
                          "linecolor": "white",
                          "minorgridcolor": "white",
                          "startlinecolor": "#2a3f5f"
                        },
                        "baxis": {
                          "endlinecolor": "#2a3f5f",
                          "gridcolor": "white",
                          "linecolor": "white",
                          "minorgridcolor": "white",
                          "startlinecolor": "#2a3f5f"
                        },
                        "type": "carpet"
                      }
                    ],
                    "choropleth": [
                      {
                        "colorbar": {
                          "outlinewidth": 0,
                          "ticks": ""
                        },
                        "type": "choropleth"
                      }
                    ],
                    "contour": [
                      {
                        "colorbar": {
                          "outlinewidth": 0,
                          "ticks": ""
                        },
                        "colorscale": [
                          [
                            0,
                            "#0d0887"
                          ],
                          [
                            0.1111111111111111,
                            "#46039f"
                          ],
                          [
                            0.2222222222222222,
                            "#7201a8"
                          ],
                          [
                            0.3333333333333333,
                            "#9c179e"
                          ],
                          [
                            0.4444444444444444,
                            "#bd3786"
                          ],
                          [
                            0.5555555555555556,
                            "#d8576b"
                          ],
                          [
                            0.6666666666666666,
                            "#ed7953"
                          ],
                          [
                            0.7777777777777778,
                            "#fb9f3a"
                          ],
                          [
                            0.8888888888888888,
                            "#fdca26"
                          ],
                          [
                            1,
                            "#f0f921"
                          ]
                        ],
                        "type": "contour"
                      }
                    ],
                    "contourcarpet": [
                      {
                        "colorbar": {
                          "outlinewidth": 0,
                          "ticks": ""
                        },
                        "type": "contourcarpet"
                      }
                    ],
                    "heatmap": [
                      {
                        "colorbar": {
                          "outlinewidth": 0,
                          "ticks": ""
                        },
                        "colorscale": [
                          [
                            0,
                            "#0d0887"
                          ],
                          [
                            0.1111111111111111,
                            "#46039f"
                          ],
                          [
                            0.2222222222222222,
                            "#7201a8"
                          ],
                          [
                            0.3333333333333333,
                            "#9c179e"
                          ],
                          [
                            0.4444444444444444,
                            "#bd3786"
                          ],
                          [
                            0.5555555555555556,
                            "#d8576b"
                          ],
                          [
                            0.6666666666666666,
                            "#ed7953"
                          ],
                          [
                            0.7777777777777778,
                            "#fb9f3a"
                          ],
                          [
                            0.8888888888888888,
                            "#fdca26"
                          ],
                          [
                            1,
                            "#f0f921"
                          ]
                        ],
                        "type": "heatmap"
                      }
                    ],
                    "heatmapgl": [
                      {
                        "colorbar": {
                          "outlinewidth": 0,
                          "ticks": ""
                        },
                        "colorscale": [
                          [
                            0,
                            "#0d0887"
                          ],
                          [
                            0.1111111111111111,
                            "#46039f"
                          ],
                          [
                            0.2222222222222222,
                            "#7201a8"
                          ],
                          [
                            0.3333333333333333,
                            "#9c179e"
                          ],
                          [
                            0.4444444444444444,
                            "#bd3786"
                          ],
                          [
                            0.5555555555555556,
                            "#d8576b"
                          ],
                          [
                            0.6666666666666666,
                            "#ed7953"
                          ],
                          [
                            0.7777777777777778,
                            "#fb9f3a"
                          ],
                          [
                            0.8888888888888888,
                            "#fdca26"
                          ],
                          [
                            1,
                            "#f0f921"
                          ]
                        ],
                        "type": "heatmapgl"
                      }
                    ],
                    "histogram": [
                      {
                        "marker": {
                          "pattern": {
                            "fillmode": "overlay",
                            "size": 10,
                            "solidity": 0.2
                          }
                        },
                        "type": "histogram"
                      }
                    ],
                    "histogram2d": [
                      {
                        "colorbar": {
                          "outlinewidth": 0,
                          "ticks": ""
                        },
                        "colorscale": [
                          [
                            0,
                            "#0d0887"
                          ],
                          [
                            0.1111111111111111,
                            "#46039f"
                          ],
                          [
                            0.2222222222222222,
                            "#7201a8"
                          ],
                          [
                            0.3333333333333333,
                            "#9c179e"
                          ],
                          [
                            0.4444444444444444,
                            "#bd3786"
                          ],
                          [
                            0.5555555555555556,
                            "#d8576b"
                          ],
                          [
                            0.6666666666666666,
                            "#ed7953"
                          ],
                          [
                            0.7777777777777778,
                            "#fb9f3a"
                          ],
                          [
                            0.8888888888888888,
                            "#fdca26"
                          ],
                          [
                            1,
                            "#f0f921"
                          ]
                        ],
                        "type": "histogram2d"
                      }
                    ],
                    "histogram2dcontour": [
                      {
                        "colorbar": {
                          "outlinewidth": 0,
                          "ticks": ""
                        },
                        "colorscale": [
                          [
                            0,
                            "#0d0887"
                          ],
                          [
                            0.1111111111111111,
                            "#46039f"
                          ],
                          [
                            0.2222222222222222,
                            "#7201a8"
                          ],
                          [
                            0.3333333333333333,
                            "#9c179e"
                          ],
                          [
                            0.4444444444444444,
                            "#bd3786"
                          ],
                          [
                            0.5555555555555556,
                            "#d8576b"
                          ],
                          [
                            0.6666666666666666,
                            "#ed7953"
                          ],
                          [
                            0.7777777777777778,
                            "#fb9f3a"
                          ],
                          [
                            0.8888888888888888,
                            "#fdca26"
                          ],
                          [
                            1,
                            "#f0f921"
                          ]
                        ],
                        "type": "histogram2dcontour"
                      }
                    ],
                    "mesh3d": [
                      {
                        "colorbar": {
                          "outlinewidth": 0,
                          "ticks": ""
                        },
                        "type": "mesh3d"
                      }
                    ],
                    "parcoords": [
                      {
                        "line": {
                          "colorbar": {
                            "outlinewidth": 0,
                            "ticks": ""
                          }
                        },
                        "type": "parcoords"
                      }
                    ],
                    "pie": [
                      {
                        "automargin": true,
                        "type": "pie"
                      }
                    ],
                    "scatter": [
                      {
                        "fillpattern": {
                          "fillmode": "overlay",
                          "size": 10,
                          "solidity": 0.2
                        },
                        "type": "scatter"
                      }
                    ],
                    "scatter3d": [
                      {
                        "line": {
                          "colorbar": {
                            "outlinewidth": 0,
                            "ticks": ""
                          }
                        },
                        "marker": {
                          "colorbar": {
                            "outlinewidth": 0,
                            "ticks": ""
                          }
                        },
                        "type": "scatter3d"
                      }
                    ],
                    "scattercarpet": [
                      {
                        "marker": {
                          "colorbar": {
                            "outlinewidth": 0,
                            "ticks": ""
                          }
                        },
                        "type": "scattercarpet"
                      }
                    ],
                    "scattergeo": [
                      {
                        "marker": {
                          "colorbar": {
                            "outlinewidth": 0,
                            "ticks": ""
                          }
                        },
                        "type": "scattergeo"
                      }
                    ],
                    "scattergl": [
                      {
                        "marker": {
                          "colorbar": {
                            "outlinewidth": 0,
                            "ticks": ""
                          }
                        },
                        "type": "scattergl"
                      }
                    ],
                    "scattermapbox": [
                      {
                        "marker": {
                          "colorbar": {
                            "outlinewidth": 0,
                            "ticks": ""
                          }
                        },
                        "type": "scattermapbox"
                      }
                    ],
                    "scatterpolar": [
                      {
                        "marker": {
                          "colorbar": {
                            "outlinewidth": 0,
                            "ticks": ""
                          }
                        },
                        "type": "scatterpolar"
                      }
                    ],
                    "scatterpolargl": [
                      {
                        "marker": {
                          "colorbar": {
                            "outlinewidth": 0,
                            "ticks": ""
                          }
                        },
                        "type": "scatterpolargl"
                      }
                    ],
                    "scatterternary": [
                      {
                        "marker": {
                          "colorbar": {
                            "outlinewidth": 0,
                            "ticks": ""
                          }
                        },
                        "type": "scatterternary"
                      }
                    ],
                    "surface": [
                      {
                        "colorbar": {
                          "outlinewidth": 0,
                          "ticks": ""
                        },
                        "colorscale": [
                          [
                            0,
                            "#0d0887"
                          ],
                          [
                            0.1111111111111111,
                            "#46039f"
                          ],
                          [
                            0.2222222222222222,
                            "#7201a8"
                          ],
                          [
                            0.3333333333333333,
                            "#9c179e"
                          ],
                          [
                            0.4444444444444444,
                            "#bd3786"
                          ],
                          [
                            0.5555555555555556,
                            "#d8576b"
                          ],
                          [
                            0.6666666666666666,
                            "#ed7953"
                          ],
                          [
                            0.7777777777777778,
                            "#fb9f3a"
                          ],
                          [
                            0.8888888888888888,
                            "#fdca26"
                          ],
                          [
                            1,
                            "#f0f921"
                          ]
                        ],
                        "type": "surface"
                      }
                    ],
                    "table": [
                      {
                        "cells": {
                          "fill": {
                            "color": "#EBF0F8"
                          },
                          "line": {
                            "color": "white"
                          }
                        },
                        "header": {
                          "fill": {
                            "color": "#C8D4E3"
                          },
                          "line": {
                            "color": "white"
                          }
                        },
                        "type": "table"
                      }
                    ]
                  },
                  "layout": {
                    "annotationdefaults": {
                      "arrowcolor": "#2a3f5f",
                      "arrowhead": 0,
                      "arrowwidth": 1
                    },
                    "autotypenumbers": "strict",
                    "coloraxis": {
                      "colorbar": {
                        "outlinewidth": 0,
                        "ticks": ""
                      }
                    },
                    "colorscale": {
                      "diverging": [
                        [
                          0,
                          "#8e0152"
                        ],
                        [
                          0.1,
                          "#c51b7d"
                        ],
                        [
                          0.2,
                          "#de77ae"
                        ],
                        [
                          0.3,
                          "#f1b6da"
                        ],
                        [
                          0.4,
                          "#fde0ef"
                        ],
                        [
                          0.5,
                          "#f7f7f7"
                        ],
                        [
                          0.6,
                          "#e6f5d0"
                        ],
                        [
                          0.7,
                          "#b8e186"
                        ],
                        [
                          0.8,
                          "#7fbc41"
                        ],
                        [
                          0.9,
                          "#4d9221"
                        ],
                        [
                          1,
                          "#276419"
                        ]
                      ],
                      "sequential": [
                        [
                          0,
                          "#0d0887"
                        ],
                        [
                          0.1111111111111111,
                          "#46039f"
                        ],
                        [
                          0.2222222222222222,
                          "#7201a8"
                        ],
                        [
                          0.3333333333333333,
                          "#9c179e"
                        ],
                        [
                          0.4444444444444444,
                          "#bd3786"
                        ],
                        [
                          0.5555555555555556,
                          "#d8576b"
                        ],
                        [
                          0.6666666666666666,
                          "#ed7953"
                        ],
                        [
                          0.7777777777777778,
                          "#fb9f3a"
                        ],
                        [
                          0.8888888888888888,
                          "#fdca26"
                        ],
                        [
                          1,
                          "#f0f921"
                        ]
                      ],
                      "sequentialminus": [
                        [
                          0,
                          "#0d0887"
                        ],
                        [
                          0.1111111111111111,
                          "#46039f"
                        ],
                        [
                          0.2222222222222222,
                          "#7201a8"
                        ],
                        [
                          0.3333333333333333,
                          "#9c179e"
                        ],
                        [
                          0.4444444444444444,
                          "#bd3786"
                        ],
                        [
                          0.5555555555555556,
                          "#d8576b"
                        ],
                        [
                          0.6666666666666666,
                          "#ed7953"
                        ],
                        [
                          0.7777777777777778,
                          "#fb9f3a"
                        ],
                        [
                          0.8888888888888888,
                          "#fdca26"
                        ],
                        [
                          1,
                          "#f0f921"
                        ]
                      ]
                    },
                    "colorway": [
                      "#636efa",
                      "#EF553B",
                      "#00cc96",
                      "#ab63fa",
                      "#FFA15A",
                      "#19d3f3",
                      "#FF6692",
                      "#B6E880",
                      "#FF97FF",
                      "#FECB52"
                    ],
                    "font": {
                      "color": "#2a3f5f"
                    },
                    "geo": {
                      "bgcolor": "white",
                      "lakecolor": "white",
                      "landcolor": "#E5ECF6",
                      "showlakes": true,
                      "showland": true,
                      "subunitcolor": "white"
                    },
                    "hoverlabel": {
                      "align": "left"
                    },
                    "hovermode": "closest",
                    "mapbox": {
                      "style": "light"
                    },
                    "paper_bgcolor": "white",
                    "plot_bgcolor": "#E5ECF6",
                    "polar": {
                      "angularaxis": {
                        "gridcolor": "white",
                        "linecolor": "white",
                        "ticks": ""
                      },
                      "bgcolor": "#E5ECF6",
                      "radialaxis": {
                        "gridcolor": "white",
                        "linecolor": "white",
                        "ticks": ""
                      }
                    },
                    "scene": {
                      "xaxis": {
                        "backgroundcolor": "#E5ECF6",
                        "gridcolor": "white",
                        "gridwidth": 2,
                        "linecolor": "white",
                        "showbackground": true,
                        "ticks": "",
                        "zerolinecolor": "white"
                      },
                      "yaxis": {
                        "backgroundcolor": "#E5ECF6",
                        "gridcolor": "white",
                        "gridwidth": 2,
                        "linecolor": "white",
                        "showbackground": true,
                        "ticks": "",
                        "zerolinecolor": "white"
                      },
                      "zaxis": {
                        "backgroundcolor": "#E5ECF6",
                        "gridcolor": "white",
                        "gridwidth": 2,
                        "linecolor": "white",
                        "showbackground": true,
                        "ticks": "",
                        "zerolinecolor": "white"
                      }
                    },
                    "shapedefaults": {
                      "line": {
                        "color": "#2a3f5f"
                      }
                    },
                    "ternary": {
                      "aaxis": {
                        "gridcolor": "white",
                        "linecolor": "white",
                        "ticks": ""
                      },
                      "baxis": {
                        "gridcolor": "white",
                        "linecolor": "white",
                        "ticks": ""
                      },
                      "bgcolor": "#E5ECF6",
                      "caxis": {
                        "gridcolor": "white",
                        "linecolor": "white",
                        "ticks": ""
                      }
                    },
                    "title": {
                      "x": 0.05
                    },
                    "xaxis": {
                      "automargin": true,
                      "gridcolor": "white",
                      "linecolor": "white",
                      "ticks": "",
                      "title": {
                        "standoff": 15
                      },
                      "zerolinecolor": "white",
                      "zerolinewidth": 2
                    },
                    "yaxis": {
                      "automargin": true,
                      "gridcolor": "white",
                      "linecolor": "white",
                      "ticks": "",
                      "title": {
                        "standoff": 15
                      },
                      "zerolinecolor": "white",
                      "zerolinewidth": 2
                    }
                  }
                },
                "title": {
                  "text": "Gráfico de Radar - Zero Crossings por Column PACIENTE 11"
                }
              }
            }
          },
          "metadata": {},
          "output_type": "display_data"
        }
      ],
      "source": [
        "import plotly.graph_objects as go\n",
        "\n",
        "# Asegúrate de cerrar el ciclo tanto en las etiquetas como en los valores para que el gráfico de radar sea completo.\n",
        "categories = df_cross_zero_counts_P11['Column'].tolist()\n",
        "values_p11 = df_cross_zero_counts_P11['Zero_Crossings'].tolist()\n",
        "\n",
        "# Añadir el primer valor al final de la lista para cerrar el gráfico\n",
        "categories += [categories[0]]\n",
        "values_p11 += [values_p11[0]]\n",
        "\n",
        "fig = go.Figure(data=go.Scatterpolar(\n",
        "    r=values_p11,\n",
        "    theta=categories,\n",
        "    fill='toself',\n",
        "    name='Zero Crossings'\n",
        "))\n",
        "\n",
        "fig.update_layout(\n",
        "    polar=dict(\n",
        "        radialaxis=dict(\n",
        "            visible=True,\n",
        "            range=[0, max(values_p11) * 1.1]  # Ajusta el rango radial un poco por encima del valor máximo\n",
        "        )\n",
        "    ),\n",
        "    showlegend=False,\n",
        "    title='Gráfico de Radar - Zero Crossings por Column PACIENTE 11'\n",
        ")\n",
        "\n",
        "fig.show()\n"
      ]
    },
    {
      "cell_type": "code",
      "execution_count": null,
      "metadata": {},
      "outputs": [
        {
          "name": "stderr",
          "output_type": "stream",
          "text": [
            "UsageError: Cell magic `%%shell` not found.\n"
          ]
        }
      ],
      "source": [
        "%%shell\n",
        "jupyter nbconvert --to html actividad_5_4_P7.ipynb"
      ]
    },
    {
      "cell_type": "code",
      "execution_count": null,
      "metadata": {},
      "outputs": [],
      "source": []
    },
    {
      "cell_type": "code",
      "execution_count": 27,
      "metadata": {},
      "outputs": [
        {
          "data": {
            "text/plain": [
              "Index(['Column', 'Zero_Crossings', 'Legend', 'Color', 'Cumulative_Percentage'], dtype='object')"
            ]
          },
          "execution_count": 27,
          "metadata": {},
          "output_type": "execute_result"
        }
      ],
      "source": [
        "df_cross_zero_counts_P11"
      ]
    },
    {
      "cell_type": "code",
      "execution_count": 25,
      "metadata": {
        "id": "3tL3VmcxfRr_"
      },
      "outputs": [
        {
          "name": "stderr",
          "output_type": "stream",
          "text": [
            "UsageError: Cell magic `%%shell` not found.\n"
          ]
        }
      ],
      "source": [
        "%%shell\n",
        "jupyter nbconvert --to html actividad_5_4_P7.ipynb"
      ]
    }
  ],
  "metadata": {
    "colab": {
      "provenance": []
    },
    "kernelspec": {
      "display_name": "base",
      "language": "python",
      "name": "python3"
    },
    "language_info": {
      "codemirror_mode": {
        "name": "ipython",
        "version": 3
      },
      "file_extension": ".py",
      "mimetype": "text/x-python",
      "name": "python",
      "nbconvert_exporter": "python",
      "pygments_lexer": "ipython3",
      "version": "3.12.4"
    }
  },
  "nbformat": 4,
  "nbformat_minor": 0
}
