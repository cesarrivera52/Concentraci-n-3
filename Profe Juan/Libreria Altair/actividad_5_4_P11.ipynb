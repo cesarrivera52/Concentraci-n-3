{
 "cells": [
  {
   "cell_type": "code",
   "execution_count": 14,
   "metadata": {},
   "outputs": [
    {
     "ename": "ModuleNotFoundError",
     "evalue": "No module named 'sklearn'",
     "output_type": "error",
     "traceback": [
      "\u001b[0;31m---------------------------------------------------------------------------\u001b[0m",
      "\u001b[0;31mModuleNotFoundError\u001b[0m                       Traceback (most recent call last)",
      "Cell \u001b[0;32mIn[14], line 2\u001b[0m\n\u001b[1;32m      1\u001b[0m \u001b[38;5;28;01mimport\u001b[39;00m \u001b[38;5;21;01mpandas\u001b[39;00m \u001b[38;5;28;01mas\u001b[39;00m \u001b[38;5;21;01mpd\u001b[39;00m\n\u001b[0;32m----> 2\u001b[0m \u001b[38;5;28;01mfrom\u001b[39;00m \u001b[38;5;21;01msklearn\u001b[39;00m\u001b[38;5;21;01m.\u001b[39;00m\u001b[38;5;21;01mpreprocessing\u001b[39;00m \u001b[38;5;28;01mimport\u001b[39;00m StandardScaler\n\u001b[1;32m      3\u001b[0m \u001b[38;5;28;01mimport\u001b[39;00m \u001b[38;5;21;01mmatplotlib\u001b[39;00m\u001b[38;5;21;01m.\u001b[39;00m\u001b[38;5;21;01mpyplot\u001b[39;00m \u001b[38;5;28;01mas\u001b[39;00m \u001b[38;5;21;01mplt\u001b[39;00m\n\u001b[1;32m      4\u001b[0m \u001b[38;5;28;01mfrom\u001b[39;00m \u001b[38;5;21;01mmatplotlib\u001b[39;00m\u001b[38;5;21;01m.\u001b[39;00m\u001b[38;5;21;01mticker\u001b[39;00m \u001b[38;5;28;01mimport\u001b[39;00m AutoMinorLocator, MultipleLocator\n",
      "\u001b[0;31mModuleNotFoundError\u001b[0m: No module named 'sklearn'"
     ]
    }
   ],
   "source": [
    "import pandas as pd\n",
    "from sklearn.preprocessing import StandardScaler\n",
    "import matplotlib.pyplot as plt\n",
    "from matplotlib.ticker import AutoMinorLocator, MultipleLocator\n",
    "from matplotlib import ticker\n",
    "import numpy as np\n",
    "import math\n",
    "\n",
    "import altair as alt"
   ]
  },
  {
   "cell_type": "code",
   "execution_count": null,
   "metadata": {},
   "outputs": [],
   "source": [
    "p11 = pd.read_csv(\"P11_v03_ALL_SESION.csv\")"
   ]
  },
  {
   "cell_type": "code",
   "execution_count": null,
   "metadata": {},
   "outputs": [
    {
     "data": {
      "text/html": [
       "<div>\n",
       "<style scoped>\n",
       "    .dataframe tbody tr th:only-of-type {\n",
       "        vertical-align: middle;\n",
       "    }\n",
       "\n",
       "    .dataframe tbody tr th {\n",
       "        vertical-align: top;\n",
       "    }\n",
       "\n",
       "    .dataframe thead th {\n",
       "        text-align: right;\n",
       "    }\n",
       "</style>\n",
       "<table border=\"1\" class=\"dataframe\">\n",
       "  <thead>\n",
       "    <tr style=\"text-align: right;\">\n",
       "      <th></th>\n",
       "      <th>Veloc</th>\n",
       "      <th>Acele</th>\n",
       "      <th>Des_x</th>\n",
       "      <th>Des_y</th>\n",
       "      <th>Des_z</th>\n",
       "      <th>Presn</th>\n",
       "      <th>VelPr</th>\n",
       "      <th>AcePr</th>\n",
       "      <th>F5EEX</th>\n",
       "      <th>F6EES</th>\n",
       "      <th>...</th>\n",
       "      <th>F20MH</th>\n",
       "      <th>F1EBX</th>\n",
       "      <th>F2EBS</th>\n",
       "      <th>F4EBX</th>\n",
       "      <th>F3EBS</th>\n",
       "      <th>01_C</th>\n",
       "      <th>02_A</th>\n",
       "      <th>03_D</th>\n",
       "      <th>04_M</th>\n",
       "      <th>time</th>\n",
       "    </tr>\n",
       "  </thead>\n",
       "  <tbody>\n",
       "    <tr>\n",
       "      <th>0</th>\n",
       "      <td>0.180657</td>\n",
       "      <td>0.044687</td>\n",
       "      <td>0.337857</td>\n",
       "      <td>0.121369</td>\n",
       "      <td>0.046246</td>\n",
       "      <td>0.963768</td>\n",
       "      <td>0.055556</td>\n",
       "      <td>0.000000</td>\n",
       "      <td>0.492276</td>\n",
       "      <td>0.372180</td>\n",
       "      <td>...</td>\n",
       "      <td>0.157972</td>\n",
       "      <td>0.285666</td>\n",
       "      <td>0.725091</td>\n",
       "      <td>0.503002</td>\n",
       "      <td>0.439502</td>\n",
       "      <td>-1</td>\n",
       "      <td>-1</td>\n",
       "      <td>-1</td>\n",
       "      <td>1</td>\n",
       "      <td>0</td>\n",
       "    </tr>\n",
       "    <tr>\n",
       "      <th>1</th>\n",
       "      <td>0.125068</td>\n",
       "      <td>0.029217</td>\n",
       "      <td>0.153315</td>\n",
       "      <td>0.127766</td>\n",
       "      <td>0.012614</td>\n",
       "      <td>0.956522</td>\n",
       "      <td>0.055556</td>\n",
       "      <td>0.000000</td>\n",
       "      <td>0.465976</td>\n",
       "      <td>0.347945</td>\n",
       "      <td>...</td>\n",
       "      <td>0.165051</td>\n",
       "      <td>0.265047</td>\n",
       "      <td>0.798878</td>\n",
       "      <td>0.548558</td>\n",
       "      <td>0.558128</td>\n",
       "      <td>-1</td>\n",
       "      <td>-1</td>\n",
       "      <td>-1</td>\n",
       "      <td>1</td>\n",
       "      <td>3</td>\n",
       "    </tr>\n",
       "    <tr>\n",
       "      <th>2</th>\n",
       "      <td>0.067236</td>\n",
       "      <td>0.047671</td>\n",
       "      <td>0.110700</td>\n",
       "      <td>0.072229</td>\n",
       "      <td>0.009782</td>\n",
       "      <td>0.942029</td>\n",
       "      <td>0.027778</td>\n",
       "      <td>0.041667</td>\n",
       "      <td>0.385462</td>\n",
       "      <td>0.298707</td>\n",
       "      <td>...</td>\n",
       "      <td>0.154872</td>\n",
       "      <td>0.245263</td>\n",
       "      <td>0.783650</td>\n",
       "      <td>0.526697</td>\n",
       "      <td>0.492128</td>\n",
       "      <td>-1</td>\n",
       "      <td>-1</td>\n",
       "      <td>-1</td>\n",
       "      <td>1</td>\n",
       "      <td>6</td>\n",
       "    </tr>\n",
       "    <tr>\n",
       "      <th>3</th>\n",
       "      <td>0.051801</td>\n",
       "      <td>0.027131</td>\n",
       "      <td>0.080785</td>\n",
       "      <td>0.061386</td>\n",
       "      <td>0.006786</td>\n",
       "      <td>0.920290</td>\n",
       "      <td>0.055556</td>\n",
       "      <td>0.083333</td>\n",
       "      <td>0.342232</td>\n",
       "      <td>0.197797</td>\n",
       "      <td>...</td>\n",
       "      <td>0.161893</td>\n",
       "      <td>0.165482</td>\n",
       "      <td>0.819684</td>\n",
       "      <td>0.522696</td>\n",
       "      <td>0.433844</td>\n",
       "      <td>-1</td>\n",
       "      <td>-1</td>\n",
       "      <td>-1</td>\n",
       "      <td>1</td>\n",
       "      <td>9</td>\n",
       "    </tr>\n",
       "    <tr>\n",
       "      <th>4</th>\n",
       "      <td>0.043770</td>\n",
       "      <td>0.037818</td>\n",
       "      <td>0.075433</td>\n",
       "      <td>0.052474</td>\n",
       "      <td>0.009082</td>\n",
       "      <td>0.905797</td>\n",
       "      <td>0.055556</td>\n",
       "      <td>0.083333</td>\n",
       "      <td>0.335874</td>\n",
       "      <td>0.163376</td>\n",
       "      <td>...</td>\n",
       "      <td>0.177383</td>\n",
       "      <td>0.116861</td>\n",
       "      <td>0.802314</td>\n",
       "      <td>0.492558</td>\n",
       "      <td>0.343477</td>\n",
       "      <td>-1</td>\n",
       "      <td>-1</td>\n",
       "      <td>-1</td>\n",
       "      <td>1</td>\n",
       "      <td>12</td>\n",
       "    </tr>\n",
       "    <tr>\n",
       "      <th>...</th>\n",
       "      <td>...</td>\n",
       "      <td>...</td>\n",
       "      <td>...</td>\n",
       "      <td>...</td>\n",
       "      <td>...</td>\n",
       "      <td>...</td>\n",
       "      <td>...</td>\n",
       "      <td>...</td>\n",
       "      <td>...</td>\n",
       "      <td>...</td>\n",
       "      <td>...</td>\n",
       "      <td>...</td>\n",
       "      <td>...</td>\n",
       "      <td>...</td>\n",
       "      <td>...</td>\n",
       "      <td>...</td>\n",
       "      <td>...</td>\n",
       "      <td>...</td>\n",
       "      <td>...</td>\n",
       "      <td>...</td>\n",
       "      <td>...</td>\n",
       "    </tr>\n",
       "    <tr>\n",
       "      <th>13798</th>\n",
       "      <td>0.060302</td>\n",
       "      <td>0.022121</td>\n",
       "      <td>0.054852</td>\n",
       "      <td>0.064712</td>\n",
       "      <td>0.002763</td>\n",
       "      <td>0.569444</td>\n",
       "      <td>0.057143</td>\n",
       "      <td>0.000000</td>\n",
       "      <td>0.825603</td>\n",
       "      <td>0.488880</td>\n",
       "      <td>...</td>\n",
       "      <td>0.424233</td>\n",
       "      <td>0.667751</td>\n",
       "      <td>0.819276</td>\n",
       "      <td>0.215739</td>\n",
       "      <td>0.561085</td>\n",
       "      <td>1</td>\n",
       "      <td>-1</td>\n",
       "      <td>-1</td>\n",
       "      <td>-1</td>\n",
       "      <td>41394</td>\n",
       "    </tr>\n",
       "    <tr>\n",
       "      <th>13799</th>\n",
       "      <td>0.041979</td>\n",
       "      <td>0.045272</td>\n",
       "      <td>0.026338</td>\n",
       "      <td>0.054367</td>\n",
       "      <td>0.001405</td>\n",
       "      <td>0.569444</td>\n",
       "      <td>0.028571</td>\n",
       "      <td>0.055556</td>\n",
       "      <td>0.769955</td>\n",
       "      <td>0.435807</td>\n",
       "      <td>...</td>\n",
       "      <td>0.374850</td>\n",
       "      <td>0.623462</td>\n",
       "      <td>0.791586</td>\n",
       "      <td>0.147693</td>\n",
       "      <td>0.460031</td>\n",
       "      <td>1</td>\n",
       "      <td>-1</td>\n",
       "      <td>-1</td>\n",
       "      <td>-1</td>\n",
       "      <td>41397</td>\n",
       "    </tr>\n",
       "    <tr>\n",
       "      <th>13800</th>\n",
       "      <td>0.004653</td>\n",
       "      <td>0.001765</td>\n",
       "      <td>0.013427</td>\n",
       "      <td>0.009015</td>\n",
       "      <td>0.003381</td>\n",
       "      <td>0.569444</td>\n",
       "      <td>0.028571</td>\n",
       "      <td>0.055556</td>\n",
       "      <td>0.778773</td>\n",
       "      <td>0.477580</td>\n",
       "      <td>...</td>\n",
       "      <td>0.367985</td>\n",
       "      <td>0.630853</td>\n",
       "      <td>0.761133</td>\n",
       "      <td>0.152228</td>\n",
       "      <td>0.453634</td>\n",
       "      <td>1</td>\n",
       "      <td>-1</td>\n",
       "      <td>-1</td>\n",
       "      <td>-1</td>\n",
       "      <td>41400</td>\n",
       "    </tr>\n",
       "    <tr>\n",
       "      <th>13801</th>\n",
       "      <td>0.000000</td>\n",
       "      <td>0.003991</td>\n",
       "      <td>0.012040</td>\n",
       "      <td>0.002950</td>\n",
       "      <td>0.005204</td>\n",
       "      <td>0.569444</td>\n",
       "      <td>0.057143</td>\n",
       "      <td>0.000000</td>\n",
       "      <td>0.720920</td>\n",
       "      <td>0.391050</td>\n",
       "      <td>...</td>\n",
       "      <td>0.409130</td>\n",
       "      <td>0.646751</td>\n",
       "      <td>0.701130</td>\n",
       "      <td>0.201151</td>\n",
       "      <td>0.448981</td>\n",
       "      <td>1</td>\n",
       "      <td>-1</td>\n",
       "      <td>-1</td>\n",
       "      <td>-1</td>\n",
       "      <td>41403</td>\n",
       "    </tr>\n",
       "    <tr>\n",
       "      <th>13802</th>\n",
       "      <td>0.004459</td>\n",
       "      <td>0.009625</td>\n",
       "      <td>0.019385</td>\n",
       "      <td>0.004837</td>\n",
       "      <td>0.003424</td>\n",
       "      <td>0.555556</td>\n",
       "      <td>0.057143</td>\n",
       "      <td>0.000000</td>\n",
       "      <td>0.666652</td>\n",
       "      <td>0.327049</td>\n",
       "      <td>...</td>\n",
       "      <td>0.405026</td>\n",
       "      <td>0.647972</td>\n",
       "      <td>0.676323</td>\n",
       "      <td>0.247206</td>\n",
       "      <td>0.453808</td>\n",
       "      <td>1</td>\n",
       "      <td>-1</td>\n",
       "      <td>-1</td>\n",
       "      <td>-1</td>\n",
       "      <td>41406</td>\n",
       "    </tr>\n",
       "  </tbody>\n",
       "</table>\n",
       "<p>13803 rows × 33 columns</p>\n",
       "</div>"
      ],
      "text/plain": [
       "          Veloc     Acele     Des_x     Des_y     Des_z     Presn     VelPr  \\\n",
       "0      0.180657  0.044687  0.337857  0.121369  0.046246  0.963768  0.055556   \n",
       "1      0.125068  0.029217  0.153315  0.127766  0.012614  0.956522  0.055556   \n",
       "2      0.067236  0.047671  0.110700  0.072229  0.009782  0.942029  0.027778   \n",
       "3      0.051801  0.027131  0.080785  0.061386  0.006786  0.920290  0.055556   \n",
       "4      0.043770  0.037818  0.075433  0.052474  0.009082  0.905797  0.055556   \n",
       "...         ...       ...       ...       ...       ...       ...       ...   \n",
       "13798  0.060302  0.022121  0.054852  0.064712  0.002763  0.569444  0.057143   \n",
       "13799  0.041979  0.045272  0.026338  0.054367  0.001405  0.569444  0.028571   \n",
       "13800  0.004653  0.001765  0.013427  0.009015  0.003381  0.569444  0.028571   \n",
       "13801  0.000000  0.003991  0.012040  0.002950  0.005204  0.569444  0.057143   \n",
       "13802  0.004459  0.009625  0.019385  0.004837  0.003424  0.555556  0.057143   \n",
       "\n",
       "          AcePr     F5EEX     F6EES  ...     F20MH     F1EBX     F2EBS  \\\n",
       "0      0.000000  0.492276  0.372180  ...  0.157972  0.285666  0.725091   \n",
       "1      0.000000  0.465976  0.347945  ...  0.165051  0.265047  0.798878   \n",
       "2      0.041667  0.385462  0.298707  ...  0.154872  0.245263  0.783650   \n",
       "3      0.083333  0.342232  0.197797  ...  0.161893  0.165482  0.819684   \n",
       "4      0.083333  0.335874  0.163376  ...  0.177383  0.116861  0.802314   \n",
       "...         ...       ...       ...  ...       ...       ...       ...   \n",
       "13798  0.000000  0.825603  0.488880  ...  0.424233  0.667751  0.819276   \n",
       "13799  0.055556  0.769955  0.435807  ...  0.374850  0.623462  0.791586   \n",
       "13800  0.055556  0.778773  0.477580  ...  0.367985  0.630853  0.761133   \n",
       "13801  0.000000  0.720920  0.391050  ...  0.409130  0.646751  0.701130   \n",
       "13802  0.000000  0.666652  0.327049  ...  0.405026  0.647972  0.676323   \n",
       "\n",
       "          F4EBX     F3EBS  01_C  02_A  03_D  04_M   time  \n",
       "0      0.503002  0.439502    -1    -1    -1     1      0  \n",
       "1      0.548558  0.558128    -1    -1    -1     1      3  \n",
       "2      0.526697  0.492128    -1    -1    -1     1      6  \n",
       "3      0.522696  0.433844    -1    -1    -1     1      9  \n",
       "4      0.492558  0.343477    -1    -1    -1     1     12  \n",
       "...         ...       ...   ...   ...   ...   ...    ...  \n",
       "13798  0.215739  0.561085     1    -1    -1    -1  41394  \n",
       "13799  0.147693  0.460031     1    -1    -1    -1  41397  \n",
       "13800  0.152228  0.453634     1    -1    -1    -1  41400  \n",
       "13801  0.201151  0.448981     1    -1    -1    -1  41403  \n",
       "13802  0.247206  0.453808     1    -1    -1    -1  41406  \n",
       "\n",
       "[13803 rows x 33 columns]"
      ]
     },
     "execution_count": 3,
     "metadata": {},
     "output_type": "execute_result"
    }
   ],
   "source": [
    "p11[\"time\"] = p11.index*3\n",
    "p11"
   ]
  },
  {
   "cell_type": "code",
   "execution_count": null,
   "metadata": {},
   "outputs": [
    {
     "data": {
      "text/plain": [
       "0        0.361962\n",
       "1        0.199972\n",
       "2        0.132541\n",
       "3        0.101688\n",
       "4        0.092337\n",
       "           ...   \n",
       "13798    0.084877\n",
       "13799    0.060427\n",
       "13800    0.016522\n",
       "13801    0.013444\n",
       "13802    0.020270\n",
       "Name: Distancia, Length: 13803, dtype: float64"
      ]
     },
     "execution_count": 4,
     "metadata": {},
     "output_type": "execute_result"
    }
   ],
   "source": [
    "def distance(x, y, z):\n",
    "    return math.sqrt(x**2 + y**2 + z**2)\n",
    "\n",
    "p11['Distancia'] = p11.apply(lambda row: distance(row['Des_x'], row['Des_y'], row['Des_z']), axis=1)\n",
    "\n",
    "p11['Distancia'] "
   ]
  },
  {
   "cell_type": "code",
   "execution_count": null,
   "metadata": {},
   "outputs": [
    {
     "data": {
      "text/html": [
       "<div>\n",
       "<style scoped>\n",
       "    .dataframe tbody tr th:only-of-type {\n",
       "        vertical-align: middle;\n",
       "    }\n",
       "\n",
       "    .dataframe tbody tr th {\n",
       "        vertical-align: top;\n",
       "    }\n",
       "\n",
       "    .dataframe thead th {\n",
       "        text-align: right;\n",
       "    }\n",
       "</style>\n",
       "<table border=\"1\" class=\"dataframe\">\n",
       "  <thead>\n",
       "    <tr style=\"text-align: right;\">\n",
       "      <th></th>\n",
       "      <th>Column</th>\n",
       "      <th>Zero_Crossings</th>\n",
       "    </tr>\n",
       "  </thead>\n",
       "  <tbody>\n",
       "    <tr>\n",
       "      <th>0</th>\n",
       "      <td>Veloc</td>\n",
       "      <td>2825</td>\n",
       "    </tr>\n",
       "    <tr>\n",
       "      <th>1</th>\n",
       "      <td>Acele</td>\n",
       "      <td>4028</td>\n",
       "    </tr>\n",
       "    <tr>\n",
       "      <th>2</th>\n",
       "      <td>Des_x</td>\n",
       "      <td>3451</td>\n",
       "    </tr>\n",
       "    <tr>\n",
       "      <th>3</th>\n",
       "      <td>Des_y</td>\n",
       "      <td>2845</td>\n",
       "    </tr>\n",
       "    <tr>\n",
       "      <th>4</th>\n",
       "      <td>Des_z</td>\n",
       "      <td>2043</td>\n",
       "    </tr>\n",
       "    <tr>\n",
       "      <th>5</th>\n",
       "      <td>Presn</td>\n",
       "      <td>3134</td>\n",
       "    </tr>\n",
       "    <tr>\n",
       "      <th>6</th>\n",
       "      <td>VelPr</td>\n",
       "      <td>2634</td>\n",
       "    </tr>\n",
       "    <tr>\n",
       "      <th>7</th>\n",
       "      <td>AcePr</td>\n",
       "      <td>4630</td>\n",
       "    </tr>\n",
       "    <tr>\n",
       "      <th>8</th>\n",
       "      <td>F5EEX</td>\n",
       "      <td>1700</td>\n",
       "    </tr>\n",
       "    <tr>\n",
       "      <th>9</th>\n",
       "      <td>F6EES</td>\n",
       "      <td>1694</td>\n",
       "    </tr>\n",
       "    <tr>\n",
       "      <th>10</th>\n",
       "      <td>F8EIX</td>\n",
       "      <td>1760</td>\n",
       "    </tr>\n",
       "    <tr>\n",
       "      <th>11</th>\n",
       "      <td>F7EIS</td>\n",
       "      <td>1810</td>\n",
       "    </tr>\n",
       "    <tr>\n",
       "      <th>12</th>\n",
       "      <td>F9EEX</td>\n",
       "      <td>1678</td>\n",
       "    </tr>\n",
       "    <tr>\n",
       "      <th>13</th>\n",
       "      <td>F10ES</td>\n",
       "      <td>1684</td>\n",
       "    </tr>\n",
       "    <tr>\n",
       "      <th>14</th>\n",
       "      <td>F11EX</td>\n",
       "      <td>1874</td>\n",
       "    </tr>\n",
       "    <tr>\n",
       "      <th>15</th>\n",
       "      <td>F12ES</td>\n",
       "      <td>1690</td>\n",
       "    </tr>\n",
       "    <tr>\n",
       "      <th>16</th>\n",
       "      <td>F13EV</td>\n",
       "      <td>1285</td>\n",
       "    </tr>\n",
       "    <tr>\n",
       "      <th>17</th>\n",
       "      <td>F14EV</td>\n",
       "      <td>1176</td>\n",
       "    </tr>\n",
       "    <tr>\n",
       "      <th>18</th>\n",
       "      <td>F17MS</td>\n",
       "      <td>1319</td>\n",
       "    </tr>\n",
       "    <tr>\n",
       "      <th>19</th>\n",
       "      <td>F18MX</td>\n",
       "      <td>1076</td>\n",
       "    </tr>\n",
       "    <tr>\n",
       "      <th>20</th>\n",
       "      <td>F15MS</td>\n",
       "      <td>1164</td>\n",
       "    </tr>\n",
       "    <tr>\n",
       "      <th>21</th>\n",
       "      <td>F16MX</td>\n",
       "      <td>1212</td>\n",
       "    </tr>\n",
       "    <tr>\n",
       "      <th>22</th>\n",
       "      <td>F19MH</td>\n",
       "      <td>1434</td>\n",
       "    </tr>\n",
       "    <tr>\n",
       "      <th>23</th>\n",
       "      <td>F20MH</td>\n",
       "      <td>915</td>\n",
       "    </tr>\n",
       "    <tr>\n",
       "      <th>24</th>\n",
       "      <td>F1EBX</td>\n",
       "      <td>1311</td>\n",
       "    </tr>\n",
       "    <tr>\n",
       "      <th>25</th>\n",
       "      <td>F2EBS</td>\n",
       "      <td>1348</td>\n",
       "    </tr>\n",
       "    <tr>\n",
       "      <th>26</th>\n",
       "      <td>F4EBX</td>\n",
       "      <td>1327</td>\n",
       "    </tr>\n",
       "    <tr>\n",
       "      <th>27</th>\n",
       "      <td>F3EBS</td>\n",
       "      <td>1564</td>\n",
       "    </tr>\n",
       "    <tr>\n",
       "      <th>28</th>\n",
       "      <td>01_C</td>\n",
       "      <td>31</td>\n",
       "    </tr>\n",
       "    <tr>\n",
       "      <th>29</th>\n",
       "      <td>02_A</td>\n",
       "      <td>174</td>\n",
       "    </tr>\n",
       "    <tr>\n",
       "      <th>30</th>\n",
       "      <td>03_D</td>\n",
       "      <td>38</td>\n",
       "    </tr>\n",
       "    <tr>\n",
       "      <th>31</th>\n",
       "      <td>04_M</td>\n",
       "      <td>197</td>\n",
       "    </tr>\n",
       "    <tr>\n",
       "      <th>32</th>\n",
       "      <td>time</td>\n",
       "      <td>0</td>\n",
       "    </tr>\n",
       "    <tr>\n",
       "      <th>33</th>\n",
       "      <td>Distancia</td>\n",
       "      <td>3001</td>\n",
       "    </tr>\n",
       "  </tbody>\n",
       "</table>\n",
       "</div>"
      ],
      "text/plain": [
       "       Column  Zero_Crossings\n",
       "0       Veloc            2825\n",
       "1       Acele            4028\n",
       "2       Des_x            3451\n",
       "3       Des_y            2845\n",
       "4       Des_z            2043\n",
       "5       Presn            3134\n",
       "6       VelPr            2634\n",
       "7       AcePr            4630\n",
       "8       F5EEX            1700\n",
       "9       F6EES            1694\n",
       "10      F8EIX            1760\n",
       "11      F7EIS            1810\n",
       "12      F9EEX            1678\n",
       "13      F10ES            1684\n",
       "14      F11EX            1874\n",
       "15      F12ES            1690\n",
       "16      F13EV            1285\n",
       "17      F14EV            1176\n",
       "18      F17MS            1319\n",
       "19      F18MX            1076\n",
       "20      F15MS            1164\n",
       "21      F16MX            1212\n",
       "22      F19MH            1434\n",
       "23      F20MH             915\n",
       "24      F1EBX            1311\n",
       "25      F2EBS            1348\n",
       "26      F4EBX            1327\n",
       "27      F3EBS            1564\n",
       "28       01_C              31\n",
       "29       02_A             174\n",
       "30       03_D              38\n",
       "31       04_M             197\n",
       "32       time               0\n",
       "33  Distancia            3001"
      ]
     },
     "execution_count": 5,
     "metadata": {},
     "output_type": "execute_result"
    }
   ],
   "source": [
    "# Filtramos solo las columnas numéricas para estandarizar\n",
    "numeric_cols_P11 = p11.select_dtypes(include=['number']).columns\n",
    "\n",
    "# Estandarización de las columnas numéricas\n",
    "scaler = StandardScaler()\n",
    "my_data_normalized_P11 = pd.DataFrame(scaler.fit_transform(p11[numeric_cols_P11]), columns=numeric_cols_P11)\n",
    "\n",
    "# Contar cruces por cero para cada columna\n",
    "cross_zero_counts = {}\n",
    "for col in my_data_normalized_P11.columns:\n",
    "    # Contar cruces por cero (un cambio de signo entre valores consecutivos)\n",
    "    cross_zero_counts[col] = ((my_data_normalized_P11[col].shift(1) * my_data_normalized_P11[col]) < 0).sum()\n",
    "\n",
    "# Convertir el resultado en un DataFrame\n",
    "df_cross_zero_counts_P11 = pd.DataFrame(list(cross_zero_counts.items()), columns=['Column', 'Zero_Crossings'])\n",
    "\n",
    "# Mostrar el resultado\n",
    "df_cross_zero_counts_P11"
   ]
  },
  {
   "cell_type": "code",
   "execution_count": null,
   "metadata": {},
   "outputs": [
    {
     "data": {
      "image/png": "[encoded data removed]",
      "text/plain": [
       "<Figure size 2000x1500 with 1 Axes>"
      ]
     },
     "metadata": {},
     "output_type": "display_data"
    }
   ],
   "source": [
    "plt.figure(figsize=(20, 15))\n",
    "\n",
    "# Crear la gráfica de barras\n",
    "plt.style.use('seaborn-v0_8')  \n",
    "# Gráfica de barras\n",
    "colors = plt.get_cmap(\"Set1\").colors  # Usamos la paleta Set2 para colores suaves y equilibrados\n",
    "\n",
    "bars_P11 = plt.bar(df_cross_zero_counts_P11['Column'], \n",
    "               df_cross_zero_counts_P11['Zero_Crossings'], \n",
    "               color=colors[:len(df_cross_zero_counts_P11)])\n",
    "# Rotar las etiquetas del eje X\n",
    "plt.xticks(rotation=45)\n",
    "\n",
    "# Añadir etiquetas y título\n",
    "plt.xlabel(\"Columnas\", fontsize=12)\n",
    "plt.ylabel(\"Número de cruces por 0\", fontsize=12)\n",
    "plt.title(\"Gráfica de cruces por cero PACIENTE 11\", fontsize=14)\n",
    "\n",
    "# Mostrar el valor encima de cada barra\n",
    "for bar in bars_P11:\n",
    "    plt.text(\n",
    "        bar.get_x() + bar.get_width() / 2,\n",
    "        bar.get_height(),\n",
    "        f'{bar.get_height():.1f}',\n",
    "        ha='center', va='bottom'\n",
    "    )\n",
    "\n",
    "plt.show()"
   ]
  },
  {
   "cell_type": "code",
   "execution_count": null,
   "metadata": {},
   "outputs": [
    {
     "data": {
      "text/html": [
       "\n",
       "<style>\n",
       "  #altair-viz-24ae06e88d6740fc8efa228c1a04ef6b.vega-embed {\n",
       "    width: 100%;\n",
       "    display: flex;\n",
       "  }\n",
       "\n",
       "  #altair-viz-24ae06e88d6740fc8efa228c1a04ef6b.vega-embed details,\n",
       "  #altair-viz-24ae06e88d6740fc8efa228c1a04ef6b.vega-embed details summary {\n",
       "    position: relative;\n",
       "  }\n",
       "</style>\n",
       "<div id=\"altair-viz-24ae06e88d6740fc8efa228c1a04ef6b\"></div>\n",
       "<script type=\"text/javascript\">\n",
       "  var VEGA_DEBUG = (typeof VEGA_DEBUG == \"undefined\") ? {} : VEGA_DEBUG;\n",
       "  (function(spec, embedOpt){\n",
       "    let outputDiv = document.currentScript.previousElementSibling;\n",
       "    if (outputDiv.id !== \"altair-viz-24ae06e88d6740fc8efa228c1a04ef6b\") {\n",
       "      outputDiv = document.getElementById(\"altair-viz-24ae06e88d6740fc8efa228c1a04ef6b\");\n",
       "    }\n",
       "    const paths = {\n",
       "      \"vega\": \"https://cdn.jsdelivr.net/npm/vega@5?noext\",\n",
       "      \"vega-lib\": \"https://cdn.jsdelivr.net/npm/vega-lib?noext\",\n",
       "      \"vega-lite\": \"https://cdn.jsdelivr.net/npm/vega-lite@5.20.1?noext\",\n",
       "      \"vega-embed\": \"https://cdn.jsdelivr.net/npm/vega-embed@6?noext\",\n",
       "    };\n",
       "\n",
       "    function maybeLoadScript(lib, version) {\n",
       "      var key = `${lib.replace(\"-\", \"\")}_version`;\n",
       "      return (VEGA_DEBUG[key] == version) ?\n",
       "        Promise.resolve(paths[lib]) :\n",
       "        new Promise(function(resolve, reject) {\n",
       "          var s = document.createElement('script');\n",
       "          document.getElementsByTagName(\"head\")[0].appendChild(s);\n",
       "          s.async = true;\n",
       "          s.onload = () => {\n",
       "            VEGA_DEBUG[key] = version;\n",
       "            return resolve(paths[lib]);\n",
       "          };\n",
       "          s.onerror = () => reject(`Error loading script: ${paths[lib]}`);\n",
       "          s.src = paths[lib];\n",
       "        });\n",
       "    }\n",
       "\n",
       "    function showError(err) {\n",
       "      outputDiv.innerHTML = `<div class=\"error\" style=\"color:red;\">${err}</div>`;\n",
       "      throw err;\n",
       "    }\n",
       "\n",
       "    function displayChart(vegaEmbed) {\n",
       "      vegaEmbed(outputDiv, spec, embedOpt)\n",
       "        .catch(err => showError(`Javascript Error: ${err.message}<br>This usually means there's a typo in your chart specification. See the javascript console for the full traceback.`));\n",
       "    }\n",
       "\n",
       "    if(typeof define === \"function\" && define.amd) {\n",
       "      requirejs.config({paths});\n",
       "      require([\"vega-embed\"], displayChart, err => showError(`Error loading script: ${err.message}`));\n",
       "    } else {\n",
       "      maybeLoadScript(\"vega\", \"5\")\n",
       "        .then(() => maybeLoadScript(\"vega-lite\", \"5.20.1\"))\n",
       "        .then(() => maybeLoadScript(\"vega-embed\", \"6\"))\n",
       "        .catch(showError)\n",
       "        .then(() => displayChart(vegaEmbed));\n",
       "    }\n",
       "  })({\"config\": {\"view\": {\"continuousWidth\": 300, \"continuousHeight\": 300}, \"axis\": {\"labelAngle\": 45}}, \"data\": {\"name\": \"data-ad398f241364655c8ba0ef1a40ba0a72\"}, \"mark\": {\"type\": \"text\", \"align\": \"center\", \"baseline\": \"bottom\", \"dy\": -5}, \"encoding\": {\"color\": {\"field\": \"Column\", \"scale\": {\"scheme\": \"set1\"}, \"type\": \"nominal\"}, \"text\": {\"field\": \"Zero_Crossings\", \"type\": \"quantitative\"}, \"x\": {\"field\": \"Column\", \"sort\": null, \"title\": \"Columnas\", \"type\": \"nominal\"}, \"y\": {\"field\": \"Zero_Crossings\", \"title\": \"N\\u00famero de cruces por 0\", \"type\": \"quantitative\"}}, \"height\": 400, \"title\": \"Gr\\u00e1fica de cruces por cero PACIENTE 7\", \"width\": 600, \"$schema\": \"https://vega.github.io/schema/vega-lite/v5.20.1.json\", \"datasets\": {\"data-ad398f241364655c8ba0ef1a40ba0a72\": [{\"Column\": \"Veloc\", \"Zero_Crossings\": 2825}, {\"Column\": \"Acele\", \"Zero_Crossings\": 4028}, {\"Column\": \"Des_x\", \"Zero_Crossings\": 3451}, {\"Column\": \"Des_y\", \"Zero_Crossings\": 2845}, {\"Column\": \"Des_z\", \"Zero_Crossings\": 2043}, {\"Column\": \"Presn\", \"Zero_Crossings\": 3134}, {\"Column\": \"VelPr\", \"Zero_Crossings\": 2634}, {\"Column\": \"AcePr\", \"Zero_Crossings\": 4630}, {\"Column\": \"F5EEX\", \"Zero_Crossings\": 1700}, {\"Column\": \"F6EES\", \"Zero_Crossings\": 1694}, {\"Column\": \"F8EIX\", \"Zero_Crossings\": 1760}, {\"Column\": \"F7EIS\", \"Zero_Crossings\": 1810}, {\"Column\": \"F9EEX\", \"Zero_Crossings\": 1678}, {\"Column\": \"F10ES\", \"Zero_Crossings\": 1684}, {\"Column\": \"F11EX\", \"Zero_Crossings\": 1874}, {\"Column\": \"F12ES\", \"Zero_Crossings\": 1690}, {\"Column\": \"F13EV\", \"Zero_Crossings\": 1285}, {\"Column\": \"F14EV\", \"Zero_Crossings\": 1176}, {\"Column\": \"F17MS\", \"Zero_Crossings\": 1319}, {\"Column\": \"F18MX\", \"Zero_Crossings\": 1076}, {\"Column\": \"F15MS\", \"Zero_Crossings\": 1164}, {\"Column\": \"F16MX\", \"Zero_Crossings\": 1212}, {\"Column\": \"F19MH\", \"Zero_Crossings\": 1434}, {\"Column\": \"F20MH\", \"Zero_Crossings\": 915}, {\"Column\": \"F1EBX\", \"Zero_Crossings\": 1311}, {\"Column\": \"F2EBS\", \"Zero_Crossings\": 1348}, {\"Column\": \"F4EBX\", \"Zero_Crossings\": 1327}, {\"Column\": \"F3EBS\", \"Zero_Crossings\": 1564}, {\"Column\": \"01_C\", \"Zero_Crossings\": 31}, {\"Column\": \"02_A\", \"Zero_Crossings\": 174}, {\"Column\": \"03_D\", \"Zero_Crossings\": 38}, {\"Column\": \"04_M\", \"Zero_Crossings\": 197}, {\"Column\": \"time\", \"Zero_Crossings\": 0}, {\"Column\": \"Distancia\", \"Zero_Crossings\": 3001}]}}, {\"mode\": \"vega-lite\"});\n",
       "</script>"
      ],
      "text/plain": [
       "alt.Chart(...)"
      ]
     },
     "metadata": {},
     "output_type": "display_data"
    }
   ],
   "source": [
    "# Configurar la gráfica de barras en Altair\n",
    "chart_P11 = alt.Chart(df_cross_zero_counts_P11).mark_bar().encode(\n",
    "    x=alt.X('Column', sort=None, title='Columnas'),\n",
    "    y=alt.Y('Zero_Crossings', title='Número de cruces por 0'),\n",
    "    color=alt.Color('Column', scale=alt.Scale(scheme='set1'))  # Colores de la paleta Set1\n",
    ").properties(\n",
    "    title='Gráfica de cruces por cero PACIENTE 11',\n",
    "    width=600,\n",
    "    height=400\n",
    ").configure_axis(\n",
    "    labelAngle=45  # Rotar etiquetas del eje X\n",
    ").mark_text(\n",
    "    align='center',\n",
    "    baseline='bottom',\n",
    "    dy=-5  # Ajuste de posición para mostrar encima de la barra\n",
    ").encode(\n",
    "    text=alt.Text('Zero_Crossings:Q')\n",
    ")\n",
    "\n",
    "chart_P11.display()\n"
   ]
  },
  {
   "cell_type": "code",
   "execution_count": null,
   "metadata": {},
   "outputs": [
    {
     "ename": "NameError",
     "evalue": "name 'df_cross_zero_counts_P11' is not defined",
     "output_type": "error",
     "traceback": [
      "\u001b[0;31m---------------------------------------------------------------------------\u001b[0m",
      "\u001b[0;31mNameError\u001b[0m                                 Traceback (most recent call last)",
      "Cell \u001b[0;32mIn[6], line 17\u001b[0m\n\u001b[1;32m     15\u001b[0m \u001b[38;5;66;03m# Agrupar columnas en pares y crear etiquetas para la leyenda\u001b[39;00m\n\u001b[1;32m     16\u001b[0m labels \u001b[38;5;241m=\u001b[39m []\n\u001b[0;32m---> 17\u001b[0m \u001b[38;5;28;01mfor\u001b[39;00m i \u001b[38;5;129;01min\u001b[39;00m \u001b[38;5;28mrange\u001b[39m(\u001b[38;5;241m0\u001b[39m, \u001b[38;5;28mlen\u001b[39m(\u001b[43mdf_cross_zero_counts_P11\u001b[49m) \u001b[38;5;241m-\u001b[39m \u001b[38;5;241m1\u001b[39m, \u001b[38;5;241m2\u001b[39m):\n\u001b[1;32m     18\u001b[0m     pair_label \u001b[38;5;241m=\u001b[39m \u001b[38;5;124mf\u001b[39m\u001b[38;5;124m\"\u001b[39m\u001b[38;5;132;01m{\u001b[39;00mdf_cross_zero_counts_P11[\u001b[38;5;124m'\u001b[39m\u001b[38;5;124mColumn\u001b[39m\u001b[38;5;124m'\u001b[39m]\u001b[38;5;241m.\u001b[39miloc[i]\u001b[38;5;132;01m}\u001b[39;00m\u001b[38;5;124m y \u001b[39m\u001b[38;5;132;01m{\u001b[39;00mdf_cross_zero_counts_P11[\u001b[38;5;124m'\u001b[39m\u001b[38;5;124mColumn\u001b[39m\u001b[38;5;124m'\u001b[39m]\u001b[38;5;241m.\u001b[39miloc[i\u001b[38;5;250m \u001b[39m\u001b[38;5;241m+\u001b[39m\u001b[38;5;250m \u001b[39m\u001b[38;5;241m1\u001b[39m]\u001b[38;5;132;01m}\u001b[39;00m\u001b[38;5;124m\"\u001b[39m\n\u001b[1;32m     19\u001b[0m     labels\u001b[38;5;241m.\u001b[39mappend(pair_label)\n",
      "\u001b[0;31mNameError\u001b[0m: name 'df_cross_zero_counts_P11' is not defined"
     ]
    }
   ],
   "source": [
    "import pandas as pd\n",
    "import altair as alt\n",
    "\n",
    "# Supongamos que df_cross_zero_counts es tu DataFrame original\n",
    "# df_cross_zero_counts = pd.DataFrame({...})\n",
    "\n",
    "# Definir una lista de 17 colores\n",
    "colors = [\n",
    "    '#1f77b4', '#ff7f0e', '#2ca02c', '#d62728', '#9467bd',\n",
    "    '#8c564b', '#e377c2', '#7f7f7f', '#bcbd22', '#17becf',\n",
    "    '#ffbb78', '#ff9896', '#c5b0d5', '#c49c94', '#f7b6d2',\n",
    "    '#dbdb8d', '#9edae5'\n",
    "]\n",
    "\n",
    "# Agrupar columnas en pares y crear etiquetas para la leyenda\n",
    "labels = []\n",
    "for i in range(0, len(df_cross_zero_counts_P11) - 1, 2):\n",
    "    pair_label = f\"{df_cross_zero_counts_P11['Column'].iloc[i]} y {df_cross_zero_counts_P11['Column'].iloc[i + 1]}\"\n",
    "    labels.append(pair_label)\n",
    "\n",
    "# Agregar la última columna como un grupo único\n",
    "if len(df_cross_zero_counts_P11) % 2 == 1:\n",
    "    labels.append(df_cross_zero_counts_P11['Column'].iloc[-1])\n",
    "\n",
    "# Asignar las etiquetas al DataFrame\n",
    "df_cross_zero_counts_P11['Legend'] = None\n",
    "for i, label in enumerate(labels):\n",
    "    if i < len(labels) - 1:  # Asignar el par de nombres\n",
    "        df_cross_zero_counts_P11.loc[2 * i:2 * i + 1, 'Legend'] = label\n",
    "    else:  # Asignar la última columna sola\n",
    "        df_cross_zero_counts_P11.loc[len(df_cross_zero_counts_P11) - 1, 'Legend'] = label\n",
    "\n",
    "# Crear una nueva columna para los colores\n",
    "df_cross_zero_counts_P11['Color'] = df_cross_zero_counts_P11['Legend'].factorize()[0]\n",
    "\n",
    "# Gráfico de barras\n",
    "bars_P11 = alt.Chart(df_cross_zero_counts_P11).mark_bar().encode(\n",
    "    x=alt.X('Column', sort=None, title='Columnas'),\n",
    "    y=alt.Y('Zero_Crossings', title='Número de cruces por 0'),\n",
    "    color=alt.Color('Legend:N', scale=alt.Scale(domain=labels, range=colors[:len(labels)]), \n",
    "                    legend=alt.Legend(title=\"Variables (Grupos)\", orient='right'))  # Leyenda a la derecha\n",
    ").properties(\n",
    "    title='Gráfica de cruces por cero PACIENTE 11',\n",
    "    width=600,\n",
    "    height=400\n",
    ")\n",
    "\n",
    "# Agregar etiquetas de texto en una capa separada\n",
    "text = bars_P11.mark_text(\n",
    "    align='center',\n",
    "    baseline='bottom',\n",
    "    dy=-5  # Ajuste para que el texto quede sobre la barra\n",
    ").encode(\n",
    "    text='Zero_Crossings:Q'  # Cuantitative (Q), Ordinal (O), Nominal (N), Temporal (T)\n",
    ")\n",
    "\n",
    "# Combinar barras y texto\n",
    "chart_P11 = bars_P11 + text\n",
    "\n",
    "# Mostrar el gráfico\n",
    "chart_P11.display()\n"
   ]
  },
  {
   "cell_type": "code",
   "execution_count": null,
   "metadata": {},
   "outputs": [
    {
     "name": "stderr",
     "output_type": "stream",
     "text": [
      "/var/folders/zc/0810pbdx27g4bxf79h2cbnf40000gn/T/ipykernel_1983/2459988011.py:17: UserWarning: set_ticklabels() should only be used with a fixed number of ticks, i.e. after set_ticks() or using a FixedLocator.\n",
      "  ax1.set_xticklabels(df_sorted['Column'], rotation=45, ha='right')\n"
     ]
    },
    {
     "data": {
      "image/png": "[encoded data removed]",
      "text/plain": [
       "<Figure size 1000x600 with 2 Axes>"
      ]
     },
     "metadata": {},
     "output_type": "display_data"
    }
   ],
   "source": [
    "# Ordenar los datos en orden descendente por 'Zero_Crossings'\n",
    "df_sorted_P11 = df_cross_zero_counts_P11.sort_values(by='Zero_Crossings', ascending=False).reset_index(drop=True)\n",
    "\n",
    "# Calcular el porcentaje acumulativo\n",
    "df_sorted_P11['Cumulative_Percentage'] = df_sorted_P11['Zero_Crossings'].cumsum() / df_sorted_P11['Zero_Crossings'].sum() * 100\n",
    "\n",
    "# Crear la gráfica de Pareto\n",
    "fig, ax1 = plt.subplots(figsize=(10, 6))\n",
    "\n",
    "# Graficar las barras de conteo de cruces por cero\n",
    "bars_P11 = ax1.bar(df_sorted_P11['Column'], df_sorted_P11['Zero_Crossings'], color='skyblue', label='Zero Crossings')\n",
    "ax1.set_xlabel('Column')\n",
    "ax1.set_ylabel('Zero Crossings', color='skyblue')\n",
    "ax1.tick_params(axis='y', labelcolor='skyblue')\n",
    "\n",
    "# Rotar las etiquetas del eje X\n",
    "ax1.set_xticklabels(df_sorted_P11['Column'], rotation=45, ha='right')\n",
    "\n",
    "# Crear un segundo eje Y para la línea de porcentaje acumulado\n",
    "ax2 = ax1.twinx()\n",
    "ax2.plot(df_sorted_P11['Column'], df_sorted_P11['Cumulative_Percentage'], color='orange', marker='o', linestyle='-', linewidth=2, label='Cumulative Percentage')\n",
    "ax2.set_ylabel('Cumulative Percentage (%)', color='orange')\n",
    "ax2.tick_params(axis='y', labelcolor='orange')\n",
    "ax2.set_ylim([0, 110])  # Asegura que el límite superior permita que la línea llegue hasta 100%\n",
    "\n",
    "# Agregar línea de referencia en 80%\n",
    "ax2.axhline(80, color='grey', linestyle='--', linewidth=0.8)\n",
    "\n",
    "# Mostrar leyendas\n",
    "fig.tight_layout()\n",
    "plt.title('Pareto Chart of Zero Crossings PACIENTE 11')\n",
    "plt.show()\n"
   ]
  },
  {
   "cell_type": "code",
   "execution_count": null,
   "metadata": {},
   "outputs": [
    {
     "data": {
      "text/html": [
       "<div>\n",
       "<style scoped>\n",
       "    .dataframe tbody tr th:only-of-type {\n",
       "        vertical-align: middle;\n",
       "    }\n",
       "\n",
       "    .dataframe tbody tr th {\n",
       "        vertical-align: top;\n",
       "    }\n",
       "\n",
       "    .dataframe thead th {\n",
       "        text-align: right;\n",
       "    }\n",
       "</style>\n",
       "<table border=\"1\" class=\"dataframe\">\n",
       "  <thead>\n",
       "    <tr style=\"text-align: right;\">\n",
       "      <th></th>\n",
       "      <th>Column</th>\n",
       "      <th>Zero_Crossings</th>\n",
       "      <th>Legend</th>\n",
       "      <th>Color</th>\n",
       "      <th>Cumulative_Percentage</th>\n",
       "    </tr>\n",
       "  </thead>\n",
       "  <tbody>\n",
       "    <tr>\n",
       "      <th>0</th>\n",
       "      <td>AcePr</td>\n",
       "      <td>4630</td>\n",
       "      <td>VelPr y AcePr</td>\n",
       "      <td>3</td>\n",
       "      <td>7.975608</td>\n",
       "    </tr>\n",
       "    <tr>\n",
       "      <th>1</th>\n",
       "      <td>Acele</td>\n",
       "      <td>4028</td>\n",
       "      <td>Veloc y Acele</td>\n",
       "      <td>0</td>\n",
       "      <td>14.914215</td>\n",
       "    </tr>\n",
       "    <tr>\n",
       "      <th>2</th>\n",
       "      <td>Des_x</td>\n",
       "      <td>3451</td>\n",
       "      <td>Des_x y Des_y</td>\n",
       "      <td>1</td>\n",
       "      <td>20.858885</td>\n",
       "    </tr>\n",
       "    <tr>\n",
       "      <th>3</th>\n",
       "      <td>Presn</td>\n",
       "      <td>3134</td>\n",
       "      <td>Des_z y Presn</td>\n",
       "      <td>2</td>\n",
       "      <td>26.257493</td>\n",
       "    </tr>\n",
       "    <tr>\n",
       "      <th>4</th>\n",
       "      <td>Distancia</td>\n",
       "      <td>3001</td>\n",
       "      <td>time y Distancia</td>\n",
       "      <td>16</td>\n",
       "      <td>31.426996</td>\n",
       "    </tr>\n",
       "    <tr>\n",
       "      <th>5</th>\n",
       "      <td>Des_y</td>\n",
       "      <td>2845</td>\n",
       "      <td>Des_x y Des_y</td>\n",
       "      <td>1</td>\n",
       "      <td>36.327775</td>\n",
       "    </tr>\n",
       "    <tr>\n",
       "      <th>6</th>\n",
       "      <td>Veloc</td>\n",
       "      <td>2825</td>\n",
       "      <td>Veloc y Acele</td>\n",
       "      <td>0</td>\n",
       "      <td>41.194102</td>\n",
       "    </tr>\n",
       "    <tr>\n",
       "      <th>7</th>\n",
       "      <td>VelPr</td>\n",
       "      <td>2634</td>\n",
       "      <td>VelPr y AcePr</td>\n",
       "      <td>3</td>\n",
       "      <td>45.731413</td>\n",
       "    </tr>\n",
       "    <tr>\n",
       "      <th>8</th>\n",
       "      <td>Des_z</td>\n",
       "      <td>2043</td>\n",
       "      <td>Des_z y Presn</td>\n",
       "      <td>2</td>\n",
       "      <td>49.250672</td>\n",
       "    </tr>\n",
       "    <tr>\n",
       "      <th>9</th>\n",
       "      <td>F11EX</td>\n",
       "      <td>1874</td>\n",
       "      <td>F11EX y F12ES</td>\n",
       "      <td>7</td>\n",
       "      <td>52.478812</td>\n",
       "    </tr>\n",
       "    <tr>\n",
       "      <th>10</th>\n",
       "      <td>F7EIS</td>\n",
       "      <td>1810</td>\n",
       "      <td>F8EIX y F7EIS</td>\n",
       "      <td>5</td>\n",
       "      <td>55.596706</td>\n",
       "    </tr>\n",
       "    <tr>\n",
       "      <th>11</th>\n",
       "      <td>F8EIX</td>\n",
       "      <td>1760</td>\n",
       "      <td>F8EIX y F7EIS</td>\n",
       "      <td>5</td>\n",
       "      <td>58.628471</td>\n",
       "    </tr>\n",
       "    <tr>\n",
       "      <th>12</th>\n",
       "      <td>F5EEX</td>\n",
       "      <td>1700</td>\n",
       "      <td>F5EEX y F6EES</td>\n",
       "      <td>4</td>\n",
       "      <td>61.556880</td>\n",
       "    </tr>\n",
       "    <tr>\n",
       "      <th>13</th>\n",
       "      <td>F6EES</td>\n",
       "      <td>1694</td>\n",
       "      <td>F5EEX y F6EES</td>\n",
       "      <td>4</td>\n",
       "      <td>64.474953</td>\n",
       "    </tr>\n",
       "    <tr>\n",
       "      <th>14</th>\n",
       "      <td>F12ES</td>\n",
       "      <td>1690</td>\n",
       "      <td>F11EX y F12ES</td>\n",
       "      <td>7</td>\n",
       "      <td>67.386137</td>\n",
       "    </tr>\n",
       "    <tr>\n",
       "      <th>15</th>\n",
       "      <td>F10ES</td>\n",
       "      <td>1684</td>\n",
       "      <td>F9EEX y F10ES</td>\n",
       "      <td>6</td>\n",
       "      <td>70.286984</td>\n",
       "    </tr>\n",
       "    <tr>\n",
       "      <th>16</th>\n",
       "      <td>F9EEX</td>\n",
       "      <td>1678</td>\n",
       "      <td>F9EEX y F10ES</td>\n",
       "      <td>6</td>\n",
       "      <td>73.177496</td>\n",
       "    </tr>\n",
       "    <tr>\n",
       "      <th>17</th>\n",
       "      <td>F3EBS</td>\n",
       "      <td>1564</td>\n",
       "      <td>F4EBX y F3EBS</td>\n",
       "      <td>13</td>\n",
       "      <td>75.871632</td>\n",
       "    </tr>\n",
       "    <tr>\n",
       "      <th>18</th>\n",
       "      <td>F19MH</td>\n",
       "      <td>1434</td>\n",
       "      <td>F19MH y F20MH</td>\n",
       "      <td>11</td>\n",
       "      <td>78.341831</td>\n",
       "    </tr>\n",
       "    <tr>\n",
       "      <th>19</th>\n",
       "      <td>F2EBS</td>\n",
       "      <td>1348</td>\n",
       "      <td>F1EBX y F2EBS</td>\n",
       "      <td>12</td>\n",
       "      <td>80.663888</td>\n",
       "    </tr>\n",
       "    <tr>\n",
       "      <th>20</th>\n",
       "      <td>F4EBX</td>\n",
       "      <td>1327</td>\n",
       "      <td>F4EBX y F3EBS</td>\n",
       "      <td>13</td>\n",
       "      <td>82.949769</td>\n",
       "    </tr>\n",
       "    <tr>\n",
       "      <th>21</th>\n",
       "      <td>F17MS</td>\n",
       "      <td>1319</td>\n",
       "      <td>F17MS y F18MX</td>\n",
       "      <td>9</td>\n",
       "      <td>85.221870</td>\n",
       "    </tr>\n",
       "    <tr>\n",
       "      <th>22</th>\n",
       "      <td>F1EBX</td>\n",
       "      <td>1311</td>\n",
       "      <td>F1EBX y F2EBS</td>\n",
       "      <td>12</td>\n",
       "      <td>87.480190</td>\n",
       "    </tr>\n",
       "    <tr>\n",
       "      <th>23</th>\n",
       "      <td>F13EV</td>\n",
       "      <td>1285</td>\n",
       "      <td>F13EV y F14EV</td>\n",
       "      <td>8</td>\n",
       "      <td>89.693723</td>\n",
       "    </tr>\n",
       "    <tr>\n",
       "      <th>24</th>\n",
       "      <td>F16MX</td>\n",
       "      <td>1212</td>\n",
       "      <td>F15MS y F16MX</td>\n",
       "      <td>10</td>\n",
       "      <td>91.781506</td>\n",
       "    </tr>\n",
       "    <tr>\n",
       "      <th>25</th>\n",
       "      <td>F14EV</td>\n",
       "      <td>1176</td>\n",
       "      <td>F13EV y F14EV</td>\n",
       "      <td>8</td>\n",
       "      <td>93.807276</td>\n",
       "    </tr>\n",
       "    <tr>\n",
       "      <th>26</th>\n",
       "      <td>F15MS</td>\n",
       "      <td>1164</td>\n",
       "      <td>F15MS y F16MX</td>\n",
       "      <td>10</td>\n",
       "      <td>95.812375</td>\n",
       "    </tr>\n",
       "    <tr>\n",
       "      <th>27</th>\n",
       "      <td>F18MX</td>\n",
       "      <td>1076</td>\n",
       "      <td>F17MS y F18MX</td>\n",
       "      <td>9</td>\n",
       "      <td>97.665886</td>\n",
       "    </tr>\n",
       "    <tr>\n",
       "      <th>28</th>\n",
       "      <td>F20MH</td>\n",
       "      <td>915</td>\n",
       "      <td>F19MH y F20MH</td>\n",
       "      <td>11</td>\n",
       "      <td>99.242059</td>\n",
       "    </tr>\n",
       "    <tr>\n",
       "      <th>29</th>\n",
       "      <td>04_M</td>\n",
       "      <td>197</td>\n",
       "      <td>03_D y 04_M</td>\n",
       "      <td>15</td>\n",
       "      <td>99.581410</td>\n",
       "    </tr>\n",
       "    <tr>\n",
       "      <th>30</th>\n",
       "      <td>02_A</td>\n",
       "      <td>174</td>\n",
       "      <td>01_C y 02_A</td>\n",
       "      <td>14</td>\n",
       "      <td>99.881141</td>\n",
       "    </tr>\n",
       "    <tr>\n",
       "      <th>31</th>\n",
       "      <td>03_D</td>\n",
       "      <td>38</td>\n",
       "      <td>03_D y 04_M</td>\n",
       "      <td>15</td>\n",
       "      <td>99.946600</td>\n",
       "    </tr>\n",
       "    <tr>\n",
       "      <th>32</th>\n",
       "      <td>01_C</td>\n",
       "      <td>31</td>\n",
       "      <td>01_C y 02_A</td>\n",
       "      <td>14</td>\n",
       "      <td>100.000000</td>\n",
       "    </tr>\n",
       "    <tr>\n",
       "      <th>33</th>\n",
       "      <td>time</td>\n",
       "      <td>0</td>\n",
       "      <td>None</td>\n",
       "      <td>-1</td>\n",
       "      <td>100.000000</td>\n",
       "    </tr>\n",
       "  </tbody>\n",
       "</table>\n",
       "</div>"
      ],
      "text/plain": [
       "       Column  Zero_Crossings            Legend  Color  Cumulative_Percentage\n",
       "0       AcePr            4630     VelPr y AcePr      3               7.975608\n",
       "1       Acele            4028     Veloc y Acele      0              14.914215\n",
       "2       Des_x            3451     Des_x y Des_y      1              20.858885\n",
       "3       Presn            3134     Des_z y Presn      2              26.257493\n",
       "4   Distancia            3001  time y Distancia     16              31.426996\n",
       "5       Des_y            2845     Des_x y Des_y      1              36.327775\n",
       "6       Veloc            2825     Veloc y Acele      0              41.194102\n",
       "7       VelPr            2634     VelPr y AcePr      3              45.731413\n",
       "8       Des_z            2043     Des_z y Presn      2              49.250672\n",
       "9       F11EX            1874     F11EX y F12ES      7              52.478812\n",
       "10      F7EIS            1810     F8EIX y F7EIS      5              55.596706\n",
       "11      F8EIX            1760     F8EIX y F7EIS      5              58.628471\n",
       "12      F5EEX            1700     F5EEX y F6EES      4              61.556880\n",
       "13      F6EES            1694     F5EEX y F6EES      4              64.474953\n",
       "14      F12ES            1690     F11EX y F12ES      7              67.386137\n",
       "15      F10ES            1684     F9EEX y F10ES      6              70.286984\n",
       "16      F9EEX            1678     F9EEX y F10ES      6              73.177496\n",
       "17      F3EBS            1564     F4EBX y F3EBS     13              75.871632\n",
       "18      F19MH            1434     F19MH y F20MH     11              78.341831\n",
       "19      F2EBS            1348     F1EBX y F2EBS     12              80.663888\n",
       "20      F4EBX            1327     F4EBX y F3EBS     13              82.949769\n",
       "21      F17MS            1319     F17MS y F18MX      9              85.221870\n",
       "22      F1EBX            1311     F1EBX y F2EBS     12              87.480190\n",
       "23      F13EV            1285     F13EV y F14EV      8              89.693723\n",
       "24      F16MX            1212     F15MS y F16MX     10              91.781506\n",
       "25      F14EV            1176     F13EV y F14EV      8              93.807276\n",
       "26      F15MS            1164     F15MS y F16MX     10              95.812375\n",
       "27      F18MX            1076     F17MS y F18MX      9              97.665886\n",
       "28      F20MH             915     F19MH y F20MH     11              99.242059\n",
       "29       04_M             197       03_D y 04_M     15              99.581410\n",
       "30       02_A             174       01_C y 02_A     14              99.881141\n",
       "31       03_D              38       03_D y 04_M     15              99.946600\n",
       "32       01_C              31       01_C y 02_A     14             100.000000\n",
       "33       time               0              None     -1             100.000000"
      ]
     },
     "execution_count": 10,
     "metadata": {},
     "output_type": "execute_result"
    }
   ],
   "source": [
    "\n",
    "# Ordenar los datos en orden descendente y calcular el porcentaje acumulativo\n",
    "df_sorted_P11 = df_cross_zero_counts_P11.sort_values(by='Zero_Crossings', ascending=False).reset_index(drop=True)\n",
    "df_sorted_P11['Cumulative_Percentage'] = df_sorted_P11['Zero_Crossings'].cumsum() / df_sorted_P11['Zero_Crossings'].sum() * 100\n",
    "\n",
    "df_sorted_P11"
   ]
  },
  {
   "cell_type": "code",
   "execution_count": null,
   "metadata": {},
   "outputs": [
    {
     "data": {
      "text/html": [
       "\n",
       "<style>\n",
       "  #altair-viz-3bf5ca61df4c4575a445f5145bcf0984.vega-embed {\n",
       "    width: 100%;\n",
       "    display: flex;\n",
       "  }\n",
       "\n",
       "  #altair-viz-3bf5ca61df4c4575a445f5145bcf0984.vega-embed details,\n",
       "  #altair-viz-3bf5ca61df4c4575a445f5145bcf0984.vega-embed details summary {\n",
       "    position: relative;\n",
       "  }\n",
       "</style>\n",
       "<div id=\"altair-viz-3bf5ca61df4c4575a445f5145bcf0984\"></div>\n",
       "<script type=\"text/javascript\">\n",
       "  var VEGA_DEBUG = (typeof VEGA_DEBUG == \"undefined\") ? {} : VEGA_DEBUG;\n",
       "  (function(spec, embedOpt){\n",
       "    let outputDiv = document.currentScript.previousElementSibling;\n",
       "    if (outputDiv.id !== \"altair-viz-3bf5ca61df4c4575a445f5145bcf0984\") {\n",
       "      outputDiv = document.getElementById(\"altair-viz-3bf5ca61df4c4575a445f5145bcf0984\");\n",
       "    }\n",
       "    const paths = {\n",
       "      \"vega\": \"https://cdn.jsdelivr.net/npm/vega@5?noext\",\n",
       "      \"vega-lib\": \"https://cdn.jsdelivr.net/npm/vega-lib?noext\",\n",
       "      \"vega-lite\": \"https://cdn.jsdelivr.net/npm/vega-lite@5.20.1?noext\",\n",
       "      \"vega-embed\": \"https://cdn.jsdelivr.net/npm/vega-embed@6?noext\",\n",
       "    };\n",
       "\n",
       "    function maybeLoadScript(lib, version) {\n",
       "      var key = `${lib.replace(\"-\", \"\")}_version`;\n",
       "      return (VEGA_DEBUG[key] == version) ?\n",
       "        Promise.resolve(paths[lib]) :\n",
       "        new Promise(function(resolve, reject) {\n",
       "          var s = document.createElement('script');\n",
       "          document.getElementsByTagName(\"head\")[0].appendChild(s);\n",
       "          s.async = true;\n",
       "          s.onload = () => {\n",
       "            VEGA_DEBUG[key] = version;\n",
       "            return resolve(paths[lib]);\n",
       "          };\n",
       "          s.onerror = () => reject(`Error loading script: ${paths[lib]}`);\n",
       "          s.src = paths[lib];\n",
       "        });\n",
       "    }\n",
       "\n",
       "    function showError(err) {\n",
       "      outputDiv.innerHTML = `<div class=\"error\" style=\"color:red;\">${err}</div>`;\n",
       "      throw err;\n",
       "    }\n",
       "\n",
       "    function displayChart(vegaEmbed) {\n",
       "      vegaEmbed(outputDiv, spec, embedOpt)\n",
       "        .catch(err => showError(`Javascript Error: ${err.message}<br>This usually means there's a typo in your chart specification. See the javascript console for the full traceback.`));\n",
       "    }\n",
       "\n",
       "    if(typeof define === \"function\" && define.amd) {\n",
       "      requirejs.config({paths});\n",
       "      require([\"vega-embed\"], displayChart, err => showError(`Error loading script: ${err.message}`));\n",
       "    } else {\n",
       "      maybeLoadScript(\"vega\", \"5\")\n",
       "        .then(() => maybeLoadScript(\"vega-lite\", \"5.20.1\"))\n",
       "        .then(() => maybeLoadScript(\"vega-embed\", \"6\"))\n",
       "        .catch(showError)\n",
       "        .then(() => displayChart(vegaEmbed));\n",
       "    }\n",
       "  })({\"config\": {\"view\": {\"continuousWidth\": 300, \"continuousHeight\": 300}}, \"layer\": [{\"mark\": {\"type\": \"bar\", \"color\": \"skyblue\"}, \"encoding\": {\"x\": {\"field\": \"Column\", \"sort\": null, \"title\": \"Columnas\", \"type\": \"nominal\"}, \"y\": {\"field\": \"Zero_Crossings\", \"title\": \"Zero Crossings\", \"type\": \"quantitative\"}}, \"title\": \"Cruces por cero en orden del \\u00edndice\"}, {\"mark\": {\"type\": \"line\", \"color\": \"orange\"}, \"encoding\": {\"x\": {\"field\": \"Column\", \"sort\": null, \"title\": \"Columnas\", \"type\": \"nominal\"}, \"y\": {\"field\": \"Cumulative_Percentage\", \"title\": \"Cumulative Percentage (%)\", \"type\": \"quantitative\"}}}, {\"mark\": {\"type\": \"point\", \"color\": \"orange\"}, \"encoding\": {\"x\": {\"field\": \"Column\", \"sort\": null, \"title\": \"Columnas\", \"type\": \"nominal\"}, \"y\": {\"field\": \"Cumulative_Percentage\", \"type\": \"quantitative\"}}}, {\"data\": {\"name\": \"data-2e2060358ecffd163ba741c863633c40\"}, \"mark\": {\"type\": \"rule\", \"color\": \"grey\", \"strokeDash\": [5, 5]}, \"encoding\": {\"y\": {\"field\": \"Cumulative_Percentage\", \"type\": \"quantitative\"}}}], \"data\": {\"name\": \"data-b9520ebf1889e0f9c39f985bc5b19472\"}, \"height\": 400, \"title\": \"Pareto Chart of Zero Crossings\", \"width\": 600, \"$schema\": \"https://vega.github.io/schema/vega-lite/v5.20.1.json\", \"datasets\": {\"data-b9520ebf1889e0f9c39f985bc5b19472\": [{\"Column\": \"AcePr\", \"Zero_Crossings\": 4630, \"Legend\": \"VelPr y AcePr\", \"Color\": 3, \"Cumulative_Percentage\": 7.9756080755185}, {\"Column\": \"Acele\", \"Zero_Crossings\": 4028, \"Legend\": \"Veloc y Acele\", \"Color\": 0, \"Cumulative_Percentage\": 14.914214841865913}, {\"Column\": \"Des_x\", \"Zero_Crossings\": 3451, \"Legend\": \"Des_x y Des_y\", \"Color\": 1, \"Cumulative_Percentage\": 20.858885137462966}, {\"Column\": \"Presn\", \"Zero_Crossings\": 3134, \"Legend\": \"Des_z y Presn\", \"Color\": 2, \"Cumulative_Percentage\": 26.257493281885207}, {\"Column\": \"Distancia\", \"Zero_Crossings\": 3001, \"Legend\": \"time y Distancia\", \"Color\": 16, \"Cumulative_Percentage\": 31.426996485909186}, {\"Column\": \"Des_y\", \"Zero_Crossings\": 2845, \"Legend\": \"Des_x y Des_y\", \"Color\": 1, \"Cumulative_Percentage\": 36.32777509818783}, {\"Column\": \"Veloc\", \"Zero_Crossings\": 2825, \"Legend\": \"Veloc y Acele\", \"Color\": 0, \"Cumulative_Percentage\": 41.194101839729896}, {\"Column\": \"VelPr\", \"Zero_Crossings\": 2634, \"Legend\": \"VelPr y AcePr\", \"Color\": 3, \"Cumulative_Percentage\": 45.73141321573762}, {\"Column\": \"Des_z\", \"Zero_Crossings\": 2043, \"Legend\": \"Des_z y Presn\", \"Color\": 2, \"Cumulative_Percentage\": 49.250671811479364}, {\"Column\": \"F11EX\", \"Zero_Crossings\": 1874, \"Legend\": \"F11EX y F12ES\", \"Color\": 7, \"Cumulative_Percentage\": 52.478812099497006}, {\"Column\": \"F7EIS\", \"Zero_Crossings\": 1810, \"Legend\": \"F8EIX y F7EIS\", \"Color\": 5, \"Cumulative_Percentage\": 55.59670640115758}, {\"Column\": \"F8EIX\", \"Zero_Crossings\": 1760, \"Legend\": \"F8EIX y F7EIS\", \"Color\": 5, \"Cumulative_Percentage\": 58.628471025976715}, {\"Column\": \"F5EEX\", \"Zero_Crossings\": 1700, \"Legend\": \"F5EEX y F6EES\", \"Color\": 4, \"Cumulative_Percentage\": 61.556880038586094}, {\"Column\": \"F6EES\", \"Zero_Crossings\": 1694, \"Legend\": \"F5EEX y F6EES\", \"Color\": 4, \"Cumulative_Percentage\": 64.47495348997451}, {\"Column\": \"F12ES\", \"Zero_Crossings\": 1690, \"Legend\": \"F11EX y F12ES\", \"Color\": 7, \"Cumulative_Percentage\": 67.3861365672156}, {\"Column\": \"F10ES\", \"Zero_Crossings\": 1684, \"Legend\": \"F9EEX y F10ES\", \"Color\": 6, \"Cumulative_Percentage\": 70.28698408323571}, {\"Column\": \"F9EEX\", \"Zero_Crossings\": 1678, \"Legend\": \"F9EEX y F10ES\", \"Color\": 6, \"Cumulative_Percentage\": 73.17749603803486}, {\"Column\": \"F3EBS\", \"Zero_Crossings\": 1564, \"Legend\": \"F4EBX y F3EBS\", \"Color\": 13, \"Cumulative_Percentage\": 75.8716323296355}, {\"Column\": \"F19MH\", \"Zero_Crossings\": 1434, \"Legend\": \"F19MH y F20MH\", \"Color\": 11, \"Cumulative_Percentage\": 78.34183146144835}, {\"Column\": \"F2EBS\", \"Zero_Crossings\": 1348, \"Legend\": \"F1EBX y F2EBS\", \"Color\": 12, \"Cumulative_Percentage\": 80.66388754909391}, {\"Column\": \"F4EBX\", \"Zero_Crossings\": 1327, \"Legend\": \"F4EBX y F3EBS\", \"Color\": 13, \"Cumulative_Percentage\": 82.94976917246608}, {\"Column\": \"F17MS\", \"Zero_Crossings\": 1319, \"Legend\": \"F17MS y F18MX\", \"Color\": 9, \"Cumulative_Percentage\": 85.22187004754358}, {\"Column\": \"F1EBX\", \"Zero_Crossings\": 1311, \"Legend\": \"F1EBX y F2EBS\", \"Color\": 12, \"Cumulative_Percentage\": 87.48019017432647}, {\"Column\": \"F13EV\", \"Zero_Crossings\": 1285, \"Legend\": \"F13EV y F14EV\", \"Color\": 8, \"Cumulative_Percentage\": 89.6937228691518}, {\"Column\": \"F16MX\", \"Zero_Crossings\": 1212, \"Legend\": \"F15MS y F16MX\", \"Color\": 10, \"Cumulative_Percentage\": 91.7815062357886}, {\"Column\": \"F14EV\", \"Zero_Crossings\": 1176, \"Legend\": \"F13EV y F14EV\", \"Color\": 8, \"Cumulative_Percentage\": 93.80727623509956}, {\"Column\": \"F15MS\", \"Zero_Crossings\": 1164, \"Legend\": \"F15MS y F16MX\", \"Color\": 10, \"Cumulative_Percentage\": 95.81237511196858}, {\"Column\": \"F18MX\", \"Zero_Crossings\": 1076, \"Legend\": \"F17MS y F18MX\", \"Color\": 9, \"Cumulative_Percentage\": 97.66588575759664}, {\"Column\": \"F20MH\", \"Zero_Crossings\": 915, \"Legend\": \"F19MH y F20MH\", \"Color\": 11, \"Cumulative_Percentage\": 99.24205884379522}, {\"Column\": \"04_M\", \"Zero_Crossings\": 197, \"Legend\": \"03_D y 04_M\", \"Color\": 15, \"Cumulative_Percentage\": 99.58140977055055}, {\"Column\": \"02_A\", \"Zero_Crossings\": 174, \"Legend\": \"01_C y 02_A\", \"Color\": 14, \"Cumulative_Percentage\": 99.8811410459588}, {\"Column\": \"03_D\", \"Zero_Crossings\": 38, \"Legend\": \"03_D y 04_M\", \"Color\": 15, \"Cumulative_Percentage\": 99.9465996003583}, {\"Column\": \"01_C\", \"Zero_Crossings\": 31, \"Legend\": \"01_C y 02_A\", \"Color\": 14, \"Cumulative_Percentage\": 100.0}, {\"Column\": \"time\", \"Zero_Crossings\": 0, \"Legend\": null, \"Color\": -1, \"Cumulative_Percentage\": 100.0}], \"data-2e2060358ecffd163ba741c863633c40\": [{\"Cumulative_Percentage\": 80}]}}, {\"mode\": \"vega-lite\"});\n",
       "</script>"
      ],
      "text/plain": [
       "alt.LayerChart(...)"
      ]
     },
     "metadata": {},
     "output_type": "display_data"
    }
   ],
   "source": [
    "# Crear el gráfico de barras\n",
    "bars_P11 = alt.Chart(df_sorted_P11).mark_bar(color='skyblue').encode(\n",
    "    x=alt.X('Column', title='Columnas', sort=None),  # El eje X respeta el orden del DataFrame\n",
    "    y=alt.Y('Zero_Crossings', title='Zero Crossings')\n",
    ").properties(\n",
    "    title=\"Cruces por cero en orden del índice\"\n",
    ")\n",
    "# Crear el gráfico de línea para el porcentaje acumulativo\n",
    "line = alt.Chart(df_sorted_P11).mark_line(color='orange').encode(\n",
    "    x=alt.X('Column', title='Columnas', sort=None), \n",
    "    y=alt.Y('Cumulative_Percentage', title='Cumulative Percentage (%)')\n",
    ")\n",
    "\n",
    "# Puntos en la línea de porcentaje acumulativo\n",
    "points = alt.Chart(df_sorted_P11).mark_point(color='orange').encode(\n",
    "    x=alt.X('Column', title='Columnas', sort=None), \n",
    "    y='Cumulative_Percentage'\n",
    ")\n",
    "\n",
    "# Línea de referencia en el 80%\n",
    "rule = alt.Chart(pd.DataFrame({'Cumulative_Percentage': [80]})).mark_rule(color='grey', strokeDash=[5,5]).encode(\n",
    "    y='Cumulative_Percentage'\n",
    ")\n",
    "\n",
    "# Combinar los gráficos\n",
    "pareto_chart = (bars_P11 + line + points + rule).properties(\n",
    "    title='Pareto Chart of Zero Crossings PACIENTE 11',\n",
    "    width=600,\n",
    "    height=400\n",
    ")\n",
    "\n",
    "pareto_chart.display()\n"
   ]
  },
  {
   "cell_type": "code",
   "execution_count": null,
   "metadata": {},
   "outputs": [
    {
     "data": {
      "image/png": "[encoded data removed]",
      "text/plain": [
       "<Figure size 600x600 with 1 Axes>"
      ]
     },
     "metadata": {},
     "output_type": "display_data"
    }
   ],
   "source": [
    "# Número de variables/categorías\n",
    "num_vars = len(df_sorted_P11)\n",
    "\n",
    "# Ángulos de cada categoría en el radar chart\n",
    "angles = np.linspace(0, 2 * np.pi, num_vars, endpoint=False).tolist()\n",
    "\n",
    "# Repetimos el primer valor al final para cerrar el gráfico\n",
    "values = df_sorted_P11['Zero_Crossings'].tolist()\n",
    "values += values[:1]\n",
    "angles += angles[:1]\n",
    "\n",
    "# Inicializar el gráfico en coordenadas polares\n",
    "fig, ax = plt.subplots(figsize=(6, 6), subplot_kw=dict(polar=True))\n",
    "\n",
    "# Dibujar la línea del gráfico\n",
    "ax.plot(angles, values, color='skyblue', linewidth=2, linestyle='solid')\n",
    "\n",
    "# Rellenar el área\n",
    "ax.fill(angles, values, color='skyblue', alpha=0.4)\n",
    "\n",
    "# Añadir etiquetas para cada categoría\n",
    "ax.set_xticks(angles[:-1])\n",
    "ax.set_xticklabels(df_sorted_P11['Column'])\n",
    "\n",
    "# Ajustar los límites del eje radial y el título\n",
    "ax.set_ylim(0, max(values))\n",
    "plt.title('Radar Chart de Zero Crossings PACIENTE 11', size=15, color='navy', pad=20)\n",
    "\n",
    "plt.show()\n"
   ]
  },
  {
   "cell_type": "code",
   "execution_count": null,
   "metadata": {},
   "outputs": [
    {
     "data": {
      "application/vnd.plotly.v1+json": {
       "config": {
        "plotlyServerURL": "https://plot.ly"
       },
       "data": [
        {
         "fill": "toself",
         "name": "Zero Crossings",
         "r": [
          3018,
          2739,
          1940,
          1855,
          1848,
          1782,
          1738,
          1701,
          1284,
          1210,
          1122,
          1098,
          1070,
          1026,
          998,
          962,
          921,
          781,
          772,
          759,
          742,
          738,
          734,
          733,
          723,
          634,
          612,
          589,
          509,
          68,
          56,
          42,
          20,
          0,
          3018
         ],
         "theta": [
          "AcePr",
          "Acele",
          "Distancia",
          "Des_x",
          "Des_y",
          "Veloc",
          "VelPr",
          "Des_z",
          "F6EES",
          "F12ES",
          "F9EEX",
          "F5EEX",
          "F8EIX",
          "F7EIS",
          "F11EX",
          "F10ES",
          "F19MH",
          "F15MS",
          "F18MX",
          "F14EV",
          "F3EBS",
          "F2EBS",
          "F4EBX",
          "F13EV",
          "Presn",
          "F16MX",
          "F1EBX",
          "F17MS",
          "F20MH",
          "02_A",
          "04_M",
          "03_D",
          "01_C",
          "time",
          "AcePr"
         ],
         "type": "scatterpolar"
        }
       ],
       "layout": {
        "polar": {
         "radialaxis": {
          "range": [
           0,
           3319.8
          ],
          "visible": true
         }
        },
        "showlegend": false,
        "template": {
         "data": {
          "bar": [
           {
            "error_x": {
             "color": "#2a3f5f"
            },
            "error_y": {
             "color": "#2a3f5f"
            },
            "marker": {
             "line": {
              "color": "#E5ECF6",
              "width": 0.5
             },
             "pattern": {
              "fillmode": "overlay",
              "size": 10,
              "solidity": 0.2
             }
            },
            "type": "bar"
           }
          ],
          "barpolar": [
           {
            "marker": {
             "line": {
              "color": "#E5ECF6",
              "width": 0.5
             },
             "pattern": {
              "fillmode": "overlay",
              "size": 10,
              "solidity": 0.2
             }
            },
            "type": "barpolar"
           }
          ],
          "carpet": [
           {
            "aaxis": {
             "endlinecolor": "#2a3f5f",
             "gridcolor": "white",
             "linecolor": "white",
             "minorgridcolor": "white",
             "startlinecolor": "#2a3f5f"
            },
            "baxis": {
             "endlinecolor": "#2a3f5f",
             "gridcolor": "white",
             "linecolor": "white",
             "minorgridcolor": "white",
             "startlinecolor": "#2a3f5f"
            },
            "type": "carpet"
           }
          ],
          "choropleth": [
           {
            "colorbar": {
             "outlinewidth": 0,
             "ticks": ""
            },
            "type": "choropleth"
           }
          ],
          "contour": [
           {
            "colorbar": {
             "outlinewidth": 0,
             "ticks": ""
            },
            "colorscale": [
             [
              0,
              "#0d0887"
             ],
             [
              0.1111111111111111,
              "#46039f"
             ],
             [
              0.2222222222222222,
              "#7201a8"
             ],
             [
              0.3333333333333333,
              "#9c179e"
             ],
             [
              0.4444444444444444,
              "#bd3786"
             ],
             [
              0.5555555555555556,
              "#d8576b"
             ],
             [
              0.6666666666666666,
              "#ed7953"
             ],
             [
              0.7777777777777778,
              "#fb9f3a"
             ],
             [
              0.8888888888888888,
              "#fdca26"
             ],
             [
              1,
              "#f0f921"
             ]
            ],
            "type": "contour"
           }
          ],
          "contourcarpet": [
           {
            "colorbar": {
             "outlinewidth": 0,
             "ticks": ""
            },
            "type": "contourcarpet"
           }
          ],
          "heatmap": [
           {
            "colorbar": {
             "outlinewidth": 0,
             "ticks": ""
            },
            "colorscale": [
             [
              0,
              "#0d0887"
             ],
             [
              0.1111111111111111,
              "#46039f"
             ],
             [
              0.2222222222222222,
              "#7201a8"
             ],
             [
              0.3333333333333333,
              "#9c179e"
             ],
             [
              0.4444444444444444,
              "#bd3786"
             ],
             [
              0.5555555555555556,
              "#d8576b"
             ],
             [
              0.6666666666666666,
              "#ed7953"
             ],
             [
              0.7777777777777778,
              "#fb9f3a"
             ],
             [
              0.8888888888888888,
              "#fdca26"
             ],
             [
              1,
              "#f0f921"
             ]
            ],
            "type": "heatmap"
           }
          ],
          "heatmapgl": [
           {
            "colorbar": {
             "outlinewidth": 0,
             "ticks": ""
            },
            "colorscale": [
             [
              0,
              "#0d0887"
             ],
             [
              0.1111111111111111,
              "#46039f"
             ],
             [
              0.2222222222222222,
              "#7201a8"
             ],
             [
              0.3333333333333333,
              "#9c179e"
             ],
             [
              0.4444444444444444,
              "#bd3786"
             ],
             [
              0.5555555555555556,
              "#d8576b"
             ],
             [
              0.6666666666666666,
              "#ed7953"
             ],
             [
              0.7777777777777778,
              "#fb9f3a"
             ],
             [
              0.8888888888888888,
              "#fdca26"
             ],
             [
              1,
              "#f0f921"
             ]
            ],
            "type": "heatmapgl"
           }
          ],
          "histogram": [
           {
            "marker": {
             "pattern": {
              "fillmode": "overlay",
              "size": 10,
              "solidity": 0.2
             }
            },
            "type": "histogram"
           }
          ],
          "histogram2d": [
           {
            "colorbar": {
             "outlinewidth": 0,
             "ticks": ""
            },
            "colorscale": [
             [
              0,
              "#0d0887"
             ],
             [
              0.1111111111111111,
              "#46039f"
             ],
             [
              0.2222222222222222,
              "#7201a8"
             ],
             [
              0.3333333333333333,
              "#9c179e"
             ],
             [
              0.4444444444444444,
              "#bd3786"
             ],
             [
              0.5555555555555556,
              "#d8576b"
             ],
             [
              0.6666666666666666,
              "#ed7953"
             ],
             [
              0.7777777777777778,
              "#fb9f3a"
             ],
             [
              0.8888888888888888,
              "#fdca26"
             ],
             [
              1,
              "#f0f921"
             ]
            ],
            "type": "histogram2d"
           }
          ],
          "histogram2dcontour": [
           {
            "colorbar": {
             "outlinewidth": 0,
             "ticks": ""
            },
            "colorscale": [
             [
              0,
              "#0d0887"
             ],
             [
              0.1111111111111111,
              "#46039f"
             ],
             [
              0.2222222222222222,
              "#7201a8"
             ],
             [
              0.3333333333333333,
              "#9c179e"
             ],
             [
              0.4444444444444444,
              "#bd3786"
             ],
             [
              0.5555555555555556,
              "#d8576b"
             ],
             [
              0.6666666666666666,
              "#ed7953"
             ],
             [
              0.7777777777777778,
              "#fb9f3a"
             ],
             [
              0.8888888888888888,
              "#fdca26"
             ],
             [
              1,
              "#f0f921"
             ]
            ],
            "type": "histogram2dcontour"
           }
          ],
          "mesh3d": [
           {
            "colorbar": {
             "outlinewidth": 0,
             "ticks": ""
            },
            "type": "mesh3d"
           }
          ],
          "parcoords": [
           {
            "line": {
             "colorbar": {
              "outlinewidth": 0,
              "ticks": ""
             }
            },
            "type": "parcoords"
           }
          ],
          "pie": [
           {
            "automargin": true,
            "type": "pie"
           }
          ],
          "scatter": [
           {
            "fillpattern": {
             "fillmode": "overlay",
             "size": 10,
             "solidity": 0.2
            },
            "type": "scatter"
           }
          ],
          "scatter3d": [
           {
            "line": {
             "colorbar": {
              "outlinewidth": 0,
              "ticks": ""
             }
            },
            "marker": {
             "colorbar": {
              "outlinewidth": 0,
              "ticks": ""
             }
            },
            "type": "scatter3d"
           }
          ],
          "scattercarpet": [
           {
            "marker": {
             "colorbar": {
              "outlinewidth": 0,
              "ticks": ""
             }
            },
            "type": "scattercarpet"
           }
          ],
          "scattergeo": [
           {
            "marker": {
             "colorbar": {
              "outlinewidth": 0,
              "ticks": ""
             }
            },
            "type": "scattergeo"
           }
          ],
          "scattergl": [
           {
            "marker": {
             "colorbar": {
              "outlinewidth": 0,
              "ticks": ""
             }
            },
            "type": "scattergl"
           }
          ],
          "scattermapbox": [
           {
            "marker": {
             "colorbar": {
              "outlinewidth": 0,
              "ticks": ""
             }
            },
            "type": "scattermapbox"
           }
          ],
          "scatterpolar": [
           {
            "marker": {
             "colorbar": {
              "outlinewidth": 0,
              "ticks": ""
             }
            },
            "type": "scatterpolar"
           }
          ],
          "scatterpolargl": [
           {
            "marker": {
             "colorbar": {
              "outlinewidth": 0,
              "ticks": ""
             }
            },
            "type": "scatterpolargl"
           }
          ],
          "scatterternary": [
           {
            "marker": {
             "colorbar": {
              "outlinewidth": 0,
              "ticks": ""
             }
            },
            "type": "scatterternary"
           }
          ],
          "surface": [
           {
            "colorbar": {
             "outlinewidth": 0,
             "ticks": ""
            },
            "colorscale": [
             [
              0,
              "#0d0887"
             ],
             [
              0.1111111111111111,
              "#46039f"
             ],
             [
              0.2222222222222222,
              "#7201a8"
             ],
             [
              0.3333333333333333,
              "#9c179e"
             ],
             [
              0.4444444444444444,
              "#bd3786"
             ],
             [
              0.5555555555555556,
              "#d8576b"
             ],
             [
              0.6666666666666666,
              "#ed7953"
             ],
             [
              0.7777777777777778,
              "#fb9f3a"
             ],
             [
              0.8888888888888888,
              "#fdca26"
             ],
             [
              1,
              "#f0f921"
             ]
            ],
            "type": "surface"
           }
          ],
          "table": [
           {
            "cells": {
             "fill": {
              "color": "#EBF0F8"
             },
             "line": {
              "color": "white"
             }
            },
            "header": {
             "fill": {
              "color": "#C8D4E3"
             },
             "line": {
              "color": "white"
             }
            },
            "type": "table"
           }
          ]
         },
         "layout": {
          "annotationdefaults": {
           "arrowcolor": "#2a3f5f",
           "arrowhead": 0,
           "arrowwidth": 1
          },
          "autotypenumbers": "strict",
          "coloraxis": {
           "colorbar": {
            "outlinewidth": 0,
            "ticks": ""
           }
          },
          "colorscale": {
           "diverging": [
            [
             0,
             "#8e0152"
            ],
            [
             0.1,
             "#c51b7d"
            ],
            [
             0.2,
             "#de77ae"
            ],
            [
             0.3,
             "#f1b6da"
            ],
            [
             0.4,
             "#fde0ef"
            ],
            [
             0.5,
             "#f7f7f7"
            ],
            [
             0.6,
             "#e6f5d0"
            ],
            [
             0.7,
             "#b8e186"
            ],
            [
             0.8,
             "#7fbc41"
            ],
            [
             0.9,
             "#4d9221"
            ],
            [
             1,
             "#276419"
            ]
           ],
           "sequential": [
            [
             0,
             "#0d0887"
            ],
            [
             0.1111111111111111,
             "#46039f"
            ],
            [
             0.2222222222222222,
             "#7201a8"
            ],
            [
             0.3333333333333333,
             "#9c179e"
            ],
            [
             0.4444444444444444,
             "#bd3786"
            ],
            [
             0.5555555555555556,
             "#d8576b"
            ],
            [
             0.6666666666666666,
             "#ed7953"
            ],
            [
             0.7777777777777778,
             "#fb9f3a"
            ],
            [
             0.8888888888888888,
             "#fdca26"
            ],
            [
             1,
             "#f0f921"
            ]
           ],
           "sequentialminus": [
            [
             0,
             "#0d0887"
            ],
            [
             0.1111111111111111,
             "#46039f"
            ],
            [
             0.2222222222222222,
             "#7201a8"
            ],
            [
             0.3333333333333333,
             "#9c179e"
            ],
            [
             0.4444444444444444,
             "#bd3786"
            ],
            [
             0.5555555555555556,
             "#d8576b"
            ],
            [
             0.6666666666666666,
             "#ed7953"
            ],
            [
             0.7777777777777778,
             "#fb9f3a"
            ],
            [
             0.8888888888888888,
             "#fdca26"
            ],
            [
             1,
             "#f0f921"
            ]
           ]
          },
          "colorway": [
           "#636efa",
           "#EF553B",
           "#00cc96",
           "#ab63fa",
           "#FFA15A",
           "#19d3f3",
           "#FF6692",
           "#B6E880",
           "#FF97FF",
           "#FECB52"
          ],
          "font": {
           "color": "#2a3f5f"
          },
          "geo": {
           "bgcolor": "white",
           "lakecolor": "white",
           "landcolor": "#E5ECF6",
           "showlakes": true,
           "showland": true,
           "subunitcolor": "white"
          },
          "hoverlabel": {
           "align": "left"
          },
          "hovermode": "closest",
          "mapbox": {
           "style": "light"
          },
          "paper_bgcolor": "white",
          "plot_bgcolor": "#E5ECF6",
          "polar": {
           "angularaxis": {
            "gridcolor": "white",
            "linecolor": "white",
            "ticks": ""
           },
           "bgcolor": "#E5ECF6",
           "radialaxis": {
            "gridcolor": "white",
            "linecolor": "white",
            "ticks": ""
           }
          },
          "scene": {
           "xaxis": {
            "backgroundcolor": "#E5ECF6",
            "gridcolor": "white",
            "gridwidth": 2,
            "linecolor": "white",
            "showbackground": true,
            "ticks": "",
            "zerolinecolor": "white"
           },
           "yaxis": {
            "backgroundcolor": "#E5ECF6",
            "gridcolor": "white",
            "gridwidth": 2,
            "linecolor": "white",
            "showbackground": true,
            "ticks": "",
            "zerolinecolor": "white"
           },
           "zaxis": {
            "backgroundcolor": "#E5ECF6",
            "gridcolor": "white",
            "gridwidth": 2,
            "linecolor": "white",
            "showbackground": true,
            "ticks": "",
            "zerolinecolor": "white"
           }
          },
          "shapedefaults": {
           "line": {
            "color": "#2a3f5f"
           }
          },
          "ternary": {
           "aaxis": {
            "gridcolor": "white",
            "linecolor": "white",
            "ticks": ""
           },
           "baxis": {
            "gridcolor": "white",
            "linecolor": "white",
            "ticks": ""
           },
           "bgcolor": "#E5ECF6",
           "caxis": {
            "gridcolor": "white",
            "linecolor": "white",
            "ticks": ""
           }
          },
          "title": {
           "x": 0.05
          },
          "xaxis": {
           "automargin": true,
           "gridcolor": "white",
           "linecolor": "white",
           "ticks": "",
           "title": {
            "standoff": 15
           },
           "zerolinecolor": "white",
           "zerolinewidth": 2
          },
          "yaxis": {
           "automargin": true,
           "gridcolor": "white",
           "linecolor": "white",
           "ticks": "",
           "title": {
            "standoff": 15
           },
           "zerolinecolor": "white",
           "zerolinewidth": 2
          }
         }
        },
        "title": {
         "text": "Gráfico de Radar - Zero Crossings por Column"
        }
       }
      }
     },
     "metadata": {},
     "output_type": "display_data"
    }
   ],
   "source": [
    "import plotly.graph_objects as go\n",
    "\n",
    "# Asegúrate de cerrar el ciclo tanto en las etiquetas como en los valores para que el gráfico de radar sea completo.\n",
    "categories = df_sorted_P11['Column'].tolist()\n",
    "values = df_sorted_P11['Zero_Crossings'].tolist()\n",
    "\n",
    "# Añadir el primer valor al final de la lista para cerrar el gráfico\n",
    "categories += [categories[0]]\n",
    "values += [values[0]]\n",
    "\n",
    "fig = go.Figure(data=go.Scatterpolar(\n",
    "    r=values,\n",
    "    theta=categories,\n",
    "    fill='toself',\n",
    "    name='Zero Crossings'\n",
    "))\n",
    "\n",
    "fig.update_layout(\n",
    "    polar=dict(\n",
    "        radialaxis=dict(\n",
    "            visible=True,\n",
    "            range=[0, max(values) * 1.1]  # Ajusta el rango radial un poco por encima del valor máximo\n",
    "        )\n",
    "    ),\n",
    "    showlegend=False,\n",
    "    title='Gráfico de Radar - Zero Crossings por Column PACIENTE 11'\n",
    ")\n",
    "\n",
    "fig.show()\n"
   ]
  }
 ],
 "metadata": {
  "kernelspec": {
   "display_name": "base",
   "language": "python",
   "name": "python3"
  },
  "language_info": {
   "codemirror_mode": {
    "name": "ipython",
    "version": 3
   },
   "file_extension": ".py",
   "mimetype": "text/x-python",
   "name": "python",
   "nbconvert_exporter": "python",
   "pygments_lexer": "ipython3",
   "version": "3.11.9"
  }
 },
 "nbformat": 4,
 "nbformat_minor": 2
}
